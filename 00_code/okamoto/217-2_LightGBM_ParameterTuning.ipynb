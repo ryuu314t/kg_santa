{
 "cells": [
  {
   "cell_type": "code",
   "execution_count": 1,
   "metadata": {},
   "outputs": [
    {
     "name": "stderr",
     "output_type": "stream",
     "text": [
      "/home/ubuntu/anaconda3/lib/python3.6/site-packages/sklearn/cross_validation.py:41: DeprecationWarning: This module was deprecated in version 0.18 in favor of the model_selection module into which all the refactored classes and functions are moved. Also note that the interface of the new CV iterators are different from that of this module. This module will be removed in 0.20.\n",
      "  \"This module will be removed in 0.20.\", DeprecationWarning)\n",
      "/home/ubuntu/anaconda3/lib/python3.6/site-packages/sklearn/grid_search.py:42: DeprecationWarning: This module was deprecated in version 0.18 in favor of the model_selection module into which all the refactored classes and functions are moved. This module will be removed in 0.20.\n",
      "  DeprecationWarning)\n"
     ]
    }
   ],
   "source": [
    "import gc\n",
    "import os\n",
    "import logging\n",
    "import datetime\n",
    "import warnings\n",
    "import numpy as np\n",
    "import pandas as pd\n",
    "import seaborn as sns\n",
    "import lightgbm as lgb\n",
    "import matplotlib.pyplot as plt\n",
    "from sklearn.metrics import mean_squared_error\n",
    "from sklearn.metrics import roc_auc_score, roc_curve\n",
    "from sklearn.model_selection import StratifiedKFold\n",
    "from sklearn.model_selection import ShuffleSplit\n",
    "\n",
    "from sklearn.model_selection import GridSearchCV\n",
    "from sklearn.grid_search import RandomizedSearchCV\n",
    "\n",
    "warnings.filterwarnings('ignore')\n"
   ]
  },
  {
   "cell_type": "markdown",
   "metadata": {},
   "source": [
    "基本変数定義"
   ]
  },
  {
   "cell_type": "code",
   "execution_count": 2,
   "metadata": {},
   "outputs": [],
   "source": [
    "sampling_flg=0 #サンプリング有無をコントロール\n",
    "submit_flg=1 #保存するかをコントロール（サンプリングしない時のみ）\n",
    "\n",
    "SEED=12345\n",
    "sample_num=10000\n",
    "fold_num=5\n",
    "\n",
    "#train関連\n",
    "train_dir='../../02_feature/101_train.csv'\n",
    "train_drop_col=['ID_code', 'target']\n",
    "train_label='target'\n",
    "\n",
    "#test関連\n",
    "test_dir='../../02_feature/101_test.csv'\n",
    "test_drop_col=['ID_code']\n",
    "\n",
    "#結果ファイル関連　nameは自分の名前に変更する\n",
    "train_preds_dir='../../03_predict_train/name_200_LightGBM_train.csv'\n",
    "test_preds_dir='../../04_predict_test/name_200_LightGBM_submission.csv'\n",
    "save_col_name='oof_xgb'\n",
    "\n",
    "sample_submission_dir='../../01_input/sample_submission.csv'\n",
    "submission_target_col_name='target'\n",
    "submission_id_col_name='ID_code'"
   ]
  },
  {
   "cell_type": "markdown",
   "metadata": {},
   "source": [
    "前処理"
   ]
  },
  {
   "cell_type": "code",
   "execution_count": 3,
   "metadata": {},
   "outputs": [],
   "source": [
    "#ロード\n",
    "train_df=pd.read_csv(train_dir)\n",
    "test_df=pd.read_csv(test_dir)"
   ]
  },
  {
   "cell_type": "code",
   "execution_count": 4,
   "metadata": {},
   "outputs": [],
   "source": [
    "#サンプリング\n",
    "if sampling_flg ==1:\n",
    "    train_df=train_df.sample(n=sample_num,random_state=SEED)\n",
    "    test_df=test_df.sample(n=sample_num,random_state=SEED)"
   ]
  },
  {
   "cell_type": "code",
   "execution_count": 5,
   "metadata": {},
   "outputs": [],
   "source": [
    "#x,y作成\n",
    "x_train=train_df.drop(train_drop_col,axis=1)\n",
    "y_train=train_df[train_label]\n",
    "x_test=test_df.drop(test_drop_col,axis=1)"
   ]
  },
  {
   "cell_type": "markdown",
   "metadata": {},
   "source": [
    "モデル実行"
   ]
  },
  {
   "cell_type": "code",
   "execution_count": 6,
   "metadata": {},
   "outputs": [],
   "source": [
    "#model_param\n",
    "param = {\n",
    "        'num_leaves': 2,\n",
    "        'max_bin': 63,\n",
    "        'min_data_in_leaf': 45,\n",
    "        'learning_rate': 0.01,\n",
    "        'min_sum_hessian_in_leaf': 0.000446,\n",
    "        'bagging_fraction': 0.55, \n",
    "        'bagging_freq': 5, \n",
    "        'max_depth': 14,\n",
    "        'save_binary': True,\n",
    "        'seed': 31452,\n",
    "        'feature_fraction_seed': 31415,\n",
    "        'feature_fraction': 0.51,\n",
    "        'bagging_seed': 31415,\n",
    "        'drop_seed': 31415,\n",
    "        'data_random_seed': 31415,\n",
    "        'objective': 'binary',\n",
    "        'boosting_type': 'gbdt',\n",
    "        'verbose': 1,\n",
    "        'metric': 'auc',\n",
    "        'is_unbalance': True,\n",
    "        'boost_from_average': False,\n",
    "    }"
   ]
  },
  {
   "cell_type": "code",
   "execution_count": null,
   "metadata": {},
   "outputs": [
    {
     "name": "stdout",
     "output_type": "stream",
     "text": [
      "\n",
      "\n",
      "Fold 0\n",
      "Training until validation scores don't improve for 2000 rounds.\n",
      "[1000]\ttraining's auc: 0.788647\tvalid_1's auc: 0.783709\n",
      "[2000]\ttraining's auc: 0.826376\tvalid_1's auc: 0.822943\n",
      "[3000]\ttraining's auc: 0.845515\tvalid_1's auc: 0.841539\n",
      "[4000]\ttraining's auc: 0.858012\tvalid_1's auc: 0.853435\n",
      "[5000]\ttraining's auc: 0.86704\tvalid_1's auc: 0.86227\n",
      "[6000]\ttraining's auc: 0.873876\tvalid_1's auc: 0.868273\n",
      "[7000]\ttraining's auc: 0.878857\tvalid_1's auc: 0.872533\n",
      "[8000]\ttraining's auc: 0.883153\tvalid_1's auc: 0.876345\n",
      "[9000]\ttraining's auc: 0.886339\tvalid_1's auc: 0.879241\n",
      "[10000]\ttraining's auc: 0.889181\tvalid_1's auc: 0.881489\n",
      "[11000]\ttraining's auc: 0.891439\tvalid_1's auc: 0.883476\n",
      "[12000]\ttraining's auc: 0.893503\tvalid_1's auc: 0.88512\n",
      "[13000]\ttraining's auc: 0.895194\tvalid_1's auc: 0.886766\n",
      "[14000]\ttraining's auc: 0.896605\tvalid_1's auc: 0.887826\n",
      "[15000]\ttraining's auc: 0.897908\tvalid_1's auc: 0.888975\n",
      "[16000]\ttraining's auc: 0.898984\tvalid_1's auc: 0.889914\n",
      "[17000]\ttraining's auc: 0.900039\tvalid_1's auc: 0.890768\n",
      "[18000]\ttraining's auc: 0.900893\tvalid_1's auc: 0.891511\n",
      "[19000]\ttraining's auc: 0.901796\tvalid_1's auc: 0.892225\n",
      "[20000]\ttraining's auc: 0.90247\tvalid_1's auc: 0.892758\n",
      "[21000]\ttraining's auc: 0.903131\tvalid_1's auc: 0.893294\n",
      "[22000]\ttraining's auc: 0.903736\tvalid_1's auc: 0.893715\n",
      "[23000]\ttraining's auc: 0.904274\tvalid_1's auc: 0.894071\n",
      "[24000]\ttraining's auc: 0.904723\tvalid_1's auc: 0.894363\n",
      "[25000]\ttraining's auc: 0.905106\tvalid_1's auc: 0.894598\n",
      "[26000]\ttraining's auc: 0.905476\tvalid_1's auc: 0.894872\n",
      "[27000]\ttraining's auc: 0.905842\tvalid_1's auc: 0.895102\n",
      "[28000]\ttraining's auc: 0.90621\tvalid_1's auc: 0.895308\n",
      "[29000]\ttraining's auc: 0.906515\tvalid_1's auc: 0.895504\n",
      "[30000]\ttraining's auc: 0.90682\tvalid_1's auc: 0.895649\n",
      "[31000]\ttraining's auc: 0.907065\tvalid_1's auc: 0.895818\n",
      "[32000]\ttraining's auc: 0.907289\tvalid_1's auc: 0.895959\n",
      "[33000]\ttraining's auc: 0.907525\tvalid_1's auc: 0.895996\n",
      "[34000]\ttraining's auc: 0.907725\tvalid_1's auc: 0.896097\n",
      "[35000]\ttraining's auc: 0.907919\tvalid_1's auc: 0.89605\n",
      "[36000]\ttraining's auc: 0.908126\tvalid_1's auc: 0.896089\n",
      "Early stopping, best iteration is:\n",
      "[34291]\ttraining's auc: 0.907791\tvalid_1's auc: 0.896143\n",
      "AUC = 0.8961434593520267\n",
      "\n",
      "\n",
      "Fold 1\n",
      "Training until validation scores don't improve for 2000 rounds.\n",
      "[1000]\ttraining's auc: 0.791682\tvalid_1's auc: 0.782534\n",
      "[2000]\ttraining's auc: 0.826416\tvalid_1's auc: 0.817345\n",
      "[3000]\ttraining's auc: 0.84569\tvalid_1's auc: 0.836657\n",
      "[4000]\ttraining's auc: 0.858259\tvalid_1's auc: 0.849393\n",
      "[5000]\ttraining's auc: 0.867515\tvalid_1's auc: 0.858618\n",
      "[6000]\ttraining's auc: 0.874001\tvalid_1's auc: 0.865219\n",
      "[7000]\ttraining's auc: 0.878841\tvalid_1's auc: 0.870073\n",
      "[8000]\ttraining's auc: 0.88289\tvalid_1's auc: 0.874118\n",
      "[9000]\ttraining's auc: 0.886244\tvalid_1's auc: 0.877176\n",
      "[10000]\ttraining's auc: 0.888948\tvalid_1's auc: 0.879761\n",
      "[11000]\ttraining's auc: 0.891382\tvalid_1's auc: 0.882335\n",
      "[12000]\ttraining's auc: 0.89326\tvalid_1's auc: 0.884121\n",
      "[13000]\ttraining's auc: 0.895099\tvalid_1's auc: 0.88597\n",
      "[14000]\ttraining's auc: 0.896692\tvalid_1's auc: 0.887457\n",
      "[15000]\ttraining's auc: 0.897924\tvalid_1's auc: 0.888449\n",
      "[16000]\ttraining's auc: 0.899086\tvalid_1's auc: 0.889605\n",
      "[17000]\ttraining's auc: 0.900051\tvalid_1's auc: 0.89048\n",
      "[18000]\ttraining's auc: 0.90096\tvalid_1's auc: 0.891343\n",
      "[19000]\ttraining's auc: 0.901809\tvalid_1's auc: 0.891984\n",
      "[20000]\ttraining's auc: 0.902562\tvalid_1's auc: 0.892588\n",
      "[21000]\ttraining's auc: 0.903214\tvalid_1's auc: 0.893103\n",
      "[22000]\ttraining's auc: 0.90382\tvalid_1's auc: 0.893547\n",
      "[23000]\ttraining's auc: 0.904319\tvalid_1's auc: 0.893986\n",
      "[24000]\ttraining's auc: 0.904789\tvalid_1's auc: 0.894319\n",
      "[25000]\ttraining's auc: 0.905216\tvalid_1's auc: 0.894615\n",
      "[26000]\ttraining's auc: 0.905599\tvalid_1's auc: 0.894898\n",
      "[27000]\ttraining's auc: 0.905941\tvalid_1's auc: 0.895067\n",
      "[28000]\ttraining's auc: 0.906303\tvalid_1's auc: 0.895282\n",
      "[29000]\ttraining's auc: 0.906634\tvalid_1's auc: 0.895436\n",
      "[30000]\ttraining's auc: 0.906944\tvalid_1's auc: 0.895576\n",
      "[31000]\ttraining's auc: 0.907202\tvalid_1's auc: 0.895694\n",
      "[32000]\ttraining's auc: 0.907445\tvalid_1's auc: 0.895819\n",
      "[33000]\ttraining's auc: 0.907686\tvalid_1's auc: 0.895886\n",
      "[34000]\ttraining's auc: 0.90792\tvalid_1's auc: 0.895904\n",
      "[35000]\ttraining's auc: 0.908127\tvalid_1's auc: 0.895974\n",
      "[36000]\ttraining's auc: 0.908311\tvalid_1's auc: 0.895933\n",
      "[37000]\ttraining's auc: 0.908475\tvalid_1's auc: 0.89605\n"
     ]
    }
   ],
   "source": [
    "folds = StratifiedKFold(n_splits=fold_num, shuffle=True, random_state=SEED)\n",
    "oof_preds = np.zeros((len(x_train), 1))\n",
    "test_preds = np.zeros((len(x_test), 1))\n",
    "\n",
    "for fold_, (trn_idx, val_idx) in enumerate(folds.split(x_train.values, y_train.values)):\n",
    "    print(\"\\n\")\n",
    "    print(\"Fold {}\".format(fold_))\n",
    "    trn_x,trn_y = x_train.iloc[trn_idx], y_train.iloc[trn_idx]\n",
    "    val_x,val_y = x_train.iloc[val_idx], y_train.iloc[val_idx]\n",
    "    trn_data = lgb.Dataset(trn_x,trn_y)\n",
    "    val_data = lgb.Dataset(val_x,val_y)\n",
    "    \n",
    "    num_round = 50000\n",
    "    clf = lgb.train(param, trn_data, num_round, valid_sets = [trn_data, val_data], verbose_eval=1000, early_stopping_rounds = 2000)\n",
    "    val_pred = clf.predict(val_x, num_iteration=clf.best_iteration)\n",
    "    test_pred = clf.predict(x_test, num_iteration=clf.best_iteration)\n",
    "    \n",
    "    print(\"AUC = {}\".format(roc_auc_score(val_y, val_pred)))\n",
    "    #print(\"val = {}\".format(val_pred)\n",
    "    oof_preds[val_idx, :] = val_pred.reshape((-1, 1))\n",
    "    test_preds += test_pred.reshape((-1, 1))\n",
    "    \n",
    "test_preds /= fold_num\n",
    "roc_score = roc_auc_score(y_train, oof_preds.ravel())\n",
    "print(\"Overall AUC = {}\".format(roc_score))"
   ]
  },
  {
   "cell_type": "code",
   "execution_count": null,
   "metadata": {},
   "outputs": [],
   "source": [
    "#結果保存\n",
    "if (submit_flg ==1 and sampling_flg==0):\n",
    "    series_oof_preds = pd.Series(data=oof_preds[:,0], name=save_col_name, dtype='float')\n",
    "    series_oof_preds.to_csv(train_preds_dir,header=True, index=False)\n",
    "\n",
    "    sample = pd.read_csv(sample_submission_dir)\n",
    "    sample.target = test_preds[:,0].astype(float)\n",
    "    sample.ID_code = test_df['ID_code']\n",
    "    sample.to_csv(test_preds_dir, index=False)\n",
    "    "
   ]
  },
  {
   "cell_type": "code",
   "execution_count": null,
   "metadata": {},
   "outputs": [],
   "source": []
  }
 ],
 "metadata": {
  "kernelspec": {
   "display_name": "Python 3",
   "language": "python",
   "name": "python3"
  },
  "language_info": {
   "codemirror_mode": {
    "name": "ipython",
    "version": 3
   },
   "file_extension": ".py",
   "mimetype": "text/x-python",
   "name": "python",
   "nbconvert_exporter": "python",
   "pygments_lexer": "ipython3",
   "version": "3.6.5"
  }
 },
 "nbformat": 4,
 "nbformat_minor": 2
}
