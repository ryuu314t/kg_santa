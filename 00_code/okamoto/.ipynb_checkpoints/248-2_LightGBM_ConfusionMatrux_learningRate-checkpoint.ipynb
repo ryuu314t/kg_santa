{
 "cells": [
  {
   "cell_type": "code",
   "execution_count": 1,
   "metadata": {
    "collapsed": false
   },
   "outputs": [
    {
     "name": "stderr",
     "output_type": "stream",
     "text": [
      "C:\\Users\\tatsuya.okamoto\\AppData\\Local\\Continuum\\Anaconda3\\lib\\site-packages\\sklearn\\cross_validation.py:44: DeprecationWarning: This module was deprecated in version 0.18 in favor of the model_selection module into which all the refactored classes and functions are moved. Also note that the interface of the new CV iterators are different from that of this module. This module will be removed in 0.20.\n",
      "  \"This module will be removed in 0.20.\", DeprecationWarning)\n",
      "C:\\Users\\tatsuya.okamoto\\AppData\\Local\\Continuum\\Anaconda3\\lib\\site-packages\\sklearn\\grid_search.py:43: DeprecationWarning: This module was deprecated in version 0.18 in favor of the model_selection module into which all the refactored classes and functions are moved. This module will be removed in 0.20.\n",
      "  DeprecationWarning)\n"
     ]
    }
   ],
   "source": [
    "import gc\n",
    "import os\n",
    "import logging\n",
    "import datetime\n",
    "import warnings\n",
    "import numpy as np\n",
    "import pandas as pd\n",
    "import seaborn as sns\n",
    "import lightgbm as lgb\n",
    "import matplotlib.pyplot as plt\n",
    "from sklearn.metrics import mean_squared_error\n",
    "from sklearn.metrics import roc_auc_score, roc_curve\n",
    "from sklearn.model_selection import StratifiedKFold\n",
    "from sklearn.model_selection import ShuffleSplit\n",
    "\n",
    "from sklearn.model_selection import GridSearchCV\n",
    "from sklearn.grid_search import RandomizedSearchCV\n",
    "from sklearn.metrics import confusion_matrix\n",
    "from sklearn.metrics import accuracy_score\n",
    "\n",
    "warnings.filterwarnings('ignore')\n"
   ]
  },
  {
   "cell_type": "markdown",
   "metadata": {},
   "source": [
    "基本変数定義"
   ]
  },
  {
   "cell_type": "code",
   "execution_count": 2,
   "metadata": {
    "collapsed": true
   },
   "outputs": [],
   "source": [
    "sampling_flg=0 #サンプリング有無をコントロール\n",
    "submit_flg=1 #保存するかをコントロール（サンプリングしない時のみ）\n",
    "\n",
    "SEED=12345\n",
    "sample_num=10000\n",
    "fold_num=5\n",
    "\n",
    "#train関連\n",
    "train_dir='../../01_input/train.csv'\n",
    "train_drop_col=['ID_code', 'target']\n",
    "train_label='target'\n",
    "\n",
    "#test関連\n",
    "test_dir='../../01_input/test.csv'\n",
    "test_drop_col=['ID_code']\n",
    "\n",
    "#結果ファイル関連　nameは自分の名前に変更する\n",
    "train_preds_dir='../../03_predict_train/name_200_LightGBM_train.csv'\n",
    "test_preds_dir='../../04_predict_test/name_200_LightGBM_submission.csv'\n",
    "save_col_name='oof_xgb'\n",
    "\n",
    "sample_submission_dir='../../01_input/sample_submission.csv'\n",
    "submission_target_col_name='target'\n",
    "submission_id_col_name='ID_code'"
   ]
  },
  {
   "cell_type": "markdown",
   "metadata": {},
   "source": [
    "前処理"
   ]
  },
  {
   "cell_type": "code",
   "execution_count": 3,
   "metadata": {
    "collapsed": false
   },
   "outputs": [],
   "source": [
    "#ロード\n",
    "train_df=pd.read_csv(train_dir)\n",
    "test_df=pd.read_csv(test_dir)"
   ]
  },
  {
   "cell_type": "code",
   "execution_count": 4,
   "metadata": {
    "collapsed": true
   },
   "outputs": [],
   "source": [
    "#サンプリング\n",
    "if sampling_flg ==1:\n",
    "    train_df=train_df.sample(n=sample_num,random_state=SEED)\n",
    "    test_df=test_df.sample(n=sample_num,random_state=SEED)"
   ]
  },
  {
   "cell_type": "code",
   "execution_count": 5,
   "metadata": {
    "collapsed": true
   },
   "outputs": [],
   "source": [
    "#x,y作成\n",
    "x_train=train_df.drop(train_drop_col,axis=1)\n",
    "y_train=train_df[train_label]\n",
    "x_test=test_df.drop(test_drop_col,axis=1)"
   ]
  },
  {
   "cell_type": "markdown",
   "metadata": {},
   "source": [
    "モデル実行"
   ]
  },
  {
   "cell_type": "code",
   "execution_count": null,
   "metadata": {
    "collapsed": true
   },
   "outputs": [],
   "source": [
    "#model_param\n",
    "param = {\n",
    "    \"objective\" : \"binary\", \n",
    "    \"boost\":\"gbdt\",\n",
    "    \"metric\":\"auc\",\n",
    "    \"boost_from_average\":\"false\",\n",
    "    \"num_threads\":28,\n",
    "    \"learning_rate\" : 0.001,\n",
    "    \"num_leaves\" : 13,\n",
    "    \"max_depth\":-1,\n",
    "    \"tree_learner\" : \"serial\",\n",
    "    \"feature_fraction\" : 0.05,\n",
    "    \"bagging_freq\" : 5,\n",
    "    \"bagging_fraction\" : 0.4,\n",
    "    \"min_data_in_leaf\" : 80,\n",
    "    \"min_sum_hessian_in_leaf\" : 10.0,\n",
    "    \"verbosity\" : 1,\n",
    "    'seed': 44000,\n",
    "    }"
   ]
  },
  {
   "cell_type": "code",
   "execution_count": null,
   "metadata": {
    "collapsed": false
   },
   "outputs": [
    {
     "name": "stdout",
     "output_type": "stream",
     "text": [
      "\n",
      "\n",
      "Fold 0\n",
      "Training until validation scores don't improve for 3000 rounds.\n",
      "[1000]\ttraining's auc: 0.890471\tvalid_1's auc: 0.873275\n",
      "[2000]\ttraining's auc: 0.891555\tvalid_1's auc: 0.87408\n",
      "[3000]\ttraining's auc: 0.893862\tvalid_1's auc: 0.876279\n",
      "[4000]\ttraining's auc: 0.895662\tvalid_1's auc: 0.877936\n",
      "[5000]\ttraining's auc: 0.897017\tvalid_1's auc: 0.879141\n",
      "[6000]\ttraining's auc: 0.898362\tvalid_1's auc: 0.880241\n",
      "[7000]\ttraining's auc: 0.899715\tvalid_1's auc: 0.881482\n",
      "[8000]\ttraining's auc: 0.900958\tvalid_1's auc: 0.882435\n",
      "[9000]\ttraining's auc: 0.90216\tvalid_1's auc: 0.883359\n",
      "[10000]\ttraining's auc: 0.903416\tvalid_1's auc: 0.884303\n",
      "[11000]\ttraining's auc: 0.90462\tvalid_1's auc: 0.885062\n",
      "[12000]\ttraining's auc: 0.905839\tvalid_1's auc: 0.885943\n",
      "[13000]\ttraining's auc: 0.907052\tvalid_1's auc: 0.886709\n",
      "[14000]\ttraining's auc: 0.908167\tvalid_1's auc: 0.887468\n",
      "[15000]\ttraining's auc: 0.90925\tvalid_1's auc: 0.888202\n",
      "[16000]\ttraining's auc: 0.910289\tvalid_1's auc: 0.888942\n",
      "[17000]\ttraining's auc: 0.911279\tvalid_1's auc: 0.889562\n",
      "[18000]\ttraining's auc: 0.912263\tvalid_1's auc: 0.89019\n",
      "[19000]\ttraining's auc: 0.913169\tvalid_1's auc: 0.89075\n",
      "[20000]\ttraining's auc: 0.914105\tvalid_1's auc: 0.891295\n",
      "[21000]\ttraining's auc: 0.915025\tvalid_1's auc: 0.891841\n",
      "[22000]\ttraining's auc: 0.915869\tvalid_1's auc: 0.892322\n",
      "[23000]\ttraining's auc: 0.916717\tvalid_1's auc: 0.89277\n",
      "[24000]\ttraining's auc: 0.917576\tvalid_1's auc: 0.893237\n",
      "[25000]\ttraining's auc: 0.918334\tvalid_1's auc: 0.893641\n",
      "[26000]\ttraining's auc: 0.91908\tvalid_1's auc: 0.894023\n",
      "[27000]\ttraining's auc: 0.919834\tvalid_1's auc: 0.894343\n",
      "[28000]\ttraining's auc: 0.920571\tvalid_1's auc: 0.894697\n",
      "[29000]\ttraining's auc: 0.921266\tvalid_1's auc: 0.895039\n",
      "[30000]\ttraining's auc: 0.921952\tvalid_1's auc: 0.895353\n",
      "[31000]\ttraining's auc: 0.922639\tvalid_1's auc: 0.895656\n",
      "[32000]\ttraining's auc: 0.923308\tvalid_1's auc: 0.895922\n",
      "[33000]\ttraining's auc: 0.923952\tvalid_1's auc: 0.896167\n",
      "[34000]\ttraining's auc: 0.924582\tvalid_1's auc: 0.896419\n",
      "[35000]\ttraining's auc: 0.925213\tvalid_1's auc: 0.896646\n",
      "[36000]\ttraining's auc: 0.925827\tvalid_1's auc: 0.896882\n",
      "[37000]\ttraining's auc: 0.92643\tvalid_1's auc: 0.897099\n",
      "[38000]\ttraining's auc: 0.927021\tvalid_1's auc: 0.897274\n",
      "[39000]\ttraining's auc: 0.927607\tvalid_1's auc: 0.897445\n",
      "[40000]\ttraining's auc: 0.928167\tvalid_1's auc: 0.897615\n",
      "[41000]\ttraining's auc: 0.928726\tvalid_1's auc: 0.897771\n",
      "[42000]\ttraining's auc: 0.929272\tvalid_1's auc: 0.897916\n",
      "[43000]\ttraining's auc: 0.929806\tvalid_1's auc: 0.898075\n",
      "[44000]\ttraining's auc: 0.930325\tvalid_1's auc: 0.898205\n",
      "[45000]\ttraining's auc: 0.93084\tvalid_1's auc: 0.89835\n",
      "[46000]\ttraining's auc: 0.931369\tvalid_1's auc: 0.89849\n",
      "[47000]\ttraining's auc: 0.931888\tvalid_1's auc: 0.898601\n",
      "[48000]\ttraining's auc: 0.932389\tvalid_1's auc: 0.898727\n",
      "[49000]\ttraining's auc: 0.932872\tvalid_1's auc: 0.898821\n",
      "[50000]\ttraining's auc: 0.933348\tvalid_1's auc: 0.898907\n",
      "[51000]\ttraining's auc: 0.933831\tvalid_1's auc: 0.899026\n",
      "[52000]\ttraining's auc: 0.934298\tvalid_1's auc: 0.899095\n",
      "[53000]\ttraining's auc: 0.934765\tvalid_1's auc: 0.899177\n",
      "[54000]\ttraining's auc: 0.935226\tvalid_1's auc: 0.899258\n",
      "[55000]\ttraining's auc: 0.935686\tvalid_1's auc: 0.899305\n",
      "[56000]\ttraining's auc: 0.936152\tvalid_1's auc: 0.899381\n",
      "[57000]\ttraining's auc: 0.9366\tvalid_1's auc: 0.89943\n",
      "[58000]\ttraining's auc: 0.937037\tvalid_1's auc: 0.899485\n",
      "[59000]\ttraining's auc: 0.937479\tvalid_1's auc: 0.899545\n",
      "[60000]\ttraining's auc: 0.937913\tvalid_1's auc: 0.899579\n",
      "[61000]\ttraining's auc: 0.938345\tvalid_1's auc: 0.899623\n",
      "[62000]\ttraining's auc: 0.938768\tvalid_1's auc: 0.899658\n",
      "[63000]\ttraining's auc: 0.939198\tvalid_1's auc: 0.899711\n",
      "[64000]\ttraining's auc: 0.939627\tvalid_1's auc: 0.899745\n",
      "[65000]\ttraining's auc: 0.940048\tvalid_1's auc: 0.899776\n",
      "[66000]\ttraining's auc: 0.940471\tvalid_1's auc: 0.89982\n",
      "[67000]\ttraining's auc: 0.940888\tvalid_1's auc: 0.899855\n",
      "[68000]\ttraining's auc: 0.9413\tvalid_1's auc: 0.899898\n",
      "[69000]\ttraining's auc: 0.941709\tvalid_1's auc: 0.899928\n",
      "[70000]\ttraining's auc: 0.94211\tvalid_1's auc: 0.899964\n",
      "[71000]\ttraining's auc: 0.942517\tvalid_1's auc: 0.899982\n",
      "[72000]\ttraining's auc: 0.942912\tvalid_1's auc: 0.900008\n",
      "[73000]\ttraining's auc: 0.943313\tvalid_1's auc: 0.900039\n",
      "[74000]\ttraining's auc: 0.943715\tvalid_1's auc: 0.900049\n",
      "[75000]\ttraining's auc: 0.944104\tvalid_1's auc: 0.900062\n",
      "[76000]\ttraining's auc: 0.944499\tvalid_1's auc: 0.900075\n",
      "[77000]\ttraining's auc: 0.944889\tvalid_1's auc: 0.900092\n",
      "[78000]\ttraining's auc: 0.94528\tvalid_1's auc: 0.900113\n",
      "[79000]\ttraining's auc: 0.94567\tvalid_1's auc: 0.90013\n",
      "[80000]\ttraining's auc: 0.946058\tvalid_1's auc: 0.900144\n",
      "[81000]\ttraining's auc: 0.946431\tvalid_1's auc: 0.900167\n",
      "[82000]\ttraining's auc: 0.946812\tvalid_1's auc: 0.900172\n",
      "[83000]\ttraining's auc: 0.947184\tvalid_1's auc: 0.900191\n",
      "[84000]\ttraining's auc: 0.94755\tvalid_1's auc: 0.900203\n",
      "[85000]\ttraining's auc: 0.947924\tvalid_1's auc: 0.900215\n",
      "[86000]\ttraining's auc: 0.948293\tvalid_1's auc: 0.900213\n",
      "[87000]\ttraining's auc: 0.948661\tvalid_1's auc: 0.900236\n",
      "[88000]\ttraining's auc: 0.949027\tvalid_1's auc: 0.900259\n",
      "[89000]\ttraining's auc: 0.949394\tvalid_1's auc: 0.900259\n",
      "[90000]\ttraining's auc: 0.949751\tvalid_1's auc: 0.900268\n",
      "[91000]\ttraining's auc: 0.950115\tvalid_1's auc: 0.900289\n",
      "[92000]\ttraining's auc: 0.950475\tvalid_1's auc: 0.900284\n",
      "[93000]\ttraining's auc: 0.950827\tvalid_1's auc: 0.900275\n",
      "[94000]\ttraining's auc: 0.951181\tvalid_1's auc: 0.90029\n",
      "[95000]\ttraining's auc: 0.951535\tvalid_1's auc: 0.900283\n",
      "[96000]\ttraining's auc: 0.951892\tvalid_1's auc: 0.9003\n",
      "[97000]\ttraining's auc: 0.95224\tvalid_1's auc: 0.900311\n",
      "[98000]\ttraining's auc: 0.95259\tvalid_1's auc: 0.900298\n",
      "[99000]\ttraining's auc: 0.952938\tvalid_1's auc: 0.900299\n",
      "Early stopping, best iteration is:\n",
      "[96562]\ttraining's auc: 0.952087\tvalid_1's auc: 0.900311\n"
     ]
    }
   ],
   "source": [
    "folds = StratifiedKFold(n_splits=fold_num, shuffle=True, random_state=SEED)\n",
    "oof_preds = np.zeros((len(x_train), 1))\n",
    "test_preds = np.zeros((len(x_test), 1))\n",
    "\n",
    "for fold_, (trn_idx, val_idx) in enumerate(folds.split(x_train.values, y_train.values)):\n",
    "    print(\"\\n\")\n",
    "    print(\"Fold {}\".format(fold_))\n",
    "    trn_x,trn_y = x_train.iloc[trn_idx], y_train.iloc[trn_idx]\n",
    "    val_x,val_y = x_train.iloc[val_idx], y_train.iloc[val_idx]\n",
    "    trn_data = lgb.Dataset(trn_x,trn_y)\n",
    "    val_data = lgb.Dataset(val_x,val_y)\n",
    "    \n",
    "    num_round = 1000000\n",
    "    clf = lgb.train(param, trn_data, num_round, valid_sets = [trn_data, val_data], verbose_eval=1000, early_stopping_rounds = 3000)\n",
    "    val_pred = clf.predict(val_x, num_iteration=clf.best_iteration)\n",
    "    test_pred = clf.predict(x_test, num_iteration=clf.best_iteration)\n",
    "    \n",
    "    print(\"AUC = {}\".format(roc_auc_score(val_y, val_pred)))\n",
    "    #print(\"val = {}\".format(val_pred)\n",
    "    oof_preds[val_idx, :] = val_pred.reshape((-1, 1))\n",
    "    test_preds += test_pred.reshape((-1, 1))\n",
    "    \n",
    "    print(confusion_matrix(val_y, pd.DataFrame(np.round(val_pred))))\n",
    "    \n",
    "test_preds /= fold_num\n",
    "roc_score = roc_auc_score(y_train, oof_preds.ravel())\n",
    "print(\"Overall AUC = {}\".format(roc_score))\n",
    "print(confusion_matrix(y_train, pd.DataFrame(np.round(oof_preds))))"
   ]
  },
  {
   "cell_type": "code",
   "execution_count": null,
   "metadata": {
    "collapsed": false
   },
   "outputs": [],
   "source": [
    "#結果保存\n",
    "if (submit_flg ==1 and sampling_flg==0):\n",
    "    series_oof_preds = pd.Series(data=oof_preds[:,0], name=save_col_name, dtype='float')\n",
    "    series_oof_preds.to_csv(train_preds_dir,header=True, index=False)\n",
    "\n",
    "    sample = pd.read_csv(sample_submission_dir)\n",
    "    sample.target = test_preds[:,0].astype(float)\n",
    "    sample.ID_code = test_df['ID_code']\n",
    "    sample.to_csv(test_preds_dir, index=False)\n",
    "    "
   ]
  },
  {
   "cell_type": "code",
   "execution_count": null,
   "metadata": {
    "collapsed": true
   },
   "outputs": [],
   "source": []
  }
 ],
 "metadata": {
  "kernelspec": {
   "display_name": "Python 3",
   "language": "python",
   "name": "python3"
  },
  "language_info": {
   "codemirror_mode": {
    "name": "ipython",
    "version": 3
   },
   "file_extension": ".py",
   "mimetype": "text/x-python",
   "name": "python",
   "nbconvert_exporter": "python",
   "pygments_lexer": "ipython3",
   "version": "3.6.0"
  }
 },
 "nbformat": 4,
 "nbformat_minor": 2
}
