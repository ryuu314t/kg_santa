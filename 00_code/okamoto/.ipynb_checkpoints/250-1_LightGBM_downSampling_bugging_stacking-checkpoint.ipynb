{
 "cells": [
  {
   "cell_type": "code",
   "execution_count": 1,
   "metadata": {},
   "outputs": [],
   "source": [
    "import gc\n",
    "import os\n",
    "import logging\n",
    "import datetime\n",
    "import warnings\n",
    "import numpy as np\n",
    "import pandas as pd\n",
    "import seaborn as sns\n",
    "import lightgbm as lgb\n",
    "import matplotlib.pyplot as plt\n",
    "from sklearn.metrics import mean_squared_error\n",
    "from sklearn.metrics import roc_auc_score, roc_curve\n",
    "from sklearn.model_selection import StratifiedKFold\n",
    "from sklearn.model_selection import ShuffleSplit\n",
    "\n",
    "from sklearn.metrics import confusion_matrix\n",
    "from sklearn.metrics import accuracy_score\n",
    "\n",
    "warnings.filterwarnings('ignore')\n"
   ]
  },
  {
   "cell_type": "markdown",
   "metadata": {},
   "source": [
    "基本変数定義"
   ]
  },
  {
   "cell_type": "code",
   "execution_count": 2,
   "metadata": {},
   "outputs": [],
   "source": [
    "sampling_flg=0 #サンプリング有無をコントロール\n",
    "submit_flg=1 #保存するかをコントロール（サンプリングしない時のみ）\n",
    "\n",
    "SEED=12345\n",
    "sample_num=10000\n",
    "fold_num=5\n",
    "\n",
    "#train関連\n",
    "train_dir='../../01_input/train.csv'\n",
    "train_FN_dir='../../03_predict_train/FalseNegative_train.csv'\n",
    "train_drop_col=['ID_code', 'target']\n",
    "train_label='target'\n",
    "\n",
    "#test関連\n",
    "test_dir='../../01_input/test.csv'\n",
    "test_drop_col=['ID_code']\n",
    "\n",
    "#結果ファイル関連　nameは自分の名前に変更する\n",
    "train_preds_dir='../../03_predict_train/oka_250_LightGBM_train.csv'\n",
    "test_preds_dir='../../04_predict_test/oka_250_LightGBM_submission.csv'\n",
    "save_col_name='oof_xgb'\n",
    "\n",
    "sample_submission_dir='../../01_input/sample_submission.csv'\n",
    "submission_target_col_name='target'\n",
    "submission_id_col_name='ID_code'"
   ]
  },
  {
   "cell_type": "markdown",
   "metadata": {},
   "source": [
    "前処理"
   ]
  },
  {
   "cell_type": "code",
   "execution_count": 3,
   "metadata": {},
   "outputs": [],
   "source": [
    "#ロード\n",
    "train_df=pd.read_csv(train_dir)\n",
    "test_df=pd.read_csv(test_dir)\n",
    "train_FN_df=pd.read_csv(train_FN_dir)"
   ]
  },
  {
   "cell_type": "code",
   "execution_count": 4,
   "metadata": {},
   "outputs": [],
   "source": [
    "#サンプリング\n",
    "if sampling_flg ==1:\n",
    "    train_df=train_df.sample(n=sample_num,random_state=SEED)\n",
    "    test_df=test_df.sample(n=sample_num,random_state=SEED)"
   ]
  },
  {
   "cell_type": "code",
   "execution_count": 5,
   "metadata": {},
   "outputs": [],
   "source": [
    "#x,y作成\n",
    "x_train=train_df.drop(train_drop_col,axis=1)\n",
    "y_train=train_df[train_label]\n",
    "x_train_base=train_df.drop(train_drop_col,axis=1)\n",
    "y_train_base=train_df[train_label]\n",
    "x_test=test_df.drop(test_drop_col,axis=1)\n",
    "x_train_col=x_train.columns"
   ]
  },
  {
   "cell_type": "code",
   "execution_count": null,
   "metadata": {},
   "outputs": [],
   "source": []
  },
  {
   "cell_type": "code",
   "execution_count": null,
   "metadata": {},
   "outputs": [],
   "source": []
  },
  {
   "cell_type": "code",
   "execution_count": null,
   "metadata": {},
   "outputs": [],
   "source": []
  },
  {
   "cell_type": "code",
   "execution_count": null,
   "metadata": {},
   "outputs": [],
   "source": []
  },
  {
   "cell_type": "markdown",
   "metadata": {},
   "source": [
    "モデル実行"
   ]
  },
  {
   "cell_type": "code",
   "execution_count": 6,
   "metadata": {},
   "outputs": [],
   "source": [
    "def lgbm(train_x,train_y,test_x,test_y):\n",
    "    #model_param\n",
    "    param = {\n",
    "        \"objective\" : \"binary\", \n",
    "        \"boost\":\"gbdt\",\n",
    "        \"metric\":\"auc\",\n",
    "        \"boost_from_average\":\"false\",\n",
    "        \"num_threads\":28,\n",
    "        \"learning_rate\" : 0.01,\n",
    "        \"num_leaves\" : 13,\n",
    "        \"max_depth\":-1,\n",
    "        \"tree_learner\" : \"serial\",\n",
    "        \"feature_fraction\" : 0.05,\n",
    "        \"bagging_freq\" : 5,\n",
    "        \"bagging_fraction\" : 0.4,\n",
    "        \"min_data_in_leaf\" : 80,\n",
    "        \"min_sum_hessian_in_leaf\" : 10.0,\n",
    "        \"verbosity\" : 1,\n",
    "        'seed': i,\n",
    "        }\n",
    "\n",
    "    trn_data = lgb.Dataset(train_x,train_y)\n",
    "    val_data = lgb.Dataset(test_x,test_y)\n",
    "    \n",
    "    num_round = 1000000\n",
    "    clf = lgb.train(param, trn_data, num_round, valid_sets = [trn_data, val_data], verbose_eval=1000, early_stopping_rounds = 3000)\n",
    "    \n",
    "    val_pred = clf.predict(test_x, num_iteration=clf.best_iteration)\n",
    "    auc_score=roc_auc_score(test_y, val_pred)\n",
    "    print(\"\")\n",
    "    print(\"AUC = {}\".format(auc_score))\n",
    "    print(confusion_matrix(test_y, pd.DataFrame(np.round(val_pred))))\n",
    "    \n",
    "    return val_pred,clf"
   ]
  },
  {
   "cell_type": "code",
   "execution_count": null,
   "metadata": {},
   "outputs": [
    {
     "name": "stdout",
     "output_type": "stream",
     "text": [
      "0\n",
      "Training until validation scores don't improve for 3000 rounds.\n",
      "[1000]\ttraining's auc: 0.965772\tvalid_1's auc: 0.890138\n",
      "[2000]\ttraining's auc: 0.980589\tvalid_1's auc: 0.896433\n",
      "[3000]\ttraining's auc: 0.989815\tvalid_1's auc: 0.898692\n",
      "[4000]\ttraining's auc: 0.995115\tvalid_1's auc: 0.898953\n",
      "[5000]\ttraining's auc: 0.997996\tvalid_1's auc: 0.898826\n",
      "[6000]\ttraining's auc: 0.999379\tvalid_1's auc: 0.898326\n",
      "[7000]\ttraining's auc: 0.999859\tvalid_1's auc: 0.898077\n",
      "Early stopping, best iteration is:\n",
      "[4150]\ttraining's auc: 0.995645\tvalid_1's auc: 0.899123\n",
      "\n",
      "AUC = 0.8991225922021239\n",
      "[[179303    599]\n",
      " [ 15468   4630]]\n",
      "means AUC = 0.8991225922021239\n",
      "[[179303    599]\n",
      " [ 15468   4630]]\n",
      "save done\n",
      "1\n",
      "Training until validation scores don't improve for 3000 rounds.\n",
      "[1000]\ttraining's auc: 0.965528\tvalid_1's auc: 0.889408\n",
      "[2000]\ttraining's auc: 0.980558\tvalid_1's auc: 0.895327\n",
      "[3000]\ttraining's auc: 0.989777\tvalid_1's auc: 0.897445\n",
      "[4000]\ttraining's auc: 0.995029\tvalid_1's auc: 0.897899\n",
      "[5000]\ttraining's auc: 0.998001\tvalid_1's auc: 0.89771\n",
      "[6000]\ttraining's auc: 0.999277\tvalid_1's auc: 0.897323\n",
      "[7000]\ttraining's auc: 0.999784\tvalid_1's auc: 0.896827\n",
      "Early stopping, best iteration is:\n",
      "[4046]\ttraining's auc: 0.995253\tvalid_1's auc: 0.897922\n",
      "\n",
      "AUC = 0.8979221550702434\n",
      "[[179273    629]\n",
      " [ 15454   4644]]\n",
      "means AUC = 0.9105391466661775\n",
      "[[179433    469]\n",
      " [ 15798   4300]]\n",
      "save done\n",
      "2\n",
      "Training until validation scores don't improve for 3000 rounds.\n",
      "[1000]\ttraining's auc: 0.965157\tvalid_1's auc: 0.889586\n",
      "[2000]\ttraining's auc: 0.980252\tvalid_1's auc: 0.895505\n",
      "[3000]\ttraining's auc: 0.989425\tvalid_1's auc: 0.897647\n",
      "[4000]\ttraining's auc: 0.994641\tvalid_1's auc: 0.898247\n",
      "[5000]\ttraining's auc: 0.997604\tvalid_1's auc: 0.89824\n",
      "[6000]\ttraining's auc: 0.999083\tvalid_1's auc: 0.897945\n"
     ]
    }
   ],
   "source": [
    "y_test = np.zeros((len(x_test), 1))\n",
    "y_train_preds = np.zeros((len(x_train), 1))\n",
    "y_test_preds = np.zeros((len(x_test), 1))\n",
    "for i in range(0,10):\n",
    "    print(i)\n",
    "    train_df_sample=train_df.sample(n=len(train_df[train_df['target']==1]),random_state=i)\n",
    "    x_train_sample=train_df_sample.drop(train_drop_col,axis=1)\n",
    "    y_train_sample=train_df_sample[train_label]\n",
    "\n",
    "    y_val_pred,model=lgbm(x_train_sample,y_train_sample,x_train,y_train)\n",
    "    \n",
    "    y_train_pred=model.predict(x_train)\n",
    "    y_test_pred=model.predict(x_test)\n",
    "    \n",
    "    y_train_preds+=y_train_pred.reshape((-1, 1))\n",
    "    y_test_preds+=y_test_pred.reshape((-1, 1))\n",
    "    \n",
    "    y_train_preds_tmp=y_train_preds/(i+1)\n",
    "    y_test_preds_tmp=y_test_preds/(i+1)\n",
    "    print(\"means AUC = {}\".format(roc_auc_score(y_train, y_train_preds_tmp)))\n",
    "    print(confusion_matrix(y_train, pd.DataFrame(np.round(y_train_preds_tmp))))\n",
    "    train_preds_dir='../../03_predict_train/US_train_'+str(i)+'.csv'\n",
    "    test_preds_dir='../../04_predict_test/oka_250_LightGBM_test_'+str(i)+'.csv'\n",
    "    \n",
    "    pd.DataFrame(y_train_pred).to_csv(train_preds_dir, index=False)\n",
    "    pd.DataFrame(y_test_pred).to_csv(test_preds_dir, index=False)\n",
    "    print('save done')\n",
    "\n",
    "print(\"Over All AUC = {}\".format(roc_auc_score(y_train, y_train_preds_tmp)))\n",
    "    "
   ]
  },
  {
   "cell_type": "code",
   "execution_count": null,
   "metadata": {},
   "outputs": [],
   "source": []
  }
 ],
 "metadata": {
  "kernelspec": {
   "display_name": "Python 3",
   "language": "python",
   "name": "python3"
  },
  "language_info": {
   "codemirror_mode": {
    "name": "ipython",
    "version": 3
   },
   "file_extension": ".py",
   "mimetype": "text/x-python",
   "name": "python",
   "nbconvert_exporter": "python",
   "pygments_lexer": "ipython3",
   "version": "3.6.5"
  }
 },
 "nbformat": 4,
 "nbformat_minor": 2
}
