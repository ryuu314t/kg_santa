{
 "cells": [
  {
   "cell_type": "code",
   "execution_count": null,
   "metadata": {
    "_cell_guid": "b1076dfc-b9ad-4769-8c92-a6c4dae69d19",
    "_uuid": "8f2839f25d086af736a60e9eeb907d3b93b6e0e5",
    "collapsed": true
   },
   "outputs": [],
   "source": [
    "import numpy as np \n",
    "import pandas as pd \n",
    "import gc\n",
    "import seaborn as sns\n",
    "import matplotlib.pyplot as plt\n",
    "import warnings\n",
    "warnings.filterwarnings('ignore')\n",
    "from sklearn.model_selection import StratifiedKFold\n",
    "from sklearn.metrics import roc_auc_score, f1_score, cohen_kappa_score, precision_score, recall_score, confusion_matrix\n",
    "import xgboost as xgb"
   ]
  },
  {
   "cell_type": "code",
   "execution_count": null,
   "metadata": {
    "_uuid": "b5b6ee764a85b28ff5aa8b5ae1abc59a813379f7",
    "collapsed": true
   },
   "outputs": [],
   "source": [
    "train_df = pd.read_csv(\"../input/train.csv\")\n",
    "test_df = pd.read_csv(\"../input/test.csv\")"
   ]
  },
  {
   "cell_type": "code",
   "execution_count": null,
   "metadata": {
    "_uuid": "e4eff63ca486fc9a2c9fadf2aa2c2ff22d0d9430",
    "collapsed": true
   },
   "outputs": [],
   "source": [
    "train_df.shape, test_df.shape"
   ]
  },
  {
   "cell_type": "code",
   "execution_count": null,
   "metadata": {
    "_uuid": "6d2e92973b38b3591eae8df97a3055eafec77a8d",
    "collapsed": true
   },
   "outputs": [],
   "source": [
    "train_df.head()"
   ]
  },
  {
   "cell_type": "code",
   "execution_count": null,
   "metadata": {
    "_uuid": "5e0460129fcbfa01086a2e41b8a08ce3c98df2b0",
    "collapsed": true
   },
   "outputs": [],
   "source": [
    "train_cols = [c for c in train_df.columns if c not in [\"ID_code\", \"target\"]]\n",
    "y_train = train_df[\"target\"]"
   ]
  },
  {
   "cell_type": "code",
   "execution_count": null,
   "metadata": {
    "_uuid": "77673654f0bb8de8450ff6ced108276145c43ddb",
    "collapsed": true
   },
   "outputs": [],
   "source": [
    "y_train.value_counts()"
   ]
  },
  {
   "cell_type": "code",
   "execution_count": null,
   "metadata": {
    "_uuid": "69cc8d5ce212df429caaca267cffaa0cc850730c",
    "collapsed": true
   },
   "outputs": [],
   "source": [
    "folds = StratifiedKFold(n_splits=5, shuffle=True, random_state=1001)"
   ]
  },
  {
   "cell_type": "code",
   "execution_count": null,
   "metadata": {
    "_uuid": "95cf1b2a7929950096dc3c1e383cc3f8b89dcc35",
    "collapsed": true
   },
   "outputs": [],
   "source": [
    "# bayesian hpo\n",
    "# details: https://xgboost.readthedocs.io/en/latest/parameter.html\n",
    "params = {'tree_method': 'hist',\n",
    " 'objective': 'binary:logistic',\n",
    " 'eval_metric': 'auc',\n",
    " 'learning_rate': 0.0936165921314771,\n",
    " 'max_depth': 2,\n",
    " 'colsample_bytree': 0.3561271102144279,\n",
    " 'subsample': 0.8246604621518232,\n",
    " 'min_child_weight': 53,\n",
    " 'gamma': 9.943467991283027,\n",
    " 'silent': 1}"
   ]
  },
  {
   "cell_type": "code",
   "execution_count": null,
   "metadata": {
    "_uuid": "bdc41dce0eddedd0f06e830fecad715b9f484b1b",
    "collapsed": true,
    "scrolled": true
   },
   "outputs": [],
   "source": [
    "\n",
    "%%time\n",
    "\n",
    "oof_preds = np.zeros(train_df.shape[0])\n",
    "sub_preds = np.zeros(test_df.shape[0])\n",
    "\n",
    "feature_importance_df = pd.DataFrame()\n",
    "\n",
    "for n_fold, (trn_idx, val_idx) in enumerate(folds.split(train_df, y_train)):\n",
    "    \n",
    "    trn_x, trn_y = train_df[train_cols].iloc[trn_idx], y_train.iloc[trn_idx]\n",
    "    val_x, val_y = train_df[train_cols].iloc[val_idx], y_train.iloc[val_idx]\n",
    "    \n",
    "    dtrain = xgb.DMatrix(trn_x, trn_y, feature_names=trn_x.columns)\n",
    "    dval = xgb.DMatrix(val_x, val_y, feature_names=val_x.columns)\n",
    "    \n",
    "    clf = xgb.train(params=params, dtrain=dtrain, num_boost_round=4000, evals=[(dtrain, \"Train\"), (dval, \"Val\")],\n",
    "        verbose_eval= 100, early_stopping_rounds=50) \n",
    "    \n",
    "    oof_preds[val_idx] = clf.predict(xgb.DMatrix(val_x))\n",
    "    sub_preds += clf.predict(xgb.DMatrix(test_df[train_cols])) / folds.n_splits\n",
    "\n",
    "    fold_importance_df = pd.DataFrame()\n",
    "    fold_importance_df[\"feature\"] = pd.DataFrame.from_dict(data=clf.get_fscore(), orient=\"index\", columns=[\"FScore\"])[\"FScore\"].index\n",
    "    fold_importance_df[\"fscore\"] = pd.DataFrame.from_dict(data=clf.get_fscore(), orient=\"index\", columns=[\"FScore\"])[\"FScore\"].values\n",
    "    fold_importance_df[\"fold\"] = n_fold + 1\n",
    "    feature_importance_df = pd.concat([feature_importance_df, fold_importance_df], axis=0)\n",
    "\n",
    "    print('\\nFold %1d AUC %.6f & std %.6f' %(n_fold + 1, roc_auc_score(val_y, oof_preds[val_idx]), np.std([oof_preds[val_idx]])))\n",
    "    print('Fold %1d Precision %.6f' %(n_fold + 1, precision_score(val_y, np.round(oof_preds[val_idx])) ))\n",
    "    print('Fold %1d Recall %.6f' %(n_fold + 1, recall_score(val_y, np.round(oof_preds[val_idx]) )))\n",
    "    print('Fold %1d F1 score %.6f' % (n_fold + 1,f1_score(val_y, np.round(oof_preds[val_idx]))))\n",
    "    print('Fold %1d Kappa score %.6f\\n' % (n_fold + 1,cohen_kappa_score(val_y, np.round(oof_preds[val_idx]))))\n",
    "    gc.collect()\n",
    "\n",
    "print('\\nCV AUC score %.6f & std %.6f' % (roc_auc_score(y_train, oof_preds), np.std((oof_preds))))\n",
    "print('CV Precision score %.6f' % (precision_score(y_train, np.round(oof_preds))))\n",
    "print('CV Recall score %.6f' % (recall_score(y_train, np.round(oof_preds))))\n",
    "print('CV F1 score %.6f' % (f1_score(y_train, np.round(oof_preds))))\n",
    "print('CV Kappa score %.6f' % (cohen_kappa_score(y_train, np.round(oof_preds))))"
   ]
  },
  {
   "cell_type": "code",
   "execution_count": null,
   "metadata": {
    "_uuid": "1b8652d61302c639f94a7ea8af09caef01fee5f1",
    "collapsed": true
   },
   "outputs": [],
   "source": [
    "print(confusion_matrix(y_train, np.round(oof_preds)))"
   ]
  },
  {
   "cell_type": "code",
   "execution_count": null,
   "metadata": {
    "_uuid": "97512cff27f28d4efba06b7f63838d5f6c8c25c4",
    "collapsed": true
   },
   "outputs": [],
   "source": [
    "fig, ax = plt.subplots(1,1,figsize=(10,12)) \n",
    "xgb.plot_importance(clf, max_num_features=20, ax=ax)  "
   ]
  },
  {
   "cell_type": "code",
   "execution_count": null,
   "metadata": {
    "_uuid": "07e341e383313afe1126cf12135825c44eb714fa",
    "collapsed": true
   },
   "outputs": [],
   "source": [
    "fig, ax = plt.subplots(1,1,figsize=(10,12)) \n",
    "xgb.plot_importance(clf, max_num_features=20, ax=ax, importance_type=\"cover\", xlabel=\"Cover\")"
   ]
  },
  {
   "cell_type": "code",
   "execution_count": null,
   "metadata": {
    "_uuid": "0a1675a0755cc8893403021e8361157b51d3596e",
    "collapsed": true
   },
   "outputs": [],
   "source": [
    "fig, ax = plt.subplots(1,1,figsize=(10,12)) \n",
    "xgb.plot_importance(clf, max_num_features=20, ax=ax, importance_type=\"gain\", xlabel=\"Gain\")"
   ]
  },
  {
   "cell_type": "code",
   "execution_count": null,
   "metadata": {
    "_uuid": "0d842815e7a312e8e26cdc18fa1d95827175fccb",
    "collapsed": true,
    "scrolled": true
   },
   "outputs": [],
   "source": [
    "feature_importance_df.groupby([\"feature\"])[\"fscore\",].mean().sort_values(\"fscore\", ascending=False)"
   ]
  },
  {
   "cell_type": "code",
   "execution_count": null,
   "metadata": {
    "_uuid": "bcf451f4b124d03c89ac7862f4eb422478ca0138",
    "collapsed": true
   },
   "outputs": [],
   "source": [
    "test_df['target'] = sub_preds"
   ]
  },
  {
   "cell_type": "code",
   "execution_count": null,
   "metadata": {
    "_uuid": "bcec032ce48e574608f776da2e30e9f9e83b6adb",
    "collapsed": true
   },
   "outputs": [],
   "source": [
    "test_df.head()"
   ]
  },
  {
   "cell_type": "code",
   "execution_count": null,
   "metadata": {
    "_uuid": "f4e0351e3d1cee6bd415f7f8fad9fe8bfce33ca4",
    "collapsed": true
   },
   "outputs": [],
   "source": [
    "oof_roc = roc_auc_score(y_train, oof_preds)\n",
    "oof_roc "
   ]
  },
  {
   "cell_type": "code",
   "execution_count": null,
   "metadata": {
    "_uuid": "085e131ebbab7b7e6b9922950fc349e20c68812d",
    "collapsed": true
   },
   "outputs": [],
   "source": [
    "ss = pd.DataFrame({\"ID_code\":test_df[\"ID_code\"], \"target\":test_df[\"target\"]})\n",
    "ss.to_csv(\"sant_xgb_%sFold_%.6f.csv\"%(folds.n_splits, oof_roc), index=None)\n",
    "ss.head()"
   ]
  },
  {
   "cell_type": "code",
   "execution_count": null,
   "metadata": {
    "_uuid": "38b84fac9000422b7ec4ca84bb8996918b593e06",
    "collapsed": true
   },
   "outputs": [],
   "source": [
    "ss.describe().T"
   ]
  },
  {
   "cell_type": "code",
   "execution_count": null,
   "metadata": {
    "_uuid": "ad3fc7b634ba35eef89d5f9aae94c91d2d838cfa",
    "collapsed": true
   },
   "outputs": [],
   "source": []
  }
 ],
 "metadata": {
  "kernelspec": {
   "display_name": "Python 3",
   "language": "python",
   "name": "python3"
  },
  "language_info": {
   "codemirror_mode": {
    "name": "ipython",
    "version": 3
   },
   "file_extension": ".py",
   "mimetype": "text/x-python",
   "name": "python",
   "nbconvert_exporter": "python",
   "pygments_lexer": "ipython3",
   "version": "3.6.0"
  }
 },
 "nbformat": 4,
 "nbformat_minor": 1
}
