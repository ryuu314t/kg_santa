{
 "cells": [
  {
   "cell_type": "code",
   "execution_count": 1,
   "metadata": {},
   "outputs": [
    {
     "name": "stderr",
     "output_type": "stream",
     "text": [
      "/home/ubuntu/anaconda3/lib/python3.6/site-packages/sklearn/cross_validation.py:41: DeprecationWarning: This module was deprecated in version 0.18 in favor of the model_selection module into which all the refactored classes and functions are moved. Also note that the interface of the new CV iterators are different from that of this module. This module will be removed in 0.20.\n",
      "  \"This module will be removed in 0.20.\", DeprecationWarning)\n",
      "/home/ubuntu/anaconda3/lib/python3.6/site-packages/sklearn/grid_search.py:42: DeprecationWarning: This module was deprecated in version 0.18 in favor of the model_selection module into which all the refactored classes and functions are moved. This module will be removed in 0.20.\n",
      "  DeprecationWarning)\n"
     ]
    }
   ],
   "source": [
    "import gc\n",
    "import os\n",
    "import logging\n",
    "import datetime\n",
    "import warnings\n",
    "import numpy as np\n",
    "import pandas as pd\n",
    "import seaborn as sns\n",
    "import lightgbm as lgb\n",
    "import matplotlib.pyplot as plt\n",
    "from sklearn.metrics import mean_squared_error\n",
    "from sklearn.metrics import roc_auc_score, roc_curve\n",
    "from sklearn.model_selection import StratifiedKFold\n",
    "from sklearn.model_selection import ShuffleSplit\n",
    "\n",
    "from sklearn.model_selection import GridSearchCV\n",
    "from sklearn.grid_search import RandomizedSearchCV\n",
    "\n",
    "warnings.filterwarnings('ignore')\n"
   ]
  },
  {
   "cell_type": "markdown",
   "metadata": {},
   "source": [
    "基本変数定義"
   ]
  },
  {
   "cell_type": "code",
   "execution_count": 2,
   "metadata": {},
   "outputs": [],
   "source": [
    "sampling_flg=0 #サンプリング有無をコントロール\n",
    "submit_flg=1 #保存するかをコントロール（サンプリングしない時のみ）\n",
    "\n",
    "SEED=12345\n",
    "sample_num=10000\n",
    "fold_num=5\n",
    "\n",
    "#train関連\n",
    "train_dir='../../02_feature/101_train.csv'\n",
    "train_drop_col=['ID_code', 'target']\n",
    "train_label='target'\n",
    "\n",
    "#test関連\n",
    "test_dir='../../02_feature/101_test.csv'\n",
    "test_drop_col=['ID_code']\n",
    "\n",
    "#結果ファイル関連　nameは自分の名前に変更する\n",
    "train_preds_dir='../../03_predict_train/name_200_LightGBM_train.csv'\n",
    "test_preds_dir='../../04_predict_test/name_200_LightGBM_submission.csv'\n",
    "save_col_name='oof_xgb'\n",
    "\n",
    "sample_submission_dir='../../01_input/sample_submission.csv'\n",
    "submission_target_col_name='target'\n",
    "submission_id_col_name='ID_code'"
   ]
  },
  {
   "cell_type": "markdown",
   "metadata": {},
   "source": [
    "前処理"
   ]
  },
  {
   "cell_type": "code",
   "execution_count": 3,
   "metadata": {},
   "outputs": [],
   "source": [
    "#ロード\n",
    "train_df=pd.read_csv(train_dir)\n",
    "test_df=pd.read_csv(test_dir)"
   ]
  },
  {
   "cell_type": "code",
   "execution_count": 4,
   "metadata": {},
   "outputs": [],
   "source": [
    "#サンプリング\n",
    "if sampling_flg ==1:\n",
    "    train_df=train_df.sample(n=sample_num,random_state=SEED)\n",
    "    test_df=test_df.sample(n=sample_num,random_state=SEED)"
   ]
  },
  {
   "cell_type": "code",
   "execution_count": 5,
   "metadata": {},
   "outputs": [],
   "source": [
    "#x,y作成\n",
    "x_train=train_df.drop(train_drop_col,axis=1)\n",
    "y_train=train_df[train_label]\n",
    "x_test=test_df.drop(test_drop_col,axis=1)"
   ]
  },
  {
   "cell_type": "markdown",
   "metadata": {},
   "source": [
    "モデル実行"
   ]
  },
  {
   "cell_type": "code",
   "execution_count": 6,
   "metadata": {},
   "outputs": [],
   "source": [
    "#model_param\n",
    "param = {\n",
    "    \"objective\" : \"binary\", \n",
    "    \"boost\":\"gbdt\",\n",
    "    \"metric\":\"auc\",\n",
    "    \"boost_from_average\":\"false\",\n",
    "    \"num_threads\":28,\n",
    "    \"learning_rate\" : 0.01,\n",
    "    \"num_leaves\" : 13,\n",
    "    \"max_depth\":-1,\n",
    "    \"tree_learner\" : \"serial\",\n",
    "    \"feature_fraction\" : 0.05,\n",
    "    \"bagging_freq\" : 5,\n",
    "    \"bagging_fraction\" : 0.4,\n",
    "    \"min_data_in_leaf\" : 80,\n",
    "    \"min_sum_hessian_in_leaf\" : 10.0,\n",
    "    \"verbosity\" : 1,\n",
    "    'seed': 44000,\n",
    "    }"
   ]
  },
  {
   "cell_type": "code",
   "execution_count": 7,
   "metadata": {},
   "outputs": [
    {
     "name": "stdout",
     "output_type": "stream",
     "text": [
      "\n",
      "\n",
      "Fold 0\n",
      "Training until validation scores don't improve for 3000 rounds.\n",
      "[1000]\ttraining's auc: 0.901199\tvalid_1's auc: 0.882752\n",
      "[2000]\ttraining's auc: 0.913425\tvalid_1's auc: 0.890837\n",
      "[3000]\ttraining's auc: 0.921513\tvalid_1's auc: 0.894996\n",
      "[4000]\ttraining's auc: 0.927675\tvalid_1's auc: 0.897233\n",
      "[5000]\ttraining's auc: 0.932874\tvalid_1's auc: 0.898413\n",
      "[6000]\ttraining's auc: 0.937398\tvalid_1's auc: 0.899051\n",
      "[7000]\ttraining's auc: 0.941625\tvalid_1's auc: 0.899364\n",
      "[8000]\ttraining's auc: 0.945556\tvalid_1's auc: 0.89955\n",
      "[9000]\ttraining's auc: 0.949232\tvalid_1's auc: 0.899446\n",
      "[10000]\ttraining's auc: 0.952774\tvalid_1's auc: 0.899479\n",
      "[11000]\ttraining's auc: 0.956202\tvalid_1's auc: 0.899458\n",
      "Early stopping, best iteration is:\n",
      "[8072]\ttraining's auc: 0.945829\tvalid_1's auc: 0.899583\n",
      "AUC = 0.8995833207161159\n",
      "\n",
      "\n",
      "Fold 1\n",
      "Training until validation scores don't improve for 3000 rounds.\n",
      "[1000]\ttraining's auc: 0.901222\tvalid_1's auc: 0.881514\n",
      "[2000]\ttraining's auc: 0.913315\tvalid_1's auc: 0.889988\n",
      "[3000]\ttraining's auc: 0.921409\tvalid_1's auc: 0.894408\n",
      "[4000]\ttraining's auc: 0.927761\tvalid_1's auc: 0.896804\n",
      "[5000]\ttraining's auc: 0.932944\tvalid_1's auc: 0.897977\n",
      "[6000]\ttraining's auc: 0.937531\tvalid_1's auc: 0.898358\n",
      "[7000]\ttraining's auc: 0.941761\tvalid_1's auc: 0.89868\n",
      "[8000]\ttraining's auc: 0.945719\tvalid_1's auc: 0.898824\n",
      "[9000]\ttraining's auc: 0.949446\tvalid_1's auc: 0.898871\n",
      "[10000]\ttraining's auc: 0.953001\tvalid_1's auc: 0.898786\n",
      "[11000]\ttraining's auc: 0.956453\tvalid_1's auc: 0.898656\n",
      "Early stopping, best iteration is:\n",
      "[8352]\ttraining's auc: 0.947026\tvalid_1's auc: 0.898922\n",
      "AUC = 0.898922067907316\n",
      "\n",
      "\n",
      "Fold 2\n",
      "Training until validation scores don't improve for 3000 rounds.\n",
      "[1000]\ttraining's auc: 0.901653\tvalid_1's auc: 0.879984\n",
      "[2000]\ttraining's auc: 0.91324\tvalid_1's auc: 0.888168\n",
      "[3000]\ttraining's auc: 0.921208\tvalid_1's auc: 0.892593\n",
      "[4000]\ttraining's auc: 0.927562\tvalid_1's auc: 0.894863\n",
      "[5000]\ttraining's auc: 0.932817\tvalid_1's auc: 0.896332\n",
      "[6000]\ttraining's auc: 0.937348\tvalid_1's auc: 0.897096\n",
      "[7000]\ttraining's auc: 0.941516\tvalid_1's auc: 0.897554\n",
      "[8000]\ttraining's auc: 0.945538\tvalid_1's auc: 0.897695\n",
      "[9000]\ttraining's auc: 0.949145\tvalid_1's auc: 0.897839\n",
      "[10000]\ttraining's auc: 0.952681\tvalid_1's auc: 0.897806\n",
      "[11000]\ttraining's auc: 0.956081\tvalid_1's auc: 0.897681\n",
      "[12000]\ttraining's auc: 0.95933\tvalid_1's auc: 0.89763\n",
      "Early stopping, best iteration is:\n",
      "[9457]\ttraining's auc: 0.950789\tvalid_1's auc: 0.897941\n",
      "AUC = 0.8979413798157628\n",
      "\n",
      "\n",
      "Fold 3\n",
      "Training until validation scores don't improve for 3000 rounds.\n",
      "[1000]\ttraining's auc: 0.900897\tvalid_1's auc: 0.883257\n",
      "[2000]\ttraining's auc: 0.912816\tvalid_1's auc: 0.890249\n",
      "[3000]\ttraining's auc: 0.921168\tvalid_1's auc: 0.894404\n",
      "[4000]\ttraining's auc: 0.927457\tvalid_1's auc: 0.896366\n",
      "[5000]\ttraining's auc: 0.932748\tvalid_1's auc: 0.897387\n",
      "[6000]\ttraining's auc: 0.93736\tvalid_1's auc: 0.898229\n",
      "[7000]\ttraining's auc: 0.941494\tvalid_1's auc: 0.898577\n",
      "[8000]\ttraining's auc: 0.945411\tvalid_1's auc: 0.89858\n",
      "[9000]\ttraining's auc: 0.949074\tvalid_1's auc: 0.898583\n",
      "[10000]\ttraining's auc: 0.952558\tvalid_1's auc: 0.898534\n",
      "[11000]\ttraining's auc: 0.955952\tvalid_1's auc: 0.898451\n",
      "[12000]\ttraining's auc: 0.959172\tvalid_1's auc: 0.898464\n",
      "Early stopping, best iteration is:\n",
      "[9192]\ttraining's auc: 0.949711\tvalid_1's auc: 0.898669\n",
      "AUC = 0.8986686916966533\n",
      "\n",
      "\n",
      "Fold 4\n",
      "Training until validation scores don't improve for 3000 rounds.\n",
      "[1000]\ttraining's auc: 0.899268\tvalid_1's auc: 0.886091\n",
      "[2000]\ttraining's auc: 0.911507\tvalid_1's auc: 0.895116\n",
      "[3000]\ttraining's auc: 0.919821\tvalid_1's auc: 0.900335\n",
      "[4000]\ttraining's auc: 0.926158\tvalid_1's auc: 0.90301\n",
      "[5000]\ttraining's auc: 0.931365\tvalid_1's auc: 0.90463\n",
      "[6000]\ttraining's auc: 0.935913\tvalid_1's auc: 0.905454\n",
      "[7000]\ttraining's auc: 0.940237\tvalid_1's auc: 0.905776\n",
      "[8000]\ttraining's auc: 0.944193\tvalid_1's auc: 0.906019\n",
      "[9000]\ttraining's auc: 0.947996\tvalid_1's auc: 0.906229\n",
      "[10000]\ttraining's auc: 0.951612\tvalid_1's auc: 0.906222\n",
      "[11000]\ttraining's auc: 0.955093\tvalid_1's auc: 0.906002\n",
      "[12000]\ttraining's auc: 0.958294\tvalid_1's auc: 0.905883\n",
      "Early stopping, best iteration is:\n",
      "[9061]\ttraining's auc: 0.948219\tvalid_1's auc: 0.906284\n",
      "AUC = 0.9062841511159955\n",
      "Overall AUC = 0.9002384051933919\n"
     ]
    }
   ],
   "source": [
    "folds = StratifiedKFold(n_splits=fold_num, shuffle=True, random_state=SEED)\n",
    "oof_preds = np.zeros((len(x_train), 1))\n",
    "test_preds = np.zeros((len(x_test), 1))\n",
    "\n",
    "for fold_, (trn_idx, val_idx) in enumerate(folds.split(x_train.values, y_train.values)):\n",
    "    print(\"\\n\")\n",
    "    print(\"Fold {}\".format(fold_))\n",
    "    trn_x,trn_y = x_train.iloc[trn_idx], y_train.iloc[trn_idx]\n",
    "    val_x,val_y = x_train.iloc[val_idx], y_train.iloc[val_idx]\n",
    "    trn_data = lgb.Dataset(trn_x,trn_y)\n",
    "    val_data = lgb.Dataset(val_x,val_y)\n",
    "    \n",
    "    num_round = 1000000\n",
    "    clf = lgb.train(param, trn_data, num_round, valid_sets = [trn_data, val_data], verbose_eval=1000, early_stopping_rounds = 3000)\n",
    "    val_pred = clf.predict(val_x, num_iteration=clf.best_iteration)\n",
    "    test_pred = clf.predict(x_test, num_iteration=clf.best_iteration)\n",
    "    \n",
    "    print(\"AUC = {}\".format(roc_auc_score(val_y, val_pred)))\n",
    "    #print(\"val = {}\".format(val_pred)\n",
    "    oof_preds[val_idx, :] = val_pred.reshape((-1, 1))\n",
    "    test_preds += test_pred.reshape((-1, 1))\n",
    "    \n",
    "test_preds /= fold_num\n",
    "roc_score = roc_auc_score(y_train, oof_preds.ravel())\n",
    "print(\"Overall AUC = {}\".format(roc_score))"
   ]
  },
  {
   "cell_type": "code",
   "execution_count": 8,
   "metadata": {},
   "outputs": [],
   "source": [
    "#結果保存\n",
    "if (submit_flg ==1 and sampling_flg==0):\n",
    "    series_oof_preds = pd.Series(data=oof_preds[:,0], name=save_col_name, dtype='float')\n",
    "    series_oof_preds.to_csv(train_preds_dir,header=True, index=False)\n",
    "\n",
    "    sample = pd.read_csv(sample_submission_dir)\n",
    "    sample.target = test_preds[:,0].astype(float)\n",
    "    sample.ID_code = test_df['ID_code']\n",
    "    sample.to_csv(test_preds_dir, index=False)\n",
    "    "
   ]
  },
  {
   "cell_type": "code",
   "execution_count": null,
   "metadata": {},
   "outputs": [],
   "source": []
  }
 ],
 "metadata": {
  "kernelspec": {
   "display_name": "Python 3",
   "language": "python",
   "name": "python3"
  },
  "language_info": {
   "codemirror_mode": {
    "name": "ipython",
    "version": 3
   },
   "file_extension": ".py",
   "mimetype": "text/x-python",
   "name": "python",
   "nbconvert_exporter": "python",
   "pygments_lexer": "ipython3",
   "version": "3.6.5"
  }
 },
 "nbformat": 4,
 "nbformat_minor": 2
}
