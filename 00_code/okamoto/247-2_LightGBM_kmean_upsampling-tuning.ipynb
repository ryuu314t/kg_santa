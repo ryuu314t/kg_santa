{
 "cells": [
  {
   "cell_type": "code",
   "execution_count": 1,
   "metadata": {},
   "outputs": [
    {
     "name": "stderr",
     "output_type": "stream",
     "text": [
      "/home/ubuntu/anaconda3/lib/python3.6/site-packages/sklearn/cross_validation.py:41: DeprecationWarning: This module was deprecated in version 0.18 in favor of the model_selection module into which all the refactored classes and functions are moved. Also note that the interface of the new CV iterators are different from that of this module. This module will be removed in 0.20.\n",
      "  \"This module will be removed in 0.20.\", DeprecationWarning)\n",
      "/home/ubuntu/anaconda3/lib/python3.6/site-packages/sklearn/grid_search.py:42: DeprecationWarning: This module was deprecated in version 0.18 in favor of the model_selection module into which all the refactored classes and functions are moved. This module will be removed in 0.20.\n",
      "  DeprecationWarning)\n"
     ]
    }
   ],
   "source": [
    "import gc\n",
    "import os\n",
    "import logging\n",
    "import datetime\n",
    "import warnings\n",
    "import numpy as np\n",
    "import pandas as pd\n",
    "import seaborn as sns\n",
    "import lightgbm as lgb\n",
    "import matplotlib.pyplot as plt\n",
    "from sklearn.metrics import mean_squared_error\n",
    "from sklearn.metrics import roc_auc_score, roc_curve\n",
    "from sklearn.model_selection import StratifiedKFold\n",
    "from sklearn.model_selection import ShuffleSplit\n",
    "\n",
    "from sklearn.model_selection import GridSearchCV\n",
    "from sklearn.grid_search import RandomizedSearchCV\n",
    "\n",
    "from sklearn.cluster import KMeans\n",
    "\n",
    "warnings.filterwarnings('ignore')"
   ]
  },
  {
   "cell_type": "markdown",
   "metadata": {},
   "source": [
    "基本変数定義"
   ]
  },
  {
   "cell_type": "code",
   "execution_count": 2,
   "metadata": {},
   "outputs": [],
   "source": [
    "sampling_flg=0 #サンプリング有無をコントロール\n",
    "submit_flg=1 #保存するかをコントロール（サンプリングしない時のみ）\n",
    "\n",
    "SEED=12345\n",
    "sample_num=1000\n",
    "fold_num=5\n",
    "\n",
    "#train関連\n",
    "train_dir='../../01_input/train.csv'\n",
    "train_drop_col=['ID_code', 'target']\n",
    "train_label='target'\n",
    "\n",
    "#test関連\n",
    "test_dir='../../01_input/test.csv'\n",
    "test_drop_col=['ID_code']\n",
    "\n",
    "#結果ファイル関連　nameは自分の名前に変更する\n",
    "train_preds_dir='../../03_predict_train/name_200_LightGBM_train.csv'\n",
    "test_preds_dir='../../04_predict_test/name_200_LightGBM_submission.csv'\n",
    "save_col_name='oof_xgb'\n",
    "\n",
    "sample_submission_dir='../../01_input/sample_submission.csv'\n",
    "submission_target_col_name='target'\n",
    "submission_id_col_name='ID_code'"
   ]
  },
  {
   "cell_type": "markdown",
   "metadata": {},
   "source": [
    "前処理"
   ]
  },
  {
   "cell_type": "code",
   "execution_count": 3,
   "metadata": {},
   "outputs": [],
   "source": [
    "#ロード\n",
    "train_df=pd.read_csv(train_dir)\n",
    "test_df=pd.read_csv(test_dir)"
   ]
  },
  {
   "cell_type": "code",
   "execution_count": 4,
   "metadata": {},
   "outputs": [],
   "source": [
    "#サンプリング\n",
    "if sampling_flg ==1:\n",
    "    train_df=train_df.sample(n=sample_num,random_state=SEED)\n",
    "    test_df=test_df.sample(n=sample_num,random_state=SEED)\n",
    "    train_df=train_df.reset_index()\n",
    "    test_df=test_df.reset_index()"
   ]
  },
  {
   "cell_type": "code",
   "execution_count": 5,
   "metadata": {},
   "outputs": [],
   "source": [
    "#x,y作成\n",
    "x_train=train_df.drop(train_drop_col,axis=1)\n",
    "y_train=train_df[train_label]\n",
    "x_test=test_df.drop(test_drop_col,axis=1)"
   ]
  },
  {
   "cell_type": "code",
   "execution_count": 6,
   "metadata": {},
   "outputs": [],
   "source": [
    "predict_col=x_train.columns"
   ]
  },
  {
   "cell_type": "markdown",
   "metadata": {},
   "source": [
    "モデル実行"
   ]
  },
  {
   "cell_type": "code",
   "execution_count": null,
   "metadata": {},
   "outputs": [],
   "source": [
    "clf=KMeans(n_clusters=20, init='k-means++', n_init=100, max_iter=10000,\n",
    "                               tol=0.0001,precompute_distances='auto', verbose=0,\n",
    "                               random_state=11111, copy_x=True, n_jobs=1)\n",
    "clf.fit(x_train)\n",
    "pred=clf.predict(x_test)\n",
    "x_test['kmeans']=pred\n",
    "pred=clf.predict(x_train)\n",
    "x_train['kmeans']=pred"
   ]
  },
  {
   "cell_type": "markdown",
   "metadata": {
    "scrolled": true
   },
   "source": [
    "各クラスタの状況確認"
   ]
  },
  {
   "cell_type": "code",
   "execution_count": null,
   "metadata": {},
   "outputs": [],
   "source": [
    "x_check=x_train['kmeans']\n",
    "x_check=pd.concat([x_check,train_df['target']],axis=1)\n",
    "x_check=x_check.head(200000)"
   ]
  },
  {
   "cell_type": "code",
   "execution_count": null,
   "metadata": {},
   "outputs": [],
   "source": [
    "x_check.groupby(['kmeans']).mean()"
   ]
  },
  {
   "cell_type": "code",
   "execution_count": null,
   "metadata": {},
   "outputs": [],
   "source": []
  },
  {
   "cell_type": "code",
   "execution_count": null,
   "metadata": {},
   "outputs": [],
   "source": []
  },
  {
   "cell_type": "code",
   "execution_count": null,
   "metadata": {},
   "outputs": [],
   "source": []
  },
  {
   "cell_type": "code",
   "execution_count": null,
   "metadata": {},
   "outputs": [],
   "source": [
    "def lgbm(train_x,train_y,test_x,test_y):\n",
    "    #model_param\n",
    "    param = {\n",
    "        \"objective\" : \"binary\", \n",
    "        \"boost\":\"gbdt\",\n",
    "        \"metric\":\"auc\",\n",
    "        \"boost_from_average\":\"false\",\n",
    "        \"num_threads\":28,\n",
    "        \"learning_rate\" : 0.01,\n",
    "        \"num_leaves\" : 13,\n",
    "        \"max_depth\":-1,\n",
    "        \"tree_learner\" : \"serial\",\n",
    "        \"feature_fraction\" : 0.05,\n",
    "        \"bagging_freq\" : 5,\n",
    "        \"bagging_fraction\" : 0.4,\n",
    "        \"min_data_in_leaf\" : 80,\n",
    "        \"min_sum_hessian_in_leaf\" : 10.0,\n",
    "        \"verbosity\" : 1,\n",
    "        'seed': i,\n",
    "        }\n",
    "\n",
    "    trn_data = lgb.Dataset(train_x,train_y)\n",
    "    val_data = lgb.Dataset(test_x,test_y)\n",
    "    \n",
    "    num_round = 1000000\n",
    "    clf = lgb.train(param, trn_data, num_round, valid_sets = [trn_data, val_data], verbose_eval=1000, early_stopping_rounds = 3000)\n",
    "    \n",
    "    val_pred = clf.predict(test_x, num_iteration=clf.best_iteration)\n",
    "    auc_score=roc_auc_score(test_y, val_pred)\n",
    "    print(\"\")\n",
    "    print(\"AUC = {}\".format(auc_score))\n",
    "    \n",
    "    return auc_score,clf"
   ]
  },
  {
   "cell_type": "code",
   "execution_count": null,
   "metadata": {},
   "outputs": [],
   "source": [
    "def best_clf(pred_x,pred_y,other_x,other_y):\n",
    "    print(\"\")\n",
    "    print('pred_num='+str(len(pred_x)))\n",
    "    print('other_num='+str(len(other_x)))\n",
    "    max_score=0\n",
    "    best_i=0\n",
    "    print(\"\")\n",
    "    for i in range(0,5):\n",
    "        other_x['target']=other_y\n",
    "        other_x_1=other_x[other_x['target']==1]\n",
    "        other_x_0=other_x[other_x['target']==0]\n",
    "        other_sample_x_0=other_x_0.sample(n=int(len(other_x_0)*0.9),random_state=i)\n",
    "        sample_x_concat=pd.concat([other_sample_x_0,other_x_1])\n",
    "        \n",
    "        other_sample_y=sample_x_concat['target']\n",
    "        other_sample_x=sample_x_concat.drop(['target'],axis=1)\n",
    "        \n",
    "        print(\"\")\n",
    "        print(\"0:\"+str(len(other_sample_x_0)))\n",
    "        print(\"1:\"+str(len(other_x_1)))\n",
    "        print('sample_num='+str(len(other_sample_x)))\n",
    "        score,model=lgbm(other_sample_x,other_sample_y,pred_x,pred_y)\n",
    "        if max_score < score :\n",
    "            max_score=score\n",
    "            pred_model=model\n",
    "            best_i=i\n",
    "    print(\"\")\n",
    "    print('Best Model:'+str(i)+\" Best Score:\"+str(max_score))\n",
    "    return pred_model"
   ]
  },
  {
   "cell_type": "code",
   "execution_count": null,
   "metadata": {},
   "outputs": [],
   "source": [
    "x_train['target']=y_train\n",
    "pred_x=x_train.query('kmeans == 0')\n",
    "other_x=x_train.query('not kmeans == 0')\n",
    "pred_y=pred_x['target']\n",
    "other_y=other_x['target']\n",
    "pred_x=pred_x.drop('target',axis=1)\n",
    "other_x=other_x.drop('target',axis=1)"
   ]
  },
  {
   "cell_type": "code",
   "execution_count": null,
   "metadata": {},
   "outputs": [],
   "source": [
    "y_test = np.zeros((len(x_test), 1))\n",
    "y_train_preds = np.zeros((len(x_train), 1))\n",
    "for i in range(0,10):\n",
    "    print(\"\")\n",
    "    print(\"kmeans:\"+str(i))\n",
    "    x_train['target']=y_train\n",
    "    pred_x=x_train.query('kmeans =='+str(i))\n",
    "    other_x=x_train.query('not kmeans =='+str(i))\n",
    "    pred_y=pred_x['target']\n",
    "    other_y=other_x['target']\n",
    "    pred_x=pred_x.drop('target',axis=1)\n",
    "    other_x=other_x.drop('target',axis=1)\n",
    "    \n",
    "    best_model=best_clf(pred_x,pred_y,other_x,other_y)\n",
    "    \n",
    "    x_test_pred=x_test[x_test['kmeans']==i]\n",
    "    \n",
    "    y_test_pred=best_model.predict(x_test_pred)\n",
    "    y_train_pred=best_model.predict(pred_x)\n",
    "    \n",
    "    x_test_pred_index=x_test_pred.index\n",
    "    x_train_pred_index=pred_x.index\n",
    "    \n",
    "    y_test[x_test_pred_index, :]=y_test_pred.reshape((-1, 1))\n",
    "    y_train_preds[x_train_pred_index, :]=y_train_pred.reshape((-1, 1))\n",
    "\n",
    "print(\"Over All AUC = {}\".format(roc_auc_score(y_train, y_train_preds)))\n",
    "    "
   ]
  },
  {
   "cell_type": "code",
   "execution_count": null,
   "metadata": {},
   "outputs": [],
   "source": [
    "y_test"
   ]
  },
  {
   "cell_type": "code",
   "execution_count": null,
   "metadata": {},
   "outputs": [],
   "source": []
  },
  {
   "cell_type": "code",
   "execution_count": null,
   "metadata": {},
   "outputs": [],
   "source": [
    "#結果保存\n",
    "if (submit_flg ==1 and sampling_flg==0):\n",
    "    sample = pd.read_csv(sample_submission_dir)\n",
    "    sample.target = y_test\n",
    "    sample.ID_code = test_df['ID_code']\n",
    "    sample.to_csv(test_preds_dir, index=False)\n",
    "    "
   ]
  },
  {
   "cell_type": "code",
   "execution_count": null,
   "metadata": {},
   "outputs": [],
   "source": []
  }
 ],
 "metadata": {
  "kernelspec": {
   "display_name": "Python 3",
   "language": "python",
   "name": "python3"
  },
  "language_info": {
   "codemirror_mode": {
    "name": "ipython",
    "version": 3
   },
   "file_extension": ".py",
   "mimetype": "text/x-python",
   "name": "python",
   "nbconvert_exporter": "python",
   "pygments_lexer": "ipython3",
   "version": "3.6.5"
  }
 },
 "nbformat": 4,
 "nbformat_minor": 2
}
