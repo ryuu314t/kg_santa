{
 "cells": [
  {
   "cell_type": "code",
   "execution_count": 1,
   "metadata": {},
   "outputs": [],
   "source": [
    "import gc\n",
    "import os\n",
    "import logging\n",
    "import datetime\n",
    "import warnings\n",
    "import numpy as np\n",
    "import pandas as pd\n",
    "import seaborn as sns\n",
    "import lightgbm as lgb\n",
    "import matplotlib.pyplot as plt\n",
    "from sklearn.metrics import mean_squared_error\n",
    "from sklearn.metrics import roc_auc_score, roc_curve\n",
    "from sklearn.model_selection import StratifiedKFold\n",
    "from sklearn.model_selection import ShuffleSplit\n",
    "\n",
    "from sklearn.metrics import confusion_matrix\n",
    "from sklearn.metrics import accuracy_score\n",
    "\n",
    "warnings.filterwarnings('ignore')\n"
   ]
  },
  {
   "cell_type": "markdown",
   "metadata": {},
   "source": [
    "基本変数定義"
   ]
  },
  {
   "cell_type": "code",
   "execution_count": 2,
   "metadata": {},
   "outputs": [],
   "source": [
    "sampling_flg=0 #サンプリング有無をコントロール\n",
    "submit_flg=1 #保存するかをコントロール（サンプリングしない時のみ）\n",
    "\n",
    "SEED=12345\n",
    "sample_num=10000\n",
    "fold_num=5\n",
    "\n",
    "#train関連\n",
    "train_dir='../../01_input/train.csv'\n",
    "train_mean_dir='../../02_feature/122-2_train_mean.csv'\n",
    "train_drop_col=['ID_code', 'target']\n",
    "train_label='target'\n",
    "\n",
    "#test関連\n",
    "test_dir='../../01_input/test.csv'\n",
    "test_mean_dir='../../02_feature/122-2_test_mean.csv'\n",
    "test_drop_col=['ID_code']\n",
    "\n",
    "#予測結果\n",
    "pred_test_dir='../../04_predict_test/oka_252-2_LightGBM_submission.csv'\n",
    "pred_train_dir='../../03_predict_train/oka_252-2_LightGBM_train.csv'\n",
    "\n",
    "#結果ファイル関連　nameは自分の名前に変更する\n",
    "train_preds_dir='../../03_predict_train/name_254_LightGBM_train.csv'\n",
    "test_preds_dir='../../04_predict_test/name_254_LightGBM_submission.csv'\n",
    "save_col_name='oof_xgb'\n",
    "\n",
    "sample_submission_dir='../../01_input/sample_submission.csv'\n",
    "submission_target_col_name='target'\n",
    "submission_id_col_name='ID_code'"
   ]
  },
  {
   "cell_type": "markdown",
   "metadata": {},
   "source": [
    "前処理"
   ]
  },
  {
   "cell_type": "code",
   "execution_count": 3,
   "metadata": {},
   "outputs": [],
   "source": [
    "#ロード\n",
    "train_df=pd.read_csv(train_dir)\n",
    "test_df=pd.read_csv(test_dir)\n",
    "train_mean_df=pd.read_csv(train_mean_dir,header=None,index_col=0)\n",
    "test_mean_df=pd.read_csv(test_mean_dir,header=None,index_col=0)"
   ]
  },
  {
   "cell_type": "code",
   "execution_count": 4,
   "metadata": {},
   "outputs": [],
   "source": [
    "train_df['mean']=train_mean_df\n",
    "test_df['mean']=test_mean_df"
   ]
  },
  {
   "cell_type": "code",
   "execution_count": 5,
   "metadata": {},
   "outputs": [
    {
     "data": {
      "text/plain": [
       "188945"
      ]
     },
     "execution_count": 5,
     "metadata": {},
     "output_type": "execute_result"
    }
   ],
   "source": [
    "len(train_df[~((train_df['mean']>0.5) & (train_df['target']==0))])"
   ]
  },
  {
   "cell_type": "code",
   "execution_count": 6,
   "metadata": {},
   "outputs": [],
   "source": [
    "#train_df=train_df[~((train_df['mean']>0.5) & (train_df['target']==0))]"
   ]
  },
  {
   "cell_type": "code",
   "execution_count": 7,
   "metadata": {},
   "outputs": [],
   "source": [
    "#x,y作成\n",
    "x_train=train_df.drop(train_drop_col,axis=1)\n",
    "y_train=train_df[train_label]\n",
    "x_test=test_df.drop(test_drop_col,axis=1)"
   ]
  },
  {
   "cell_type": "markdown",
   "metadata": {},
   "source": [
    "モデル実行"
   ]
  },
  {
   "cell_type": "code",
   "execution_count": 8,
   "metadata": {},
   "outputs": [],
   "source": [
    "#model_param\n",
    "param = {\n",
    "    \"objective\" : \"binary\", \n",
    "    \"boost\":\"gbdt\",\n",
    "    \"metric\":\"auc\",\n",
    "    \"boost_from_average\":\"false\",\n",
    "    \"num_threads\":28,\n",
    "    \"learning_rate\" : 0.01,\n",
    "    \"num_leaves\" : 13,\n",
    "    \"max_depth\":-1,\n",
    "    \"tree_learner\" : \"serial\",\n",
    "    \"feature_fraction\" : 0.05,\n",
    "    \"bagging_freq\" : 5,\n",
    "    \"bagging_fraction\" : 0.4,\n",
    "    \"min_data_in_leaf\" : 80,\n",
    "    \"min_sum_hessian_in_leaf\" : 10.0,\n",
    "    \"verbosity\" : 1,\n",
    "    'seed': 44000,\n",
    "    }"
   ]
  },
  {
   "cell_type": "code",
   "execution_count": 9,
   "metadata": {},
   "outputs": [
    {
     "name": "stdout",
     "output_type": "stream",
     "text": [
      "\n",
      "\n",
      "Fold 0\n",
      "Training until validation scores don't improve for 3000 rounds.\n",
      "[1000]\ttraining's auc: 0.907452\tvalid_1's auc: 0.894812\n",
      "[2000]\ttraining's auc: 0.913723\tvalid_1's auc: 0.898009\n",
      "[3000]\ttraining's auc: 0.919372\tvalid_1's auc: 0.898529\n",
      "[4000]\ttraining's auc: 0.924461\tvalid_1's auc: 0.898514\n",
      "[5000]\ttraining's auc: 0.92955\tvalid_1's auc: 0.89836\n",
      "[6000]\ttraining's auc: 0.934353\tvalid_1's auc: 0.898054\n",
      "Early stopping, best iteration is:\n",
      "[3102]\ttraining's auc: 0.919976\tvalid_1's auc: 0.898601\n",
      "AUC = 0.8986013693517902\n",
      "[[35503   478]\n",
      " [ 2537  1483]]\n",
      "\n",
      "\n",
      "Fold 1\n",
      "Training until validation scores don't improve for 3000 rounds.\n",
      "[1000]\ttraining's auc: 0.907141\tvalid_1's auc: 0.894262\n",
      "[2000]\ttraining's auc: 0.913448\tvalid_1's auc: 0.897151\n",
      "[3000]\ttraining's auc: 0.919216\tvalid_1's auc: 0.897585\n",
      "[4000]\ttraining's auc: 0.924444\tvalid_1's auc: 0.897618\n",
      "[5000]\ttraining's auc: 0.929542\tvalid_1's auc: 0.897386\n",
      "[6000]\ttraining's auc: 0.93435\tvalid_1's auc: 0.897317\n",
      "Early stopping, best iteration is:\n",
      "[3535]\ttraining's auc: 0.922115\tvalid_1's auc: 0.897786\n",
      "AUC = 0.8977864561188388\n",
      "[[35496   485]\n",
      " [ 2513  1507]]\n",
      "\n",
      "\n",
      "Fold 2\n",
      "Training until validation scores don't improve for 3000 rounds.\n",
      "[1000]\ttraining's auc: 0.907285\tvalid_1's auc: 0.893253\n",
      "[2000]\ttraining's auc: 0.913652\tvalid_1's auc: 0.896317\n",
      "[3000]\ttraining's auc: 0.919208\tvalid_1's auc: 0.897042\n",
      "[4000]\ttraining's auc: 0.924354\tvalid_1's auc: 0.89706\n",
      "[5000]\ttraining's auc: 0.929441\tvalid_1's auc: 0.897082\n",
      "[6000]\ttraining's auc: 0.934232\tvalid_1's auc: 0.896923\n",
      "Early stopping, best iteration is:\n",
      "[3820]\ttraining's auc: 0.92348\tvalid_1's auc: 0.897107\n",
      "AUC = 0.8971066983039224\n",
      "[[35463   517]\n",
      " [ 2520  1500]]\n",
      "\n",
      "\n",
      "Fold 3\n",
      "Training until validation scores don't improve for 3000 rounds.\n",
      "[1000]\ttraining's auc: 0.906989\tvalid_1's auc: 0.895114\n",
      "[2000]\ttraining's auc: 0.91342\tvalid_1's auc: 0.897796\n",
      "[3000]\ttraining's auc: 0.919156\tvalid_1's auc: 0.898186\n",
      "[4000]\ttraining's auc: 0.924314\tvalid_1's auc: 0.897894\n",
      "[5000]\ttraining's auc: 0.92939\tvalid_1's auc: 0.897695\n",
      "Early stopping, best iteration is:\n",
      "[2366]\ttraining's auc: 0.915443\tvalid_1's auc: 0.898205\n",
      "AUC = 0.8982048789649941\n",
      "[[35550   430]\n",
      " [ 2538  1481]]\n",
      "\n",
      "\n",
      "Fold 4\n",
      "Training until validation scores don't improve for 3000 rounds.\n",
      "[1000]\ttraining's auc: 0.905343\tvalid_1's auc: 0.901023\n",
      "[2000]\ttraining's auc: 0.912074\tvalid_1's auc: 0.904001\n",
      "[3000]\ttraining's auc: 0.917878\tvalid_1's auc: 0.904638\n",
      "[4000]\ttraining's auc: 0.923209\tvalid_1's auc: 0.904823\n",
      "[5000]\ttraining's auc: 0.928394\tvalid_1's auc: 0.904654\n",
      "[6000]\ttraining's auc: 0.933294\tvalid_1's auc: 0.904578\n",
      "[7000]\ttraining's auc: 0.938074\tvalid_1's auc: 0.904461\n",
      "Early stopping, best iteration is:\n",
      "[4032]\ttraining's auc: 0.923342\tvalid_1's auc: 0.904859\n",
      "AUC = 0.9048587027074426\n",
      "[[35500   480]\n",
      " [ 2476  1543]]\n",
      "Overall AUC = 0.8990316975784427\n",
      "[[177512   2390]\n",
      " [ 12584   7514]]\n"
     ]
    }
   ],
   "source": [
    "folds = StratifiedKFold(n_splits=fold_num, shuffle=True, random_state=SEED)\n",
    "oof_preds = np.zeros((len(x_train), 1))\n",
    "test_preds = np.zeros((len(x_test), 1))\n",
    "\n",
    "for fold_, (trn_idx, val_idx) in enumerate(folds.split(x_train.values, y_train.values)):\n",
    "    print(\"\\n\")\n",
    "    print(\"Fold {}\".format(fold_))\n",
    "\n",
    "    trn_x,trn_y = x_train.iloc[trn_idx], y_train.iloc[trn_idx]\n",
    "    val_x,val_y = x_train.iloc[val_idx], y_train.iloc[val_idx]\n",
    "    trn_data = lgb.Dataset(trn_x,trn_y)\n",
    "    val_data = lgb.Dataset(val_x,val_y)\n",
    "    \n",
    "    num_round = 1000000\n",
    "    clf = lgb.train(param, trn_data, num_round, valid_sets = [trn_data, val_data], verbose_eval=1000, early_stopping_rounds = 3000)\n",
    "    val_pred = clf.predict(val_x, num_iteration=clf.best_iteration)\n",
    "    test_pred = clf.predict(x_test, num_iteration=clf.best_iteration)\n",
    "    \n",
    "    print(\"AUC = {}\".format(roc_auc_score(val_y, val_pred)))\n",
    "    #print(\"val = {}\".format(val_pred)\n",
    "    oof_preds[val_idx, :] = val_pred.reshape((-1, 1))\n",
    "    test_preds += test_pred.reshape((-1, 1))\n",
    "    \n",
    "    print(confusion_matrix(val_y, pd.DataFrame(np.round(val_pred))))\n",
    "    \n",
    "test_preds /= fold_num\n",
    "roc_score = roc_auc_score(y_train, oof_preds.ravel())\n",
    "print(\"Overall AUC = {}\".format(roc_score))\n",
    "print(confusion_matrix(y_train, pd.DataFrame(np.round(oof_preds))))"
   ]
  },
  {
   "cell_type": "code",
   "execution_count": 10,
   "metadata": {},
   "outputs": [],
   "source": [
    "#結果保存\n",
    "if (submit_flg ==1 and sampling_flg==0):\n",
    "    series_oof_preds = pd.Series(data=oof_preds[:,0], name=save_col_name, dtype='float')\n",
    "    series_oof_preds.to_csv(train_preds_dir,header=True, index=False)\n",
    "\n",
    "    sample = pd.read_csv(sample_submission_dir)\n",
    "    sample.target = test_preds[:,0].astype(float)\n",
    "    sample.ID_code = test_df['ID_code']\n",
    "    sample.to_csv(test_preds_dir, index=False)\n",
    "    "
   ]
  },
  {
   "cell_type": "code",
   "execution_count": null,
   "metadata": {},
   "outputs": [],
   "source": []
  }
 ],
 "metadata": {
  "kernelspec": {
   "display_name": "Python 3",
   "language": "python",
   "name": "python3"
  },
  "language_info": {
   "codemirror_mode": {
    "name": "ipython",
    "version": 3
   },
   "file_extension": ".py",
   "mimetype": "text/x-python",
   "name": "python",
   "nbconvert_exporter": "python",
   "pygments_lexer": "ipython3",
   "version": "3.6.5"
  }
 },
 "nbformat": 4,
 "nbformat_minor": 2
}
