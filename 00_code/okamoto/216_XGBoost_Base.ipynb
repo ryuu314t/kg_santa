{
 "cells": [
  {
   "cell_type": "code",
   "execution_count": 1,
   "metadata": {
    "collapsed": false
   },
   "outputs": [
    {
     "name": "stderr",
     "output_type": "stream",
     "text": [
      "C:\\Users\\tatsuya.okamoto\\AppData\\Local\\Continuum\\Anaconda3\\lib\\site-packages\\sklearn\\cross_validation.py:44: DeprecationWarning: This module was deprecated in version 0.18 in favor of the model_selection module into which all the refactored classes and functions are moved. Also note that the interface of the new CV iterators are different from that of this module. This module will be removed in 0.20.\n",
      "  \"This module will be removed in 0.20.\", DeprecationWarning)\n",
      "C:\\Users\\tatsuya.okamoto\\AppData\\Local\\Continuum\\Anaconda3\\lib\\site-packages\\sklearn\\grid_search.py:43: DeprecationWarning: This module was deprecated in version 0.18 in favor of the model_selection module into which all the refactored classes and functions are moved. This module will be removed in 0.20.\n",
      "  DeprecationWarning)\n"
     ]
    }
   ],
   "source": [
    "import gc\n",
    "import os\n",
    "import logging\n",
    "import datetime\n",
    "import warnings\n",
    "import numpy as np\n",
    "import pandas as pd\n",
    "import seaborn as sns\n",
    "import xgboost as xgb\n",
    "import matplotlib.pyplot as plt\n",
    "from sklearn.metrics import mean_squared_error\n",
    "from sklearn.metrics import roc_auc_score, roc_curve\n",
    "from sklearn.model_selection import StratifiedKFold\n",
    "from sklearn.model_selection import ShuffleSplit\n",
    "\n",
    "from sklearn.model_selection import GridSearchCV\n",
    "from sklearn.grid_search import RandomizedSearchCV\n",
    "\n",
    "warnings.filterwarnings('ignore')\n"
   ]
  },
  {
   "cell_type": "markdown",
   "metadata": {},
   "source": [
    "基本変数定義"
   ]
  },
  {
   "cell_type": "code",
   "execution_count": 2,
   "metadata": {
    "collapsed": true
   },
   "outputs": [],
   "source": [
    "sampling_flg=0 #サンプリング有無をコントロール\n",
    "submit_flg=1 #保存するかをコントロール（サンプリングしない時のみ）\n",
    "\n",
    "SEED=12345\n",
    "sample_num=10000\n",
    "fold_num=5\n",
    "\n",
    "#train関連\n",
    "train_dir='../../02_feature/101_train.csv'\n",
    "train_drop_col=['ID_code', 'target']\n",
    "train_label='target'\n",
    "\n",
    "#test関連\n",
    "test_dir='../../02_feature/101_test.csv'\n",
    "test_drop_col=['ID_code']\n",
    "\n",
    "#結果ファイル関連　nameは自分の名前に変更する\n",
    "train_preds_dir='../../03_predict_train/oka_216_XGB_train.csv'\n",
    "test_preds_dir='../../04_predict_test/oka_216_XGB_submission.csv'\n",
    "save_col_name='oof_xgb'\n",
    "\n",
    "sample_submission_dir='../../01_input/sample_submission.csv'\n",
    "submission_target_col_name='target'\n",
    "submission_id_col_name='ID_code'"
   ]
  },
  {
   "cell_type": "markdown",
   "metadata": {},
   "source": [
    "前処理"
   ]
  },
  {
   "cell_type": "code",
   "execution_count": 3,
   "metadata": {
    "collapsed": true
   },
   "outputs": [],
   "source": [
    "#ロード\n",
    "train_df=pd.read_csv(train_dir)\n",
    "test_df=pd.read_csv(test_dir)"
   ]
  },
  {
   "cell_type": "code",
   "execution_count": 4,
   "metadata": {
    "collapsed": false
   },
   "outputs": [],
   "source": [
    "#サンプリング\n",
    "if sampling_flg ==1:\n",
    "    train_df=train_df.sample(n=sample_num,random_state=SEED)\n",
    "    test_df=test_df.sample(n=sample_num,random_state=SEED)"
   ]
  },
  {
   "cell_type": "code",
   "execution_count": 5,
   "metadata": {
    "collapsed": false
   },
   "outputs": [],
   "source": [
    "#x,y作成\n",
    "x_train=train_df.drop(train_drop_col,axis=1)\n",
    "y_train=train_df[train_label]\n",
    "x_test=test_df.drop(test_drop_col,axis=1)"
   ]
  },
  {
   "cell_type": "markdown",
   "metadata": {},
   "source": [
    "モデル実行"
   ]
  },
  {
   "cell_type": "code",
   "execution_count": 6,
   "metadata": {
    "collapsed": true
   },
   "outputs": [],
   "source": [
    "# bayesian hpo\n",
    "# details: https://xgboost.readthedocs.io/en/latest/parameter.html\n",
    "params = {'tree_method': 'hist',\n",
    " 'objective': 'binary:logistic',\n",
    " 'eval_metric': 'auc',\n",
    " 'learning_rate': 0.0936165921314771,\n",
    " 'max_depth': 2,\n",
    " 'colsample_bytree': 0.3561271102144279,\n",
    " 'subsample': 0.8246604621518232,\n",
    " 'min_child_weight': 53,\n",
    " 'gamma': 9.943467991283027,\n",
    " 'silent': 1}"
   ]
  },
  {
   "cell_type": "code",
   "execution_count": 7,
   "metadata": {
    "collapsed": false
   },
   "outputs": [
    {
     "name": "stdout",
     "output_type": "stream",
     "text": [
      "\n",
      "\n",
      "Fold 0\n",
      "[23:45:45] Tree method is selected to be 'hist', which uses a single updater grow_fast_histmaker.\n",
      "[0]\tTrain-auc:0.561626\tVal-auc:0.552296\n",
      "Multiple eval metrics have been passed: 'Val-auc' will be used for early stopping.\n",
      "\n",
      "Will train until Val-auc hasn't improved in 50 rounds.\n",
      "[100]\tTrain-auc:0.824667\tVal-auc:0.806188\n",
      "[200]\tTrain-auc:0.862426\tVal-auc:0.844805\n",
      "[300]\tTrain-auc:0.880257\tVal-auc:0.861038\n",
      "[400]\tTrain-auc:0.890996\tVal-auc:0.870852\n",
      "[500]\tTrain-auc:0.898001\tVal-auc:0.877206\n",
      "[600]\tTrain-auc:0.903704\tVal-auc:0.882279\n",
      "[700]\tTrain-auc:0.90795\tVal-auc:0.885596\n",
      "[800]\tTrain-auc:0.911492\tVal-auc:0.88812\n",
      "[900]\tTrain-auc:0.914263\tVal-auc:0.889722\n",
      "[1000]\tTrain-auc:0.916428\tVal-auc:0.891334\n",
      "[1100]\tTrain-auc:0.918368\tVal-auc:0.892628\n",
      "[1200]\tTrain-auc:0.919934\tVal-auc:0.893478\n",
      "[1300]\tTrain-auc:0.921375\tVal-auc:0.894293\n",
      "[1400]\tTrain-auc:0.922547\tVal-auc:0.895232\n",
      "Stopping. Best iteration:\n",
      "[1410]\tTrain-auc:0.922691\tVal-auc:0.895302\n",
      "\n",
      "AUC = 0.8952817759953741\n",
      "\n",
      "\n",
      "Fold 1\n",
      "[00:02:37] Tree method is selected to be 'hist', which uses a single updater grow_fast_histmaker.\n",
      "[0]\tTrain-auc:0.550998\tVal-auc:0.546237\n",
      "Multiple eval metrics have been passed: 'Val-auc' will be used for early stopping.\n",
      "\n",
      "Will train until Val-auc hasn't improved in 50 rounds.\n",
      "[100]\tTrain-auc:0.824144\tVal-auc:0.808838\n",
      "[200]\tTrain-auc:0.862179\tVal-auc:0.844488\n",
      "[300]\tTrain-auc:0.880923\tVal-auc:0.861382\n",
      "[400]\tTrain-auc:0.891787\tVal-auc:0.87118\n",
      "[500]\tTrain-auc:0.899008\tVal-auc:0.877514\n",
      "[600]\tTrain-auc:0.904356\tVal-auc:0.881547\n",
      "[700]\tTrain-auc:0.908334\tVal-auc:0.884661\n",
      "[800]\tTrain-auc:0.911653\tVal-auc:0.887846\n",
      "[900]\tTrain-auc:0.914408\tVal-auc:0.889641\n",
      "[1000]\tTrain-auc:0.91654\tVal-auc:0.891222\n",
      "[1100]\tTrain-auc:0.918244\tVal-auc:0.892355\n",
      "[1200]\tTrain-auc:0.919854\tVal-auc:0.893197\n",
      "[1300]\tTrain-auc:0.92126\tVal-auc:0.894094\n",
      "[1400]\tTrain-auc:0.922424\tVal-auc:0.894761\n",
      "[1500]\tTrain-auc:0.923462\tVal-auc:0.895255\n",
      "[1600]\tTrain-auc:0.924359\tVal-auc:0.895595\n",
      "[1700]\tTrain-auc:0.925095\tVal-auc:0.89605\n",
      "[1800]\tTrain-auc:0.925738\tVal-auc:0.896289\n",
      "[1900]\tTrain-auc:0.92629\tVal-auc:0.896492\n",
      "[2000]\tTrain-auc:0.92675\tVal-auc:0.896648\n",
      "Stopping. Best iteration:\n",
      "[1983]\tTrain-auc:0.926685\tVal-auc:0.896683\n",
      "\n",
      "AUC = 0.8966489569329087\n",
      "\n",
      "\n",
      "Fold 2\n",
      "[00:23:14] Tree method is selected to be 'hist', which uses a single updater grow_fast_histmaker.\n",
      "[0]\tTrain-auc:0.554197\tVal-auc:0.551057\n",
      "Multiple eval metrics have been passed: 'Val-auc' will be used for early stopping.\n",
      "\n",
      "Will train until Val-auc hasn't improved in 50 rounds.\n",
      "[100]\tTrain-auc:0.82385\tVal-auc:0.809035\n",
      "[200]\tTrain-auc:0.861291\tVal-auc:0.845242\n",
      "[300]\tTrain-auc:0.880273\tVal-auc:0.862235\n",
      "[400]\tTrain-auc:0.890996\tVal-auc:0.871753\n",
      "[500]\tTrain-auc:0.897856\tVal-auc:0.877546\n",
      "[600]\tTrain-auc:0.903403\tVal-auc:0.882079\n",
      "[700]\tTrain-auc:0.907563\tVal-auc:0.885662\n",
      "[800]\tTrain-auc:0.911028\tVal-auc:0.888066\n",
      "[900]\tTrain-auc:0.913542\tVal-auc:0.88996\n",
      "[1000]\tTrain-auc:0.915957\tVal-auc:0.891627\n",
      "[1100]\tTrain-auc:0.917815\tVal-auc:0.892907\n",
      "[1200]\tTrain-auc:0.919396\tVal-auc:0.894035\n",
      "[1300]\tTrain-auc:0.920871\tVal-auc:0.89501\n",
      "[1400]\tTrain-auc:0.92208\tVal-auc:0.895528\n",
      "[1500]\tTrain-auc:0.923228\tVal-auc:0.89605\n",
      "[1600]\tTrain-auc:0.924051\tVal-auc:0.896387\n",
      "[1700]\tTrain-auc:0.92478\tVal-auc:0.896707\n",
      "[1800]\tTrain-auc:0.925484\tVal-auc:0.896928\n",
      "[1900]\tTrain-auc:0.925965\tVal-auc:0.8972\n",
      "[2000]\tTrain-auc:0.926496\tVal-auc:0.897321\n",
      "[2100]\tTrain-auc:0.926852\tVal-auc:0.897435\n",
      "Stopping. Best iteration:\n",
      "[2110]\tTrain-auc:0.92691\tVal-auc:0.897446\n",
      "\n",
      "AUC = 0.8973183623295418\n",
      "\n",
      "\n",
      "Fold 3\n",
      "[00:42:37] Tree method is selected to be 'hist', which uses a single updater grow_fast_histmaker.\n",
      "[0]\tTrain-auc:0.573048\tVal-auc:0.571808\n",
      "Multiple eval metrics have been passed: 'Val-auc' will be used for early stopping.\n",
      "\n",
      "Will train until Val-auc hasn't improved in 50 rounds.\n",
      "[100]\tTrain-auc:0.824058\tVal-auc:0.812984\n",
      "[200]\tTrain-auc:0.862628\tVal-auc:0.849245\n",
      "[300]\tTrain-auc:0.879385\tVal-auc:0.864322\n",
      "[400]\tTrain-auc:0.891137\tVal-auc:0.875236\n",
      "[500]\tTrain-auc:0.898337\tVal-auc:0.881197\n",
      "[600]\tTrain-auc:0.903714\tVal-auc:0.885763\n",
      "[700]\tTrain-auc:0.907675\tVal-auc:0.888541\n",
      "[800]\tTrain-auc:0.911039\tVal-auc:0.890894\n",
      "[900]\tTrain-auc:0.914014\tVal-auc:0.892995\n",
      "[1000]\tTrain-auc:0.916241\tVal-auc:0.894497\n",
      "[1100]\tTrain-auc:0.918042\tVal-auc:0.895384\n",
      "[1200]\tTrain-auc:0.919653\tVal-auc:0.89635\n",
      "[1300]\tTrain-auc:0.920982\tVal-auc:0.897119\n",
      "[1400]\tTrain-auc:0.922213\tVal-auc:0.897549\n",
      "[1500]\tTrain-auc:0.923182\tVal-auc:0.898022\n",
      "[1600]\tTrain-auc:0.924169\tVal-auc:0.898233\n",
      "[1700]\tTrain-auc:0.924914\tVal-auc:0.898417\n",
      "[1800]\tTrain-auc:0.925565\tVal-auc:0.89868\n",
      "Stopping. Best iteration:\n",
      "[1847]\tTrain-auc:0.925894\tVal-auc:0.898781\n",
      "\n",
      "AUC = 0.8987424726988161\n",
      "\n",
      "\n",
      "Fold 4\n",
      "[01:00:06] Tree method is selected to be 'hist', which uses a single updater grow_fast_histmaker.\n",
      "[0]\tTrain-auc:0.574137\tVal-auc:0.570235\n",
      "Multiple eval metrics have been passed: 'Val-auc' will be used for early stopping.\n",
      "\n",
      "Will train until Val-auc hasn't improved in 50 rounds.\n",
      "[100]\tTrain-auc:0.823835\tVal-auc:0.817487\n",
      "[200]\tTrain-auc:0.86288\tVal-auc:0.850113\n",
      "[300]\tTrain-auc:0.880567\tVal-auc:0.864832\n",
      "[400]\tTrain-auc:0.891039\tVal-auc:0.873662\n",
      "[500]\tTrain-auc:0.898515\tVal-auc:0.879466\n",
      "[600]\tTrain-auc:0.903666\tVal-auc:0.883547\n",
      "[700]\tTrain-auc:0.908244\tVal-auc:0.886602\n",
      "[800]\tTrain-auc:0.911405\tVal-auc:0.888489\n",
      "[900]\tTrain-auc:0.914446\tVal-auc:0.890421\n",
      "[1000]\tTrain-auc:0.916549\tVal-auc:0.891709\n",
      "[1100]\tTrain-auc:0.918503\tVal-auc:0.892548\n",
      "[1200]\tTrain-auc:0.920077\tVal-auc:0.893422\n",
      "[1300]\tTrain-auc:0.921535\tVal-auc:0.894237\n",
      "[1400]\tTrain-auc:0.92264\tVal-auc:0.894623\n",
      "[1500]\tTrain-auc:0.923687\tVal-auc:0.895053\n",
      "[1600]\tTrain-auc:0.924485\tVal-auc:0.895497\n",
      "[1700]\tTrain-auc:0.925238\tVal-auc:0.89583\n",
      "Stopping. Best iteration:\n",
      "[1722]\tTrain-auc:0.92538\tVal-auc:0.895919\n",
      "\n",
      "AUC = 0.8957803960924353\n",
      "Overall AUC = 0.896688616884646\n"
     ]
    }
   ],
   "source": [
    "folds = StratifiedKFold(n_splits=fold_num, shuffle=True, random_state=SEED)\n",
    "oof_preds = np.zeros((len(x_train), 1))\n",
    "test_preds = np.zeros((len(x_test), 1))\n",
    "\n",
    "for fold_, (trn_idx, val_idx) in enumerate(folds.split(x_train.values, y_train.values)):\n",
    "    print(\"\\n\")\n",
    "    print(\"Fold {}\".format(fold_))\n",
    "    trn_x,trn_y = x_train.iloc[trn_idx], y_train.iloc[trn_idx]\n",
    "    val_x,val_y = x_train.iloc[val_idx], y_train.iloc[val_idx]\n",
    "    \n",
    "    dtrain = xgb.DMatrix(trn_x, trn_y, feature_names=trn_x.columns)\n",
    "    dval = xgb.DMatrix(val_x, val_y, feature_names=val_x.columns)\n",
    "    \n",
    "    clf = xgb.train(params=params, dtrain=dtrain, num_boost_round=4000, evals=[(dtrain, \"Train\"), (dval, \"Val\")],\n",
    "        verbose_eval= 100, early_stopping_rounds=50) \n",
    "    \n",
    "    val_pred = clf.predict(xgb.DMatrix(val_x))\n",
    "    oof_preds[val_idx, :] = val_pred.reshape((-1, 1))\n",
    "    test_preds += clf.predict(xgb.DMatrix(x_test)).reshape((-1, 1))\n",
    "\n",
    "    print(\"AUC = {}\".format(roc_auc_score(val_y, val_pred)))\n",
    "        \n",
    "test_preds /= fold_num\n",
    "roc_score = roc_auc_score(y_train, oof_preds.ravel())\n",
    "print(\"Overall AUC = {}\".format(roc_score))"
   ]
  },
  {
   "cell_type": "code",
   "execution_count": 8,
   "metadata": {
    "collapsed": false
   },
   "outputs": [],
   "source": [
    "#結果保存\n",
    "if (submit_flg ==1 and sampling_flg==0):\n",
    "    series_oof_preds = pd.Series(data=oof_preds[:,0], name=save_col_name, dtype='float')\n",
    "    series_oof_preds.to_csv(train_preds_dir,header=True, index=False)\n",
    "\n",
    "    sample = pd.read_csv(sample_submission_dir)\n",
    "    sample.target = test_preds[:,0].astype(float)\n",
    "    sample.ID_code = test_df['ID_code']\n",
    "    sample.to_csv(test_preds_dir, index=False)\n",
    "    "
   ]
  },
  {
   "cell_type": "code",
   "execution_count": null,
   "metadata": {
    "collapsed": true
   },
   "outputs": [],
   "source": []
  }
 ],
 "metadata": {
  "kernelspec": {
   "display_name": "Python 3",
   "language": "python",
   "name": "python3"
  },
  "language_info": {
   "codemirror_mode": {
    "name": "ipython",
    "version": 3
   },
   "file_extension": ".py",
   "mimetype": "text/x-python",
   "name": "python",
   "nbconvert_exporter": "python",
   "pygments_lexer": "ipython3",
   "version": "3.6.0"
  }
 },
 "nbformat": 4,
 "nbformat_minor": 2
}
