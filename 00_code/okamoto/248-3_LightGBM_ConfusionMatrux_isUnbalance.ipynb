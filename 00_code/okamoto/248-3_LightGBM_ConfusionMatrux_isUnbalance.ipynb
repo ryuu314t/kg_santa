{
 "cells": [
  {
   "cell_type": "code",
   "execution_count": 1,
   "metadata": {},
   "outputs": [
    {
     "name": "stderr",
     "output_type": "stream",
     "text": [
      "/home/ubuntu/anaconda3/lib/python3.6/site-packages/sklearn/cross_validation.py:41: DeprecationWarning: This module was deprecated in version 0.18 in favor of the model_selection module into which all the refactored classes and functions are moved. Also note that the interface of the new CV iterators are different from that of this module. This module will be removed in 0.20.\n",
      "  \"This module will be removed in 0.20.\", DeprecationWarning)\n",
      "/home/ubuntu/anaconda3/lib/python3.6/site-packages/sklearn/grid_search.py:42: DeprecationWarning: This module was deprecated in version 0.18 in favor of the model_selection module into which all the refactored classes and functions are moved. This module will be removed in 0.20.\n",
      "  DeprecationWarning)\n"
     ]
    }
   ],
   "source": [
    "import gc\n",
    "import os\n",
    "import logging\n",
    "import datetime\n",
    "import warnings\n",
    "import numpy as np\n",
    "import pandas as pd\n",
    "import seaborn as sns\n",
    "import lightgbm as lgb\n",
    "import matplotlib.pyplot as plt\n",
    "from sklearn.metrics import mean_squared_error\n",
    "from sklearn.metrics import roc_auc_score, roc_curve\n",
    "from sklearn.model_selection import StratifiedKFold\n",
    "from sklearn.model_selection import ShuffleSplit\n",
    "\n",
    "from sklearn.model_selection import GridSearchCV\n",
    "from sklearn.grid_search import RandomizedSearchCV\n",
    "from sklearn.metrics import confusion_matrix\n",
    "from sklearn.metrics import accuracy_score\n",
    "\n",
    "warnings.filterwarnings('ignore')\n"
   ]
  },
  {
   "cell_type": "markdown",
   "metadata": {},
   "source": [
    "基本変数定義"
   ]
  },
  {
   "cell_type": "code",
   "execution_count": 2,
   "metadata": {},
   "outputs": [],
   "source": [
    "sampling_flg=0 #サンプリング有無をコントロール\n",
    "submit_flg=1 #保存するかをコントロール（サンプリングしない時のみ）\n",
    "\n",
    "SEED=12345\n",
    "sample_num=10000\n",
    "fold_num=5\n",
    "\n",
    "#train関連\n",
    "train_dir='../../01_input/train.csv'\n",
    "train_drop_col=['ID_code', 'target']\n",
    "train_label='target'\n",
    "\n",
    "#test関連\n",
    "test_dir='../../01_input/test.csv'\n",
    "test_drop_col=['ID_code']\n",
    "\n",
    "#結果ファイル関連　nameは自分の名前に変更する\n",
    "train_preds_dir='../../03_predict_train/oka_248-2_LightGBM_train.csv'\n",
    "test_preds_dir='../../04_predict_test/oka_248-2_LightGBM_submission.csv'\n",
    "save_col_name='oof_xgb'\n",
    "\n",
    "sample_submission_dir='../../01_input/sample_submission.csv'\n",
    "submission_target_col_name='target'\n",
    "submission_id_col_name='ID_code'"
   ]
  },
  {
   "cell_type": "markdown",
   "metadata": {},
   "source": [
    "前処理"
   ]
  },
  {
   "cell_type": "code",
   "execution_count": 3,
   "metadata": {},
   "outputs": [],
   "source": [
    "#ロード\n",
    "train_df=pd.read_csv(train_dir)\n",
    "test_df=pd.read_csv(test_dir)"
   ]
  },
  {
   "cell_type": "code",
   "execution_count": 4,
   "metadata": {},
   "outputs": [],
   "source": [
    "#サンプリング\n",
    "if sampling_flg ==1:\n",
    "    train_df=train_df.sample(n=sample_num,random_state=SEED)\n",
    "    test_df=test_df.sample(n=sample_num,random_state=SEED)"
   ]
  },
  {
   "cell_type": "code",
   "execution_count": 5,
   "metadata": {},
   "outputs": [],
   "source": [
    "#x,y作成\n",
    "x_train=train_df.drop(train_drop_col,axis=1)\n",
    "y_train=train_df[train_label]\n",
    "x_test=test_df.drop(test_drop_col,axis=1)"
   ]
  },
  {
   "cell_type": "markdown",
   "metadata": {},
   "source": [
    "モデル実行"
   ]
  },
  {
   "cell_type": "code",
   "execution_count": 6,
   "metadata": {},
   "outputs": [],
   "source": [
    "#model_param\n",
    "param = {\n",
    "    \"objective\" : \"binary\", \n",
    "    \"boost\":\"gbdt\",\n",
    "    \"metric\":\"auc\",\n",
    "    \"boost_from_average\":\"false\",\n",
    "    \"num_threads\":28,\n",
    "    \"learning_rate\" : 0.01,\n",
    "    \"num_leaves\" : 13,\n",
    "    \"max_depth\":-1,\n",
    "    \"tree_learner\" : \"serial\",\n",
    "    \"feature_fraction\" : 0.05,\n",
    "    \"bagging_freq\" : 5,\n",
    "    \"bagging_fraction\" : 0.4,\n",
    "    \"min_data_in_leaf\" : 80,\n",
    "    \"min_sum_hessian_in_leaf\" : 10.0,\n",
    "    \"verbosity\" : 1,\n",
    "    'seed': 44000,\n",
    "    'is_unbalance':True\n",
    "    }"
   ]
  },
  {
   "cell_type": "code",
   "execution_count": 7,
   "metadata": {},
   "outputs": [
    {
     "name": "stdout",
     "output_type": "stream",
     "text": [
      "\n",
      "\n",
      "Fold 0\n",
      "Training until validation scores don't improve for 3000 rounds.\n",
      "[1000]\ttraining's auc: 0.907919\tvalid_1's auc: 0.887931\n",
      "[2000]\ttraining's auc: 0.917161\tvalid_1's auc: 0.89242\n",
      "[3000]\ttraining's auc: 0.924771\tvalid_1's auc: 0.895346\n",
      "[4000]\ttraining's auc: 0.931015\tvalid_1's auc: 0.896746\n",
      "[5000]\ttraining's auc: 0.936507\tvalid_1's auc: 0.897513\n",
      "[6000]\ttraining's auc: 0.941667\tvalid_1's auc: 0.897934\n",
      "[7000]\ttraining's auc: 0.946329\tvalid_1's auc: 0.898018\n",
      "[8000]\ttraining's auc: 0.950727\tvalid_1's auc: 0.898027\n",
      "[9000]\ttraining's auc: 0.954808\tvalid_1's auc: 0.89807\n",
      "Early stopping, best iteration is:\n",
      "[6923]\ttraining's auc: 0.945976\tvalid_1's auc: 0.898098\n",
      "AUC = 0.8980979181798686\n",
      "[[30872  5109]\n",
      " [  916  3104]]\n",
      "\n",
      "\n",
      "Fold 1\n",
      "Training until validation scores don't improve for 3000 rounds.\n",
      "[1000]\ttraining's auc: 0.907716\tvalid_1's auc: 0.888134\n",
      "[2000]\ttraining's auc: 0.91698\tvalid_1's auc: 0.892469\n",
      "[3000]\ttraining's auc: 0.924493\tvalid_1's auc: 0.895486\n",
      "[4000]\ttraining's auc: 0.930905\tvalid_1's auc: 0.897076\n",
      "[5000]\ttraining's auc: 0.936568\tvalid_1's auc: 0.897863\n",
      "[6000]\ttraining's auc: 0.941638\tvalid_1's auc: 0.898315\n",
      "[7000]\ttraining's auc: 0.946358\tvalid_1's auc: 0.898311\n",
      "[8000]\ttraining's auc: 0.950857\tvalid_1's auc: 0.898327\n",
      "[9000]\ttraining's auc: 0.955013\tvalid_1's auc: 0.898413\n",
      "[10000]\ttraining's auc: 0.958944\tvalid_1's auc: 0.89815\n",
      "[11000]\ttraining's auc: 0.962545\tvalid_1's auc: 0.898071\n",
      "Early stopping, best iteration is:\n",
      "[8623]\ttraining's auc: 0.953466\tvalid_1's auc: 0.898462\n",
      "AUC = 0.8984615774964703\n",
      "[[31103  4878]\n",
      " [  934  3086]]\n",
      "\n",
      "\n",
      "Fold 2\n",
      "Training until validation scores don't improve for 3000 rounds.\n",
      "[1000]\ttraining's auc: 0.907818\tvalid_1's auc: 0.885429\n",
      "[2000]\ttraining's auc: 0.917024\tvalid_1's auc: 0.890047\n",
      "[3000]\ttraining's auc: 0.924602\tvalid_1's auc: 0.892983\n",
      "[4000]\ttraining's auc: 0.930993\tvalid_1's auc: 0.894844\n",
      "[5000]\ttraining's auc: 0.936576\tvalid_1's auc: 0.89582\n",
      "[6000]\ttraining's auc: 0.941677\tvalid_1's auc: 0.89641\n",
      "[7000]\ttraining's auc: 0.946363\tvalid_1's auc: 0.896744\n",
      "[8000]\ttraining's auc: 0.950785\tvalid_1's auc: 0.896837\n",
      "[9000]\ttraining's auc: 0.954844\tvalid_1's auc: 0.896817\n",
      "[10000]\ttraining's auc: 0.958731\tvalid_1's auc: 0.896822\n",
      "[11000]\ttraining's auc: 0.962353\tvalid_1's auc: 0.896616\n",
      "Early stopping, best iteration is:\n",
      "[8382]\ttraining's auc: 0.952405\tvalid_1's auc: 0.896945\n",
      "AUC = 0.8969446265061574\n",
      "[[31016  4964]\n",
      " [  962  3058]]\n",
      "\n",
      "\n",
      "Fold 3\n",
      "Training until validation scores don't improve for 3000 rounds.\n",
      "[1000]\ttraining's auc: 0.907273\tvalid_1's auc: 0.887531\n",
      "[2000]\ttraining's auc: 0.916612\tvalid_1's auc: 0.892498\n",
      "[3000]\ttraining's auc: 0.924452\tvalid_1's auc: 0.895263\n",
      "[4000]\ttraining's auc: 0.930775\tvalid_1's auc: 0.89672\n",
      "[5000]\ttraining's auc: 0.936307\tvalid_1's auc: 0.897498\n",
      "[6000]\ttraining's auc: 0.941467\tvalid_1's auc: 0.898184\n",
      "[7000]\ttraining's auc: 0.946209\tvalid_1's auc: 0.898246\n",
      "[8000]\ttraining's auc: 0.950664\tvalid_1's auc: 0.898155\n",
      "[9000]\ttraining's auc: 0.954814\tvalid_1's auc: 0.898211\n",
      "[10000]\ttraining's auc: 0.958696\tvalid_1's auc: 0.898266\n",
      "[11000]\ttraining's auc: 0.96231\tvalid_1's auc: 0.898218\n",
      "[12000]\ttraining's auc: 0.965673\tvalid_1's auc: 0.897958\n",
      "[13000]\ttraining's auc: 0.96882\tvalid_1's auc: 0.897723\n",
      "Early stopping, best iteration is:\n",
      "[10594]\ttraining's auc: 0.960899\tvalid_1's auc: 0.89835\n",
      "AUC = 0.8983497785186845\n",
      "[[31255  4725]\n",
      " [  971  3048]]\n",
      "\n",
      "\n",
      "Fold 4\n",
      "Training until validation scores don't improve for 3000 rounds.\n",
      "[1000]\ttraining's auc: 0.906031\tvalid_1's auc: 0.891542\n",
      "[2000]\ttraining's auc: 0.915456\tvalid_1's auc: 0.897498\n",
      "[3000]\ttraining's auc: 0.923077\tvalid_1's auc: 0.900864\n",
      "[4000]\ttraining's auc: 0.9295\tvalid_1's auc: 0.902786\n",
      "[5000]\ttraining's auc: 0.935222\tvalid_1's auc: 0.903819\n",
      "[6000]\ttraining's auc: 0.94043\tvalid_1's auc: 0.90443\n",
      "[7000]\ttraining's auc: 0.945162\tvalid_1's auc: 0.904746\n",
      "[8000]\ttraining's auc: 0.949649\tvalid_1's auc: 0.904645\n",
      "[9000]\ttraining's auc: 0.953833\tvalid_1's auc: 0.904558\n",
      "[10000]\ttraining's auc: 0.957816\tvalid_1's auc: 0.904545\n",
      "Early stopping, best iteration is:\n",
      "[7285]\ttraining's auc: 0.946477\tvalid_1's auc: 0.90483\n",
      "AUC = 0.9048303631679484\n",
      "[[31002  4978]\n",
      " [  871  3148]]\n",
      "Overall AUC = 0.8990786064449665\n",
      "[[155248  24654]\n",
      " [  4654  15444]]\n"
     ]
    }
   ],
   "source": [
    "folds = StratifiedKFold(n_splits=fold_num, shuffle=True, random_state=SEED)\n",
    "oof_preds = np.zeros((len(x_train), 1))\n",
    "test_preds = np.zeros((len(x_test), 1))\n",
    "\n",
    "for fold_, (trn_idx, val_idx) in enumerate(folds.split(x_train.values, y_train.values)):\n",
    "    print(\"\\n\")\n",
    "    print(\"Fold {}\".format(fold_))\n",
    "    trn_x,trn_y = x_train.iloc[trn_idx], y_train.iloc[trn_idx]\n",
    "    val_x,val_y = x_train.iloc[val_idx], y_train.iloc[val_idx]\n",
    "    trn_data = lgb.Dataset(trn_x,trn_y)\n",
    "    val_data = lgb.Dataset(val_x,val_y)\n",
    "    \n",
    "    num_round = 1000000\n",
    "    clf = lgb.train(param, trn_data, num_round, valid_sets = [trn_data, val_data], verbose_eval=1000, early_stopping_rounds = 3000)\n",
    "    val_pred = clf.predict(val_x, num_iteration=clf.best_iteration)\n",
    "    test_pred = clf.predict(x_test, num_iteration=clf.best_iteration)\n",
    "    \n",
    "    print(\"AUC = {}\".format(roc_auc_score(val_y, val_pred)))\n",
    "    #print(\"val = {}\".format(val_pred)\n",
    "    oof_preds[val_idx, :] = val_pred.reshape((-1, 1))\n",
    "    test_preds += test_pred.reshape((-1, 1))\n",
    "    \n",
    "    print(confusion_matrix(val_y, pd.DataFrame(np.round(val_pred))))\n",
    "    \n",
    "test_preds /= fold_num\n",
    "roc_score = roc_auc_score(y_train, oof_preds.ravel())\n",
    "print(\"Overall AUC = {}\".format(roc_score))\n",
    "print(confusion_matrix(y_train, pd.DataFrame(np.round(oof_preds))))"
   ]
  },
  {
   "cell_type": "code",
   "execution_count": 8,
   "metadata": {},
   "outputs": [],
   "source": [
    "#結果保存\n",
    "if (submit_flg ==1 and sampling_flg==0):\n",
    "    series_oof_preds = pd.Series(data=oof_preds[:,0], name=save_col_name, dtype='float')\n",
    "    series_oof_preds.to_csv(train_preds_dir,header=True, index=False)\n",
    "\n",
    "    sample = pd.read_csv(sample_submission_dir)\n",
    "    sample.target = test_preds[:,0].astype(float)\n",
    "    sample.ID_code = test_df['ID_code']\n",
    "    sample.to_csv(test_preds_dir, index=False)\n",
    "    "
   ]
  },
  {
   "cell_type": "code",
   "execution_count": null,
   "metadata": {},
   "outputs": [],
   "source": []
  }
 ],
 "metadata": {
  "kernelspec": {
   "display_name": "Python 3",
   "language": "python",
   "name": "python3"
  },
  "language_info": {
   "codemirror_mode": {
    "name": "ipython",
    "version": 3
   },
   "file_extension": ".py",
   "mimetype": "text/x-python",
   "name": "python",
   "nbconvert_exporter": "python",
   "pygments_lexer": "ipython3",
   "version": "3.6.5"
  }
 },
 "nbformat": 4,
 "nbformat_minor": 2
}
