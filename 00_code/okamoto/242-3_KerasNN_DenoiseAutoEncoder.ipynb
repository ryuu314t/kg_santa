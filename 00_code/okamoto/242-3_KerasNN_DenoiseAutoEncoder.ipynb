{
 "cells": [
  {
   "cell_type": "code",
   "execution_count": 1,
   "metadata": {
    "_cell_guid": "b1076dfc-b9ad-4769-8c92-a6c4dae69d19",
    "_uuid": "8f2839f25d086af736a60e9eeb907d3b93b6e0e5"
   },
   "outputs": [
    {
     "name": "stderr",
     "output_type": "stream",
     "text": [
      "Using TensorFlow backend.\n"
     ]
    }
   ],
   "source": [
    "import tensorflow as tf\n",
    "import pandas as pd\n",
    "import os\n",
    "from sklearn.metrics import roc_auc_score\n",
    "from sklearn.model_selection import train_test_split\n",
    "from sklearn.preprocessing import StandardScaler\n",
    "from keras import Sequential\n",
    "from keras import layers\n",
    "from keras import backend as K\n",
    "from keras.layers.core import Dense\n",
    "from keras import regularizers\n",
    "from keras.layers import Dropout\n",
    "from keras.constraints import max_norm"
   ]
  },
  {
   "cell_type": "code",
   "execution_count": 2,
   "metadata": {
    "_cell_guid": "79c7e3d0-c299-4dcb-8224-4455121ee9b0",
    "_uuid": "d629ff2d2480ee46fbb7e2d37f6b5fab8052498a"
   },
   "outputs": [],
   "source": [
    "# Import data\n",
    "train = pd.read_csv('../../01_input/train.csv')\n",
    "test = pd.read_csv('../../01_input/test.csv')"
   ]
  },
  {
   "cell_type": "code",
   "execution_count": 3,
   "metadata": {
    "_uuid": "ef491a4d42450d6c0a79924621c27beebc33a5fa"
   },
   "outputs": [
    {
     "data": {
      "text/plain": [
       "(200000, 202)"
      ]
     },
     "execution_count": 3,
     "metadata": {},
     "output_type": "execute_result"
    }
   ],
   "source": [
    "train.shape"
   ]
  },
  {
   "cell_type": "code",
   "execution_count": 4,
   "metadata": {
    "_uuid": "977e678a7a750cd0a10ee37e1174f16680fd6b29"
   },
   "outputs": [
    {
     "data": {
      "text/plain": [
       "(200000, 201)"
      ]
     },
     "execution_count": 4,
     "metadata": {},
     "output_type": "execute_result"
    }
   ],
   "source": [
    "test.shape"
   ]
  },
  {
   "cell_type": "code",
   "execution_count": 5,
   "metadata": {
    "_uuid": "cd9b334eabd747735355d44c9e93044b0c47bb1f"
   },
   "outputs": [
    {
     "name": "stdout",
     "output_type": "stream",
     "text": [
      "0    179902\n",
      "1     20098\n",
      "Name: target, dtype: int64\n",
      "0.1117163789174106\n"
     ]
    }
   ],
   "source": [
    "#Check num of cases in label \n",
    "print(train.target.value_counts())\n",
    "print(train.target.value_counts()[1]/train.target.value_counts()[0])"
   ]
  },
  {
   "cell_type": "code",
   "execution_count": 6,
   "metadata": {
    "_uuid": "4aa3662a015dee0cc8ef691e818adc96adfdcfd6"
   },
   "outputs": [],
   "source": [
    "train_features = train.drop(['target', 'ID_code'], axis=1)\n",
    "train_targets = train['target']\n",
    "test_features = test.drop(['ID_code'], axis=1)"
   ]
  },
  {
   "cell_type": "code",
   "execution_count": 7,
   "metadata": {
    "_uuid": "a22d536c925cf641d2830c09066d16b574e9aa7b"
   },
   "outputs": [],
   "source": [
    "X_train, X_test, y_train, y_test = train_test_split(train_features, train_targets, test_size = 0.25, random_state = 50)"
   ]
  },
  {
   "cell_type": "code",
   "execution_count": 8,
   "metadata": {
    "_uuid": "e0e3037ae4eaef75b7f3df50764c7ba4d018e29c"
   },
   "outputs": [],
   "source": [
    "# Feature Scaling\n",
    "from sklearn.preprocessing import StandardScaler\n",
    "sc = StandardScaler()\n",
    "X_train = sc.fit_transform(X_train)\n",
    "X_test = sc.transform(X_test)\n",
    "test_features = sc.transform(test_features)"
   ]
  },
  {
   "cell_type": "code",
   "execution_count": 9,
   "metadata": {
    "_uuid": "8bf12627db197ae404d751061796d6fdde047cc2"
   },
   "outputs": [],
   "source": [
    "# Add RUC metric to monitor NN\n",
    "def auc(y_true, y_pred):\n",
    "    auc = tf.metrics.auc(y_true, y_pred)[1]\n",
    "    K.get_session().run(tf.local_variables_initializer())\n",
    "    return auc"
   ]
  },
  {
   "cell_type": "code",
   "execution_count": 10,
   "metadata": {
    "_uuid": "80489233dcc33baa361ea1b713058bb3730dfe9e"
   },
   "outputs": [
    {
     "data": {
      "text/plain": [
       "200"
      ]
     },
     "execution_count": 10,
     "metadata": {},
     "output_type": "execute_result"
    }
   ],
   "source": [
    "input_dim = X_train.shape[1]\n",
    "input_dim"
   ]
  },
  {
   "cell_type": "code",
   "execution_count": 11,
   "metadata": {
    "_uuid": "79bda7f30f3b3627c9dbacb49542b9dc2c2f0677"
   },
   "outputs": [],
   "source": [
    "# Try early stopping\n",
    "#from keras.callbacks import EarlyStopping\n",
    "#callback = EarlyStopping(monitor='loss', min_delta=0, patience=10, verbose=0, mode='auto', baseline=None, restore_best_weights=True)"
   ]
  },
  {
   "cell_type": "code",
   "execution_count": 12,
   "metadata": {
    "_uuid": "083001c4e3e3a32522cbb2cf7df0e55906cdcd7b"
   },
   "outputs": [
    {
     "name": "stdout",
     "output_type": "stream",
     "text": [
      "WARNING:tensorflow:From /home/ubuntu/anaconda3/lib/python3.6/site-packages/tensorflow/python/framework/op_def_library.py:263: colocate_with (from tensorflow.python.framework.ops) is deprecated and will be removed in a future version.\n",
      "Instructions for updating:\n",
      "Colocations handled automatically by placer.\n",
      "_________________________________________________________________\n",
      "Layer (type)                 Output Shape              Param #   \n",
      "=================================================================\n",
      "Hidden1 (Dense)              (None, 200)               40200     \n",
      "_________________________________________________________________\n",
      "Hidden2 (Dense)              (None, 200)               40200     \n",
      "_________________________________________________________________\n",
      "Output (Dense)               (None, 200)               40200     \n",
      "=================================================================\n",
      "Total params: 120,600\n",
      "Trainable params: 120,600\n",
      "Non-trainable params: 0\n",
      "_________________________________________________________________\n"
     ]
    }
   ],
   "source": [
    "model = Sequential()\n",
    "# Input layer\n",
    "model.add(Dense(units=200, activation='linear', dtype='float32', name='Hidden1', input_shape=(200,),kernel_initializer = \"normal\", kernel_regularizer=regularizers.l2(0.005), \n",
    "                kernel_constraint = max_norm(5.)))\n",
    "model.add(Dense(units=200, activation='linear', dtype='float32', name='Hidden2',kernel_regularizer=regularizers.l2(0.005), kernel_constraint=max_norm(5)))\n",
    "model.add(Dense(units=200, activation='linear', dtype='float32', name='Output'))\n",
    "model.compile(loss='mean_squared_error', optimizer='SGD')\n",
    "model.summary()"
   ]
  },
  {
   "cell_type": "code",
   "execution_count": 13,
   "metadata": {
    "_uuid": "85799af4ef45d3809e9cbb1903b98522ebbe8fa0"
   },
   "outputs": [
    {
     "name": "stdout",
     "output_type": "stream",
     "text": [
      "WARNING:tensorflow:From /home/ubuntu/anaconda3/lib/python3.6/site-packages/tensorflow/python/ops/math_ops.py:3066: to_int32 (from tensorflow.python.ops.math_ops) is deprecated and will be removed in a future version.\n",
      "Instructions for updating:\n",
      "Use tf.cast instead.\n",
      "Train on 150000 samples, validate on 150000 samples\n",
      "Epoch 1/250\n",
      "150000/150000 [==============================] - 2s 13us/step - loss: 2.9695 - val_loss: 2.9305\n",
      "Epoch 2/250\n",
      "150000/150000 [==============================] - 2s 12us/step - loss: 2.8964 - val_loss: 2.8608\n",
      "Epoch 3/250\n",
      "150000/150000 [==============================] - 2s 12us/step - loss: 2.8295 - val_loss: 2.7967\n",
      "Epoch 4/250\n",
      "150000/150000 [==============================] - 2s 12us/step - loss: 2.7678 - val_loss: 2.7375\n",
      "Epoch 5/250\n",
      "150000/150000 [==============================] - 2s 12us/step - loss: 2.7107 - val_loss: 2.6825\n",
      "Epoch 6/250\n",
      "150000/150000 [==============================] - 2s 12us/step - loss: 2.6576 - val_loss: 2.6313\n",
      "Epoch 7/250\n",
      "150000/150000 [==============================] - 2s 12us/step - loss: 2.6081 - val_loss: 2.5835\n",
      "Epoch 8/250\n",
      "150000/150000 [==============================] - 2s 12us/step - loss: 2.5617 - val_loss: 2.5387\n",
      "Epoch 9/250\n",
      "150000/150000 [==============================] - 2s 12us/step - loss: 2.5182 - val_loss: 2.4965\n",
      "Epoch 10/250\n",
      "150000/150000 [==============================] - 2s 12us/step - loss: 2.4772 - val_loss: 2.4567\n",
      "Epoch 11/250\n",
      "150000/150000 [==============================] - 2s 12us/step - loss: 2.4384 - val_loss: 2.4191\n",
      "Epoch 12/250\n",
      "150000/150000 [==============================] - 2s 12us/step - loss: 2.4018 - val_loss: 2.3835\n",
      "Epoch 13/250\n",
      "150000/150000 [==============================] - 2s 12us/step - loss: 2.3670 - val_loss: 2.3496\n",
      "Epoch 14/250\n",
      "150000/150000 [==============================] - 2s 12us/step - loss: 2.3340 - val_loss: 2.3174\n",
      "Epoch 15/250\n",
      "150000/150000 [==============================] - 2s 12us/step - loss: 2.3026 - val_loss: 2.2868\n",
      "Epoch 16/250\n",
      "150000/150000 [==============================] - 2s 12us/step - loss: 2.2725 - val_loss: 2.2575\n",
      "Epoch 17/250\n",
      "150000/150000 [==============================] - 2s 12us/step - loss: 2.2439 - val_loss: 2.2294\n",
      "Epoch 18/250\n",
      "150000/150000 [==============================] - 2s 12us/step - loss: 2.2164 - val_loss: 2.2026\n",
      "Epoch 19/250\n",
      "150000/150000 [==============================] - 2s 12us/step - loss: 2.1901 - val_loss: 2.1769\n",
      "Epoch 20/250\n",
      "150000/150000 [==============================] - 2s 12us/step - loss: 2.1649 - val_loss: 2.1522\n",
      "Epoch 21/250\n",
      "150000/150000 [==============================] - 2s 12us/step - loss: 2.1407 - val_loss: 2.1284\n",
      "Epoch 22/250\n",
      "150000/150000 [==============================] - 2s 12us/step - loss: 2.1173 - val_loss: 2.1055\n",
      "Epoch 23/250\n",
      "150000/150000 [==============================] - 2s 12us/step - loss: 2.0949 - val_loss: 2.0835\n",
      "Epoch 24/250\n",
      "150000/150000 [==============================] - 2s 12us/step - loss: 2.0732 - val_loss: 2.0623\n",
      "Epoch 25/250\n",
      "150000/150000 [==============================] - 2s 12us/step - loss: 2.0523 - val_loss: 2.0417\n",
      "Epoch 26/250\n",
      "150000/150000 [==============================] - 2s 12us/step - loss: 2.0322 - val_loss: 2.0219\n",
      "Epoch 27/250\n",
      "150000/150000 [==============================] - 2s 12us/step - loss: 2.0126 - val_loss: 2.0027\n",
      "Epoch 28/250\n",
      "150000/150000 [==============================] - 2s 12us/step - loss: 1.9938 - val_loss: 1.9842\n",
      "Epoch 29/250\n",
      "150000/150000 [==============================] - 2s 12us/step - loss: 1.9755 - val_loss: 1.9662\n",
      "Epoch 30/250\n",
      "150000/150000 [==============================] - 2s 12us/step - loss: 1.9578 - val_loss: 1.9488\n",
      "Epoch 31/250\n",
      "150000/150000 [==============================] - 2s 12us/step - loss: 1.9406 - val_loss: 1.9319\n",
      "Epoch 32/250\n",
      "150000/150000 [==============================] - 2s 12us/step - loss: 1.9239 - val_loss: 1.9155\n",
      "Epoch 33/250\n",
      "150000/150000 [==============================] - 2s 12us/step - loss: 1.9077 - val_loss: 1.8995\n",
      "Epoch 34/250\n",
      "150000/150000 [==============================] - 2s 12us/step - loss: 1.8920 - val_loss: 1.8840\n",
      "Epoch 35/250\n",
      "150000/150000 [==============================] - 2s 12us/step - loss: 1.8767 - val_loss: 1.8689\n",
      "Epoch 36/250\n",
      "150000/150000 [==============================] - 2s 12us/step - loss: 1.8618 - val_loss: 1.8543\n",
      "Epoch 37/250\n",
      "150000/150000 [==============================] - 2s 12us/step - loss: 1.8474 - val_loss: 1.8400\n",
      "Epoch 38/250\n",
      "150000/150000 [==============================] - 2s 12us/step - loss: 1.8333 - val_loss: 1.8261\n",
      "Epoch 39/250\n",
      "150000/150000 [==============================] - 2s 12us/step - loss: 1.8195 - val_loss: 1.8125\n",
      "Epoch 40/250\n",
      "150000/150000 [==============================] - 2s 12us/step - loss: 1.8061 - val_loss: 1.7993\n",
      "Epoch 41/250\n",
      "150000/150000 [==============================] - 2s 12us/step - loss: 1.7931 - val_loss: 1.7864\n",
      "Epoch 42/250\n",
      "150000/150000 [==============================] - 2s 12us/step - loss: 1.7803 - val_loss: 1.7738\n",
      "Epoch 43/250\n",
      "150000/150000 [==============================] - 2s 12us/step - loss: 1.7679 - val_loss: 1.7615\n",
      "Epoch 44/250\n",
      "150000/150000 [==============================] - 2s 12us/step - loss: 1.7557 - val_loss: 1.7495\n",
      "Epoch 45/250\n",
      "150000/150000 [==============================] - 2s 12us/step - loss: 1.7439 - val_loss: 1.7378\n",
      "Epoch 46/250\n",
      "150000/150000 [==============================] - 2s 12us/step - loss: 1.7323 - val_loss: 1.7264\n",
      "Epoch 47/250\n",
      "150000/150000 [==============================] - 2s 12us/step - loss: 1.7210 - val_loss: 1.7152\n",
      "Epoch 48/250\n",
      "150000/150000 [==============================] - 2s 12us/step - loss: 1.7099 - val_loss: 1.7042\n",
      "Epoch 49/250\n",
      "150000/150000 [==============================] - 2s 12us/step - loss: 1.6990 - val_loss: 1.6935\n",
      "Epoch 50/250\n",
      "150000/150000 [==============================] - 2s 12us/step - loss: 1.6884 - val_loss: 1.6830\n",
      "Epoch 51/250\n",
      "150000/150000 [==============================] - 2s 12us/step - loss: 1.6780 - val_loss: 1.6727\n",
      "Epoch 52/250\n",
      "150000/150000 [==============================] - 2s 11us/step - loss: 1.6679 - val_loss: 1.6627\n",
      "Epoch 53/250\n",
      "150000/150000 [==============================] - 2s 12us/step - loss: 1.6579 - val_loss: 1.6528\n",
      "Epoch 54/250\n",
      "150000/150000 [==============================] - 2s 12us/step - loss: 1.6481 - val_loss: 1.6432\n",
      "Epoch 55/250\n",
      "150000/150000 [==============================] - 2s 11us/step - loss: 1.6386 - val_loss: 1.6337\n",
      "Epoch 56/250\n",
      "150000/150000 [==============================] - 2s 12us/step - loss: 1.6292 - val_loss: 1.6244\n",
      "Epoch 57/250\n",
      "150000/150000 [==============================] - 2s 12us/step - loss: 1.6200 - val_loss: 1.6153\n",
      "Epoch 58/250\n",
      "150000/150000 [==============================] - 2s 12us/step - loss: 1.6110 - val_loss: 1.6064\n",
      "Epoch 59/250\n",
      "150000/150000 [==============================] - 2s 12us/step - loss: 1.6022 - val_loss: 1.5976\n",
      "Epoch 60/250\n",
      "150000/150000 [==============================] - 2s 12us/step - loss: 1.5935 - val_loss: 1.5891\n",
      "Epoch 61/250\n",
      "150000/150000 [==============================] - 2s 12us/step - loss: 1.5850 - val_loss: 1.5806\n",
      "Epoch 62/250\n",
      "150000/150000 [==============================] - 2s 12us/step - loss: 1.5766 - val_loss: 1.5724\n",
      "Epoch 63/250\n",
      "150000/150000 [==============================] - 2s 12us/step - loss: 1.5684 - val_loss: 1.5642\n",
      "Epoch 64/250\n",
      "150000/150000 [==============================] - 2s 12us/step - loss: 1.5604 - val_loss: 1.5563\n",
      "Epoch 65/250\n",
      "150000/150000 [==============================] - 2s 12us/step - loss: 1.5525 - val_loss: 1.5484\n",
      "Epoch 66/250\n",
      "150000/150000 [==============================] - 2s 12us/step - loss: 1.5447 - val_loss: 1.5407\n",
      "Epoch 67/250\n",
      "150000/150000 [==============================] - 2s 12us/step - loss: 1.5371 - val_loss: 1.5332\n",
      "Epoch 68/250\n",
      "150000/150000 [==============================] - 2s 12us/step - loss: 1.5296 - val_loss: 1.5257\n",
      "Epoch 69/250\n",
      "150000/150000 [==============================] - 2s 11us/step - loss: 1.5222 - val_loss: 1.5184\n",
      "Epoch 70/250\n",
      "150000/150000 [==============================] - 2s 12us/step - loss: 1.5150 - val_loss: 1.5113\n",
      "Epoch 71/250\n",
      "150000/150000 [==============================] - 2s 12us/step - loss: 1.5079 - val_loss: 1.5042\n",
      "Epoch 72/250\n",
      "150000/150000 [==============================] - 2s 12us/step - loss: 1.5009 - val_loss: 1.4973\n",
      "Epoch 73/250\n"
     ]
    },
    {
     "name": "stdout",
     "output_type": "stream",
     "text": [
      "150000/150000 [==============================] - 2s 12us/step - loss: 1.4940 - val_loss: 1.4904\n",
      "Epoch 74/250\n",
      "150000/150000 [==============================] - 2s 12us/step - loss: 1.4872 - val_loss: 1.4837\n",
      "Epoch 75/250\n",
      "150000/150000 [==============================] - 2s 12us/step - loss: 1.4805 - val_loss: 1.4771\n",
      "Epoch 76/250\n",
      "150000/150000 [==============================] - 2s 12us/step - loss: 1.4740 - val_loss: 1.4706\n",
      "Epoch 77/250\n",
      "150000/150000 [==============================] - 2s 12us/step - loss: 1.4675 - val_loss: 1.4642\n",
      "Epoch 78/250\n",
      "150000/150000 [==============================] - 2s 11us/step - loss: 1.4612 - val_loss: 1.4579\n",
      "Epoch 79/250\n",
      "150000/150000 [==============================] - 2s 12us/step - loss: 1.4550 - val_loss: 1.4518\n",
      "Epoch 80/250\n",
      "150000/150000 [==============================] - 2s 12us/step - loss: 1.4488 - val_loss: 1.4457\n",
      "Epoch 81/250\n",
      "150000/150000 [==============================] - 2s 12us/step - loss: 1.4428 - val_loss: 1.4397\n",
      "Epoch 82/250\n",
      "150000/150000 [==============================] - 2s 12us/step - loss: 1.4368 - val_loss: 1.4338\n",
      "Epoch 83/250\n",
      "150000/150000 [==============================] - 2s 11us/step - loss: 1.4309 - val_loss: 1.4279\n",
      "Epoch 84/250\n",
      "150000/150000 [==============================] - 2s 12us/step - loss: 1.4252 - val_loss: 1.4222\n",
      "Epoch 85/250\n",
      "150000/150000 [==============================] - 2s 12us/step - loss: 1.4195 - val_loss: 1.4166\n",
      "Epoch 86/250\n",
      "150000/150000 [==============================] - 2s 12us/step - loss: 1.4139 - val_loss: 1.4110\n",
      "Epoch 87/250\n",
      "150000/150000 [==============================] - 2s 12us/step - loss: 1.4084 - val_loss: 1.4055\n",
      "Epoch 88/250\n",
      "150000/150000 [==============================] - 2s 12us/step - loss: 1.4029 - val_loss: 1.4001\n",
      "Epoch 89/250\n",
      "150000/150000 [==============================] - 2s 12us/step - loss: 1.3976 - val_loss: 1.3948\n",
      "Epoch 90/250\n",
      "150000/150000 [==============================] - 2s 12us/step - loss: 1.3923 - val_loss: 1.3896\n",
      "Epoch 91/250\n",
      "150000/150000 [==============================] - 2s 12us/step - loss: 1.3871 - val_loss: 1.3844\n",
      "Epoch 92/250\n",
      "150000/150000 [==============================] - 2s 12us/step - loss: 1.3820 - val_loss: 1.3794\n",
      "Epoch 93/250\n",
      "150000/150000 [==============================] - 2s 12us/step - loss: 1.3769 - val_loss: 1.3743\n",
      "Epoch 94/250\n",
      "150000/150000 [==============================] - 2s 12us/step - loss: 1.3720 - val_loss: 1.3694\n",
      "Epoch 95/250\n",
      "150000/150000 [==============================] - 2s 11us/step - loss: 1.3671 - val_loss: 1.3645\n",
      "Epoch 96/250\n",
      "150000/150000 [==============================] - 2s 12us/step - loss: 1.3622 - val_loss: 1.3597\n",
      "Epoch 97/250\n",
      "150000/150000 [==============================] - 2s 12us/step - loss: 1.3575 - val_loss: 1.3550\n",
      "Epoch 98/250\n",
      "150000/150000 [==============================] - 2s 12us/step - loss: 1.3528 - val_loss: 1.3503\n",
      "Epoch 99/250\n",
      "150000/150000 [==============================] - 2s 12us/step - loss: 1.3481 - val_loss: 1.3458\n",
      "Epoch 100/250\n",
      "150000/150000 [==============================] - 2s 12us/step - loss: 1.3436 - val_loss: 1.3412\n",
      "Epoch 101/250\n",
      "150000/150000 [==============================] - 2s 12us/step - loss: 1.3391 - val_loss: 1.3367\n",
      "Epoch 102/250\n",
      "150000/150000 [==============================] - 2s 12us/step - loss: 1.3346 - val_loss: 1.3323\n",
      "Epoch 103/250\n",
      "150000/150000 [==============================] - 2s 12us/step - loss: 1.3302 - val_loss: 1.3280\n",
      "Epoch 104/250\n",
      "150000/150000 [==============================] - 2s 12us/step - loss: 1.3259 - val_loss: 1.3237\n",
      "Epoch 105/250\n",
      "150000/150000 [==============================] - 2s 12us/step - loss: 1.3216 - val_loss: 1.3195\n",
      "Epoch 106/250\n",
      "150000/150000 [==============================] - 2s 12us/step - loss: 1.3174 - val_loss: 1.3153\n",
      "Epoch 107/250\n",
      "150000/150000 [==============================] - 2s 12us/step - loss: 1.3133 - val_loss: 1.3112\n",
      "Epoch 108/250\n",
      "150000/150000 [==============================] - 2s 12us/step - loss: 1.3092 - val_loss: 1.3071\n",
      "Epoch 109/250\n",
      "150000/150000 [==============================] - 2s 12us/step - loss: 1.3052 - val_loss: 1.3031\n",
      "Epoch 110/250\n",
      "150000/150000 [==============================] - 2s 12us/step - loss: 1.3012 - val_loss: 1.2991\n",
      "Epoch 111/250\n",
      "150000/150000 [==============================] - 2s 11us/step - loss: 1.2972 - val_loss: 1.2952\n",
      "Epoch 112/250\n",
      "150000/150000 [==============================] - 2s 12us/step - loss: 1.2934 - val_loss: 1.2914\n",
      "Epoch 113/250\n",
      "150000/150000 [==============================] - 2s 12us/step - loss: 1.2895 - val_loss: 1.2876\n",
      "Epoch 114/250\n",
      "150000/150000 [==============================] - 2s 12us/step - loss: 1.2858 - val_loss: 1.2838\n",
      "Epoch 115/250\n",
      "150000/150000 [==============================] - 2s 12us/step - loss: 1.2820 - val_loss: 1.2801\n",
      "Epoch 116/250\n",
      "150000/150000 [==============================] - 2s 12us/step - loss: 1.2784 - val_loss: 1.2765\n",
      "Epoch 117/250\n",
      "150000/150000 [==============================] - 2s 12us/step - loss: 1.2747 - val_loss: 1.2728\n",
      "Epoch 118/250\n",
      "150000/150000 [==============================] - 2s 12us/step - loss: 1.2711 - val_loss: 1.2693\n",
      "Epoch 119/250\n",
      "150000/150000 [==============================] - 2s 12us/step - loss: 1.2676 - val_loss: 1.2658\n",
      "Epoch 120/250\n",
      "150000/150000 [==============================] - 2s 12us/step - loss: 1.2641 - val_loss: 1.2623\n",
      "Epoch 121/250\n",
      "150000/150000 [==============================] - 2s 12us/step - loss: 1.2606 - val_loss: 1.2589\n",
      "Epoch 122/250\n",
      "150000/150000 [==============================] - 2s 11us/step - loss: 1.2572 - val_loss: 1.2555\n",
      "Epoch 123/250\n",
      "150000/150000 [==============================] - 2s 12us/step - loss: 1.2539 - val_loss: 1.2522\n",
      "Epoch 124/250\n",
      "150000/150000 [==============================] - 2s 12us/step - loss: 1.2506 - val_loss: 1.2489\n",
      "Epoch 125/250\n",
      "150000/150000 [==============================] - 2s 12us/step - loss: 1.2473 - val_loss: 1.2456\n",
      "Epoch 126/250\n",
      "150000/150000 [==============================] - 2s 12us/step - loss: 1.2440 - val_loss: 1.2424\n",
      "Epoch 127/250\n",
      "150000/150000 [==============================] - 2s 12us/step - loss: 1.2409 - val_loss: 1.2392\n",
      "Epoch 128/250\n",
      "150000/150000 [==============================] - 2s 12us/step - loss: 1.2377 - val_loss: 1.2361\n",
      "Epoch 129/250\n",
      "150000/150000 [==============================] - 2s 12us/step - loss: 1.2346 - val_loss: 1.2330\n",
      "Epoch 130/250\n",
      "150000/150000 [==============================] - 2s 12us/step - loss: 1.2315 - val_loss: 1.2299\n",
      "Epoch 131/250\n",
      "150000/150000 [==============================] - 2s 11us/step - loss: 1.2285 - val_loss: 1.2269\n",
      "Epoch 132/250\n",
      "150000/150000 [==============================] - 2s 12us/step - loss: 1.2255 - val_loss: 1.2239\n",
      "Epoch 133/250\n",
      "150000/150000 [==============================] - 2s 12us/step - loss: 1.2225 - val_loss: 1.2210\n",
      "Epoch 134/250\n",
      "150000/150000 [==============================] - 2s 11us/step - loss: 1.2196 - val_loss: 1.2181\n",
      "Epoch 135/250\n",
      "150000/150000 [==============================] - 2s 12us/step - loss: 1.2167 - val_loss: 1.2152\n",
      "Epoch 136/250\n",
      "150000/150000 [==============================] - 2s 12us/step - loss: 1.2138 - val_loss: 1.2123\n",
      "Epoch 137/250\n",
      "150000/150000 [==============================] - 2s 11us/step - loss: 1.2110 - val_loss: 1.2095\n",
      "Epoch 138/250\n",
      "150000/150000 [==============================] - 2s 12us/step - loss: 1.2082 - val_loss: 1.2068\n",
      "Epoch 139/250\n",
      "150000/150000 [==============================] - 2s 11us/step - loss: 1.2054 - val_loss: 1.2040\n",
      "Epoch 140/250\n",
      "150000/150000 [==============================] - 2s 12us/step - loss: 1.2027 - val_loss: 1.2013\n",
      "Epoch 141/250\n",
      "150000/150000 [==============================] - 2s 12us/step - loss: 1.2000 - val_loss: 1.1987\n",
      "Epoch 142/250\n",
      "150000/150000 [==============================] - 2s 12us/step - loss: 1.1974 - val_loss: 1.1960\n",
      "Epoch 143/250\n",
      "150000/150000 [==============================] - 2s 11us/step - loss: 1.1948 - val_loss: 1.1934\n",
      "Epoch 144/250\n",
      "150000/150000 [==============================] - 2s 11us/step - loss: 1.1922 - val_loss: 1.1908\n",
      "Epoch 145/250\n",
      "150000/150000 [==============================] - 2s 12us/step - loss: 1.1896 - val_loss: 1.1883\n",
      "Epoch 146/250\n",
      "150000/150000 [==============================] - 2s 12us/step - loss: 1.1871 - val_loss: 1.1858\n",
      "Epoch 147/250\n",
      "150000/150000 [==============================] - 2s 11us/step - loss: 1.1846 - val_loss: 1.1833\n"
     ]
    },
    {
     "name": "stdout",
     "output_type": "stream",
     "text": [
      "Epoch 148/250\n",
      "150000/150000 [==============================] - 2s 11us/step - loss: 1.1821 - val_loss: 1.1808\n",
      "Epoch 149/250\n",
      "150000/150000 [==============================] - 2s 11us/step - loss: 1.1796 - val_loss: 1.1784\n",
      "Epoch 150/250\n",
      "150000/150000 [==============================] - 2s 11us/step - loss: 1.1772 - val_loss: 1.1760\n",
      "Epoch 151/250\n",
      "150000/150000 [==============================] - 2s 11us/step - loss: 1.1748 - val_loss: 1.1736\n",
      "Epoch 152/250\n",
      "150000/150000 [==============================] - 2s 12us/step - loss: 1.1725 - val_loss: 1.1713\n",
      "Epoch 153/250\n",
      "150000/150000 [==============================] - 2s 11us/step - loss: 1.1702 - val_loss: 1.1690\n",
      "Epoch 154/250\n",
      "150000/150000 [==============================] - 2s 11us/step - loss: 1.1679 - val_loss: 1.1667\n",
      "Epoch 155/250\n",
      "150000/150000 [==============================] - 2s 12us/step - loss: 1.1656 - val_loss: 1.1644\n",
      "Epoch 156/250\n",
      "150000/150000 [==============================] - 2s 12us/step - loss: 1.1633 - val_loss: 1.1622\n",
      "Epoch 157/250\n",
      "150000/150000 [==============================] - 2s 12us/step - loss: 1.1611 - val_loss: 1.1600\n",
      "Epoch 158/250\n",
      "150000/150000 [==============================] - 2s 12us/step - loss: 1.1589 - val_loss: 1.1578\n",
      "Epoch 159/250\n",
      "150000/150000 [==============================] - 2s 11us/step - loss: 1.1567 - val_loss: 1.1556\n",
      "Epoch 160/250\n",
      "150000/150000 [==============================] - 2s 11us/step - loss: 1.1546 - val_loss: 1.1535\n",
      "Epoch 161/250\n",
      "150000/150000 [==============================] - 2s 11us/step - loss: 1.1525 - val_loss: 1.1514\n",
      "Epoch 162/250\n",
      "150000/150000 [==============================] - 2s 11us/step - loss: 1.1504 - val_loss: 1.1493\n",
      "Epoch 163/250\n",
      "150000/150000 [==============================] - 2s 11us/step - loss: 1.1483 - val_loss: 1.1472\n",
      "Epoch 164/250\n",
      "150000/150000 [==============================] - 2s 12us/step - loss: 1.1463 - val_loss: 1.1452\n",
      "Epoch 165/250\n",
      "150000/150000 [==============================] - 2s 12us/step - loss: 1.1442 - val_loss: 1.1432\n",
      "Epoch 166/250\n",
      "150000/150000 [==============================] - 2s 11us/step - loss: 1.1422 - val_loss: 1.1412\n",
      "Epoch 167/250\n",
      "150000/150000 [==============================] - 2s 11us/step - loss: 1.1402 - val_loss: 1.1392\n",
      "Epoch 168/250\n",
      "150000/150000 [==============================] - 2s 12us/step - loss: 1.1383 - val_loss: 1.1373\n",
      "Epoch 169/250\n",
      "150000/150000 [==============================] - 2s 12us/step - loss: 1.1363 - val_loss: 1.1353\n",
      "Epoch 170/250\n",
      "150000/150000 [==============================] - 2s 12us/step - loss: 1.1344 - val_loss: 1.1334\n",
      "Epoch 171/250\n",
      "150000/150000 [==============================] - 2s 12us/step - loss: 1.1325 - val_loss: 1.1316\n",
      "Epoch 172/250\n",
      "150000/150000 [==============================] - 2s 11us/step - loss: 1.1307 - val_loss: 1.1297\n",
      "Epoch 173/250\n",
      "150000/150000 [==============================] - 2s 11us/step - loss: 1.1288 - val_loss: 1.1279\n",
      "Epoch 174/250\n",
      "150000/150000 [==============================] - 2s 11us/step - loss: 1.1270 - val_loss: 1.1260\n",
      "Epoch 175/250\n",
      "150000/150000 [==============================] - 2s 12us/step - loss: 1.1252 - val_loss: 1.1242\n",
      "Epoch 176/250\n",
      "150000/150000 [==============================] - 2s 12us/step - loss: 1.1234 - val_loss: 1.1225\n",
      "Epoch 177/250\n",
      "150000/150000 [==============================] - 2s 12us/step - loss: 1.1216 - val_loss: 1.1207\n",
      "Epoch 178/250\n",
      "150000/150000 [==============================] - 2s 12us/step - loss: 1.1199 - val_loss: 1.1190\n",
      "Epoch 179/250\n",
      "150000/150000 [==============================] - 2s 12us/step - loss: 1.1181 - val_loss: 1.1173\n",
      "Epoch 180/250\n",
      "150000/150000 [==============================] - 2s 12us/step - loss: 1.1164 - val_loss: 1.1156\n",
      "Epoch 181/250\n",
      "150000/150000 [==============================] - 2s 12us/step - loss: 1.1147 - val_loss: 1.1139\n",
      "Epoch 182/250\n",
      "150000/150000 [==============================] - 2s 12us/step - loss: 1.1131 - val_loss: 1.1122\n",
      "Epoch 183/250\n",
      "150000/150000 [==============================] - 2s 12us/step - loss: 1.1114 - val_loss: 1.1106\n",
      "Epoch 184/250\n",
      "150000/150000 [==============================] - 2s 12us/step - loss: 1.1098 - val_loss: 1.1089\n",
      "Epoch 185/250\n",
      "150000/150000 [==============================] - 2s 11us/step - loss: 1.1082 - val_loss: 1.1073\n",
      "Epoch 186/250\n",
      "150000/150000 [==============================] - 2s 12us/step - loss: 1.1066 - val_loss: 1.1057\n",
      "Epoch 187/250\n",
      "150000/150000 [==============================] - 2s 11us/step - loss: 1.1050 - val_loss: 1.1042\n",
      "Epoch 188/250\n",
      "150000/150000 [==============================] - 2s 12us/step - loss: 1.1034 - val_loss: 1.1026\n",
      "Epoch 189/250\n",
      "150000/150000 [==============================] - 2s 11us/step - loss: 1.1019 - val_loss: 1.1011\n",
      "Epoch 190/250\n",
      "150000/150000 [==============================] - 2s 12us/step - loss: 1.1003 - val_loss: 1.0996\n",
      "Epoch 191/250\n",
      "150000/150000 [==============================] - 2s 11us/step - loss: 1.0988 - val_loss: 1.0981\n",
      "Epoch 192/250\n",
      "150000/150000 [==============================] - 2s 12us/step - loss: 1.0973 - val_loss: 1.0966\n",
      "Epoch 193/250\n",
      "150000/150000 [==============================] - 2s 11us/step - loss: 1.0959 - val_loss: 1.0951\n",
      "Epoch 194/250\n",
      "150000/150000 [==============================] - 2s 11us/step - loss: 1.0944 - val_loss: 1.0936\n",
      "Epoch 195/250\n",
      "150000/150000 [==============================] - 2s 11us/step - loss: 1.0929 - val_loss: 1.0922\n",
      "Epoch 196/250\n",
      "150000/150000 [==============================] - 2s 11us/step - loss: 1.0915 - val_loss: 1.0908\n",
      "Epoch 197/250\n",
      "150000/150000 [==============================] - 2s 11us/step - loss: 1.0901 - val_loss: 1.0894\n",
      "Epoch 198/250\n",
      "150000/150000 [==============================] - 2s 11us/step - loss: 1.0887 - val_loss: 1.0880\n",
      "Epoch 199/250\n",
      "150000/150000 [==============================] - 2s 11us/step - loss: 1.0873 - val_loss: 1.0866\n",
      "Epoch 200/250\n",
      "150000/150000 [==============================] - 2s 12us/step - loss: 1.0859 - val_loss: 1.0852\n",
      "Epoch 201/250\n",
      "150000/150000 [==============================] - 2s 11us/step - loss: 1.0846 - val_loss: 1.0839\n",
      "Epoch 202/250\n",
      "150000/150000 [==============================] - 2s 11us/step - loss: 1.0832 - val_loss: 1.0825\n",
      "Epoch 203/250\n",
      "150000/150000 [==============================] - 2s 12us/step - loss: 1.0819 - val_loss: 1.0812\n",
      "Epoch 204/250\n",
      "150000/150000 [==============================] - 2s 12us/step - loss: 1.0806 - val_loss: 1.0799\n",
      "Epoch 205/250\n",
      "150000/150000 [==============================] - 2s 12us/step - loss: 1.0793 - val_loss: 1.0786\n",
      "Epoch 206/250\n",
      "150000/150000 [==============================] - 2s 11us/step - loss: 1.0780 - val_loss: 1.0773\n",
      "Epoch 207/250\n",
      "150000/150000 [==============================] - 2s 12us/step - loss: 1.0767 - val_loss: 1.0761\n",
      "Epoch 208/250\n",
      "150000/150000 [==============================] - 2s 11us/step - loss: 1.0755 - val_loss: 1.0748\n",
      "Epoch 209/250\n",
      "150000/150000 [==============================] - 2s 12us/step - loss: 1.0742 - val_loss: 1.0736\n",
      "Epoch 210/250\n",
      "150000/150000 [==============================] - 2s 11us/step - loss: 1.0730 - val_loss: 1.0723\n",
      "Epoch 211/250\n",
      "150000/150000 [==============================] - 2s 11us/step - loss: 1.0718 - val_loss: 1.0711\n",
      "Epoch 212/250\n",
      "150000/150000 [==============================] - 2s 11us/step - loss: 1.0706 - val_loss: 1.0699\n",
      "Epoch 213/250\n",
      "150000/150000 [==============================] - 2s 12us/step - loss: 1.0694 - val_loss: 1.0687\n",
      "Epoch 214/250\n",
      "150000/150000 [==============================] - 2s 12us/step - loss: 1.0682 - val_loss: 1.0676\n",
      "Epoch 215/250\n",
      "150000/150000 [==============================] - 2s 12us/step - loss: 1.0670 - val_loss: 1.0664\n",
      "Epoch 216/250\n",
      "150000/150000 [==============================] - 2s 11us/step - loss: 1.0658 - val_loss: 1.0653\n",
      "Epoch 217/250\n",
      "150000/150000 [==============================] - 2s 12us/step - loss: 1.0647 - val_loss: 1.0641\n",
      "Epoch 218/250\n",
      "150000/150000 [==============================] - 2s 12us/step - loss: 1.0636 - val_loss: 1.0630\n",
      "Epoch 219/250\n",
      "150000/150000 [==============================] - 2s 12us/step - loss: 1.0624 - val_loss: 1.0619\n",
      "Epoch 220/250\n",
      "150000/150000 [==============================] - 2s 12us/step - loss: 1.0613 - val_loss: 1.0608\n",
      "Epoch 221/250\n",
      "150000/150000 [==============================] - 2s 12us/step - loss: 1.0602 - val_loss: 1.0597\n",
      "Epoch 222/250\n"
     ]
    },
    {
     "name": "stdout",
     "output_type": "stream",
     "text": [
      "150000/150000 [==============================] - 2s 11us/step - loss: 1.0592 - val_loss: 1.0586\n",
      "Epoch 223/250\n",
      "150000/150000 [==============================] - 2s 12us/step - loss: 1.0581 - val_loss: 1.0575\n",
      "Epoch 224/250\n",
      "150000/150000 [==============================] - 2s 11us/step - loss: 1.0570 - val_loss: 1.0565\n",
      "Epoch 225/250\n",
      "150000/150000 [==============================] - 2s 11us/step - loss: 1.0560 - val_loss: 1.0554\n",
      "Epoch 226/250\n",
      "150000/150000 [==============================] - 2s 11us/step - loss: 1.0549 - val_loss: 1.0544\n",
      "Epoch 227/250\n",
      "150000/150000 [==============================] - 2s 11us/step - loss: 1.0539 - val_loss: 1.0533\n",
      "Epoch 228/250\n",
      "150000/150000 [==============================] - 2s 12us/step - loss: 1.0529 - val_loss: 1.0523\n",
      "Epoch 229/250\n",
      "150000/150000 [==============================] - 2s 12us/step - loss: 1.0518 - val_loss: 1.0513\n",
      "Epoch 230/250\n",
      "150000/150000 [==============================] - 2s 12us/step - loss: 1.0508 - val_loss: 1.0503\n",
      "Epoch 231/250\n",
      "150000/150000 [==============================] - 2s 12us/step - loss: 1.0499 - val_loss: 1.0493\n",
      "Epoch 232/250\n",
      "150000/150000 [==============================] - 2s 12us/step - loss: 1.0489 - val_loss: 1.0484\n",
      "Epoch 233/250\n",
      "150000/150000 [==============================] - 2s 12us/step - loss: 1.0479 - val_loss: 1.0474\n",
      "Epoch 234/250\n",
      "150000/150000 [==============================] - 2s 12us/step - loss: 1.0469 - val_loss: 1.0464\n",
      "Epoch 235/250\n",
      "150000/150000 [==============================] - 2s 12us/step - loss: 1.0460 - val_loss: 1.0455\n",
      "Epoch 236/250\n",
      "150000/150000 [==============================] - 2s 12us/step - loss: 1.0450 - val_loss: 1.0446\n",
      "Epoch 237/250\n",
      "150000/150000 [==============================] - 2s 12us/step - loss: 1.0441 - val_loss: 1.0436\n",
      "Epoch 238/250\n",
      "150000/150000 [==============================] - 2s 11us/step - loss: 1.0432 - val_loss: 1.0427\n",
      "Epoch 239/250\n",
      "150000/150000 [==============================] - 2s 12us/step - loss: 1.0423 - val_loss: 1.0418\n",
      "Epoch 240/250\n",
      "150000/150000 [==============================] - 2s 11us/step - loss: 1.0414 - val_loss: 1.0409\n",
      "Epoch 241/250\n",
      "150000/150000 [==============================] - 2s 11us/step - loss: 1.0405 - val_loss: 1.0400\n",
      "Epoch 242/250\n",
      "150000/150000 [==============================] - 2s 11us/step - loss: 1.0396 - val_loss: 1.0391\n",
      "Epoch 243/250\n",
      "150000/150000 [==============================] - 2s 12us/step - loss: 1.0387 - val_loss: 1.0383\n",
      "Epoch 244/250\n",
      "150000/150000 [==============================] - 2s 12us/step - loss: 1.0378 - val_loss: 1.0374\n",
      "Epoch 245/250\n",
      "150000/150000 [==============================] - 2s 12us/step - loss: 1.0370 - val_loss: 1.0365\n",
      "Epoch 246/250\n",
      "150000/150000 [==============================] - 2s 12us/step - loss: 1.0361 - val_loss: 1.0357\n",
      "Epoch 247/250\n",
      "150000/150000 [==============================] - 2s 11us/step - loss: 1.0353 - val_loss: 1.0348\n",
      "Epoch 248/250\n",
      "150000/150000 [==============================] - 2s 11us/step - loss: 1.0344 - val_loss: 1.0340\n",
      "Epoch 249/250\n",
      "150000/150000 [==============================] - 2s 12us/step - loss: 1.0336 - val_loss: 1.0332\n",
      "Epoch 250/250\n",
      "150000/150000 [==============================] - 2s 11us/step - loss: 1.0328 - val_loss: 1.0324\n"
     ]
    },
    {
     "data": {
      "text/plain": [
       "<keras.callbacks.History at 0x7f7d63642b00>"
      ]
     },
     "execution_count": 13,
     "metadata": {},
     "output_type": "execute_result"
    }
   ],
   "source": [
    "model.fit(X_train, X_train, batch_size = 3384, epochs = 250, validation_data = (X_train, X_train))#, callbacks = [callback])"
   ]
  },
  {
   "cell_type": "code",
   "execution_count": 17,
   "metadata": {
    "_uuid": "b5d848c12f5f5b08f3a4a2b089aa53a8d20f46f7"
   },
   "outputs": [
    {
     "data": {
      "text/plain": [
       "array([[-1.55719671,  2.25530785, -0.47691062, ...,  1.50762954,\n",
       "        -0.54724104, -0.77461921],\n",
       "       [-0.71151748, -0.51799278,  0.62932202, ...,  0.69357855,\n",
       "         1.31319101, -1.05251542],\n",
       "       [ 1.88410395, -0.56298726,  0.28014295, ...,  0.34460646,\n",
       "         0.01146651,  0.53121898],\n",
       "       ...,\n",
       "       [ 0.86224566,  0.37757281,  0.99343072, ..., -0.43360239,\n",
       "         0.26469678, -0.64755029],\n",
       "       [ 1.20923909,  1.12696193, -1.29743407, ..., -0.27937258,\n",
       "        -0.36409417,  0.9896979 ],\n",
       "       [ 0.14097458, -1.67339469, -0.34853095, ..., -1.28784002,\n",
       "        -0.79781412, -0.16910667]])"
      ]
     },
     "execution_count": 17,
     "metadata": {},
     "output_type": "execute_result"
    }
   ],
   "source": [
    "X_train"
   ]
  },
  {
   "cell_type": "code",
   "execution_count": 18,
   "metadata": {},
   "outputs": [
    {
     "data": {
      "text/plain": [
       "array([[-0.4409571 ,  0.80557257, -0.02908074, ...,  0.3095525 ,\n",
       "         0.34373307,  0.02850716],\n",
       "       [-0.24878809, -0.07416996,  0.17118016, ..., -0.1615658 ,\n",
       "         0.1286479 , -0.4386423 ],\n",
       "       [ 0.45335597, -0.03422229,  0.15275905, ...,  0.04941891,\n",
       "        -0.06522697,  0.5861813 ],\n",
       "       ...,\n",
       "       [ 0.0222072 ,  0.11156341,  0.3591193 , ..., -0.18996894,\n",
       "         0.12359129, -0.2730997 ],\n",
       "       [ 0.42270485,  0.46257484, -0.19016089, ..., -0.13249828,\n",
       "        -0.07230134,  0.2287719 ],\n",
       "       [-0.26242083, -0.28496543,  0.18039341, ...,  0.14899902,\n",
       "        -0.44658098,  0.16187905]], dtype=float32)"
      ]
     },
     "execution_count": 18,
     "metadata": {},
     "output_type": "execute_result"
    }
   ],
   "source": [
    "x_ae=model.predict(X_train)\n",
    "x_ae"
   ]
  },
  {
   "cell_type": "code",
   "execution_count": 16,
   "metadata": {},
   "outputs": [
    {
     "name": "stderr",
     "output_type": "stream",
     "text": [
      "/home/ubuntu/anaconda3/lib/python3.6/site-packages/keras/engine/sequential.py:247: UserWarning: Network returning invalid probability values. The last layer might not normalize predictions into probabilities (like softmax or sigmoid would).\n",
      "  warnings.warn('Network returning invalid probability values. '\n"
     ]
    },
    {
     "ename": "ValueError",
     "evalue": "bad input shape (50000, 200)",
     "output_type": "error",
     "traceback": [
      "\u001b[0;31m---------------------------------------------------------------------------\u001b[0m",
      "\u001b[0;31mValueError\u001b[0m                                Traceback (most recent call last)",
      "\u001b[0;32m<ipython-input-16-fde429b70e3e>\u001b[0m in \u001b[0;36m<module>\u001b[0;34m()\u001b[0m\n\u001b[1;32m      1\u001b[0m \u001b[0my_pred\u001b[0m \u001b[0;34m=\u001b[0m \u001b[0mmodel\u001b[0m\u001b[0;34m.\u001b[0m\u001b[0mpredict_proba\u001b[0m\u001b[0;34m(\u001b[0m\u001b[0mX_test\u001b[0m\u001b[0;34m)\u001b[0m\u001b[0;34m\u001b[0m\u001b[0m\n\u001b[0;32m----> 2\u001b[0;31m \u001b[0mroc_auc_score\u001b[0m\u001b[0;34m(\u001b[0m\u001b[0my_test\u001b[0m\u001b[0;34m,\u001b[0m \u001b[0my_pred\u001b[0m\u001b[0;34m)\u001b[0m\u001b[0;34m\u001b[0m\u001b[0m\n\u001b[0m",
      "\u001b[0;32m~/anaconda3/lib/python3.6/site-packages/sklearn/metrics/ranking.py\u001b[0m in \u001b[0;36mroc_auc_score\u001b[0;34m(y_true, y_score, average, sample_weight)\u001b[0m\n\u001b[1;32m    275\u001b[0m     return _average_binary_score(\n\u001b[1;32m    276\u001b[0m         \u001b[0m_binary_roc_auc_score\u001b[0m\u001b[0;34m,\u001b[0m \u001b[0my_true\u001b[0m\u001b[0;34m,\u001b[0m \u001b[0my_score\u001b[0m\u001b[0;34m,\u001b[0m \u001b[0maverage\u001b[0m\u001b[0;34m,\u001b[0m\u001b[0;34m\u001b[0m\u001b[0m\n\u001b[0;32m--> 277\u001b[0;31m         sample_weight=sample_weight)\n\u001b[0m\u001b[1;32m    278\u001b[0m \u001b[0;34m\u001b[0m\u001b[0m\n\u001b[1;32m    279\u001b[0m \u001b[0;34m\u001b[0m\u001b[0m\n",
      "\u001b[0;32m~/anaconda3/lib/python3.6/site-packages/sklearn/metrics/base.py\u001b[0m in \u001b[0;36m_average_binary_score\u001b[0;34m(binary_metric, y_true, y_score, average, sample_weight)\u001b[0m\n\u001b[1;32m     73\u001b[0m \u001b[0;34m\u001b[0m\u001b[0m\n\u001b[1;32m     74\u001b[0m     \u001b[0;32mif\u001b[0m \u001b[0my_type\u001b[0m \u001b[0;34m==\u001b[0m \u001b[0;34m\"binary\"\u001b[0m\u001b[0;34m:\u001b[0m\u001b[0;34m\u001b[0m\u001b[0m\n\u001b[0;32m---> 75\u001b[0;31m         \u001b[0;32mreturn\u001b[0m \u001b[0mbinary_metric\u001b[0m\u001b[0;34m(\u001b[0m\u001b[0my_true\u001b[0m\u001b[0;34m,\u001b[0m \u001b[0my_score\u001b[0m\u001b[0;34m,\u001b[0m \u001b[0msample_weight\u001b[0m\u001b[0;34m=\u001b[0m\u001b[0msample_weight\u001b[0m\u001b[0;34m)\u001b[0m\u001b[0;34m\u001b[0m\u001b[0m\n\u001b[0m\u001b[1;32m     76\u001b[0m \u001b[0;34m\u001b[0m\u001b[0m\n\u001b[1;32m     77\u001b[0m     \u001b[0mcheck_consistent_length\u001b[0m\u001b[0;34m(\u001b[0m\u001b[0my_true\u001b[0m\u001b[0;34m,\u001b[0m \u001b[0my_score\u001b[0m\u001b[0;34m,\u001b[0m \u001b[0msample_weight\u001b[0m\u001b[0;34m)\u001b[0m\u001b[0;34m\u001b[0m\u001b[0m\n",
      "\u001b[0;32m~/anaconda3/lib/python3.6/site-packages/sklearn/metrics/ranking.py\u001b[0m in \u001b[0;36m_binary_roc_auc_score\u001b[0;34m(y_true, y_score, sample_weight)\u001b[0m\n\u001b[1;32m    270\u001b[0m \u001b[0;34m\u001b[0m\u001b[0m\n\u001b[1;32m    271\u001b[0m         fpr, tpr, tresholds = roc_curve(y_true, y_score,\n\u001b[0;32m--> 272\u001b[0;31m                                         sample_weight=sample_weight)\n\u001b[0m\u001b[1;32m    273\u001b[0m         \u001b[0;32mreturn\u001b[0m \u001b[0mauc\u001b[0m\u001b[0;34m(\u001b[0m\u001b[0mfpr\u001b[0m\u001b[0;34m,\u001b[0m \u001b[0mtpr\u001b[0m\u001b[0;34m,\u001b[0m \u001b[0mreorder\u001b[0m\u001b[0;34m=\u001b[0m\u001b[0;32mTrue\u001b[0m\u001b[0;34m)\u001b[0m\u001b[0;34m\u001b[0m\u001b[0m\n\u001b[1;32m    274\u001b[0m \u001b[0;34m\u001b[0m\u001b[0m\n",
      "\u001b[0;32m~/anaconda3/lib/python3.6/site-packages/sklearn/metrics/ranking.py\u001b[0m in \u001b[0;36mroc_curve\u001b[0;34m(y_true, y_score, pos_label, sample_weight, drop_intermediate)\u001b[0m\n\u001b[1;32m    532\u001b[0m     \"\"\"\n\u001b[1;32m    533\u001b[0m     fps, tps, thresholds = _binary_clf_curve(\n\u001b[0;32m--> 534\u001b[0;31m         y_true, y_score, pos_label=pos_label, sample_weight=sample_weight)\n\u001b[0m\u001b[1;32m    535\u001b[0m \u001b[0;34m\u001b[0m\u001b[0m\n\u001b[1;32m    536\u001b[0m     \u001b[0;31m# Attempt to drop thresholds corresponding to points in between and\u001b[0m\u001b[0;34m\u001b[0m\u001b[0;34m\u001b[0m\u001b[0m\n",
      "\u001b[0;32m~/anaconda3/lib/python3.6/site-packages/sklearn/metrics/ranking.py\u001b[0m in \u001b[0;36m_binary_clf_curve\u001b[0;34m(y_true, y_score, pos_label, sample_weight)\u001b[0m\n\u001b[1;32m    320\u001b[0m     \u001b[0mcheck_consistent_length\u001b[0m\u001b[0;34m(\u001b[0m\u001b[0my_true\u001b[0m\u001b[0;34m,\u001b[0m \u001b[0my_score\u001b[0m\u001b[0;34m,\u001b[0m \u001b[0msample_weight\u001b[0m\u001b[0;34m)\u001b[0m\u001b[0;34m\u001b[0m\u001b[0m\n\u001b[1;32m    321\u001b[0m     \u001b[0my_true\u001b[0m \u001b[0;34m=\u001b[0m \u001b[0mcolumn_or_1d\u001b[0m\u001b[0;34m(\u001b[0m\u001b[0my_true\u001b[0m\u001b[0;34m)\u001b[0m\u001b[0;34m\u001b[0m\u001b[0m\n\u001b[0;32m--> 322\u001b[0;31m     \u001b[0my_score\u001b[0m \u001b[0;34m=\u001b[0m \u001b[0mcolumn_or_1d\u001b[0m\u001b[0;34m(\u001b[0m\u001b[0my_score\u001b[0m\u001b[0;34m)\u001b[0m\u001b[0;34m\u001b[0m\u001b[0m\n\u001b[0m\u001b[1;32m    323\u001b[0m     \u001b[0massert_all_finite\u001b[0m\u001b[0;34m(\u001b[0m\u001b[0my_true\u001b[0m\u001b[0;34m)\u001b[0m\u001b[0;34m\u001b[0m\u001b[0m\n\u001b[1;32m    324\u001b[0m     \u001b[0massert_all_finite\u001b[0m\u001b[0;34m(\u001b[0m\u001b[0my_score\u001b[0m\u001b[0;34m)\u001b[0m\u001b[0;34m\u001b[0m\u001b[0m\n",
      "\u001b[0;32m~/anaconda3/lib/python3.6/site-packages/sklearn/utils/validation.py\u001b[0m in \u001b[0;36mcolumn_or_1d\u001b[0;34m(y, warn)\u001b[0m\n\u001b[1;32m    612\u001b[0m         \u001b[0;32mreturn\u001b[0m \u001b[0mnp\u001b[0m\u001b[0;34m.\u001b[0m\u001b[0mravel\u001b[0m\u001b[0;34m(\u001b[0m\u001b[0my\u001b[0m\u001b[0;34m)\u001b[0m\u001b[0;34m\u001b[0m\u001b[0m\n\u001b[1;32m    613\u001b[0m \u001b[0;34m\u001b[0m\u001b[0m\n\u001b[0;32m--> 614\u001b[0;31m     \u001b[0;32mraise\u001b[0m \u001b[0mValueError\u001b[0m\u001b[0;34m(\u001b[0m\u001b[0;34m\"bad input shape {0}\"\u001b[0m\u001b[0;34m.\u001b[0m\u001b[0mformat\u001b[0m\u001b[0;34m(\u001b[0m\u001b[0mshape\u001b[0m\u001b[0;34m)\u001b[0m\u001b[0;34m)\u001b[0m\u001b[0;34m\u001b[0m\u001b[0m\n\u001b[0m\u001b[1;32m    615\u001b[0m \u001b[0;34m\u001b[0m\u001b[0m\n\u001b[1;32m    616\u001b[0m \u001b[0;34m\u001b[0m\u001b[0m\n",
      "\u001b[0;31mValueError\u001b[0m: bad input shape (50000, 200)"
     ]
    }
   ],
   "source": [
    "y_pred = model.predict_proba(X_test)\n",
    "roc_auc_score(y_test, y_pred)"
   ]
  },
  {
   "cell_type": "code",
   "execution_count": null,
   "metadata": {
    "_uuid": "89b22d2fcee7187cf033ff95f3ab621ba4c7dba9"
   },
   "outputs": [],
   "source": [
    "id_code_test = test['ID_code']\n",
    "# Make predicitions\n",
    "pred = model.predict(test_features)\n",
    "pred_ = pred[:,0]"
   ]
  },
  {
   "cell_type": "code",
   "execution_count": null,
   "metadata": {
    "_uuid": "b594f20d96642cef8cd64a347c1bb04124c09fd1"
   },
   "outputs": [],
   "source": [
    "pred_"
   ]
  },
  {
   "cell_type": "code",
   "execution_count": null,
   "metadata": {
    "_kg_hide-output": false,
    "_uuid": "c8d5f4fc81d2b5a0091269425383577bb2707592"
   },
   "outputs": [],
   "source": [
    "# To CSV\n",
    "my_submission = pd.DataFrame({\"ID_code\" : id_code_test, \"target\" : pred_})"
   ]
  },
  {
   "cell_type": "code",
   "execution_count": null,
   "metadata": {
    "_uuid": "20483d977735cfd3ea4a90ad7f6b1396a76b07e2"
   },
   "outputs": [],
   "source": [
    "my_submission"
   ]
  },
  {
   "cell_type": "code",
   "execution_count": null,
   "metadata": {
    "_uuid": "33d7f6d84ad3acfb88de49899f4db775ae7857d8"
   },
   "outputs": [],
   "source": [
    "my_submission.to_csv('submission.csv', index = False, header = True)"
   ]
  },
  {
   "cell_type": "code",
   "execution_count": null,
   "metadata": {
    "_uuid": "5b9c899f9688e19de9049e1cd6f65a8055eaea6d"
   },
   "outputs": [],
   "source": []
  }
 ],
 "metadata": {
  "kernelspec": {
   "display_name": "Python 3",
   "language": "python",
   "name": "python3"
  },
  "language_info": {
   "codemirror_mode": {
    "name": "ipython",
    "version": 3
   },
   "file_extension": ".py",
   "mimetype": "text/x-python",
   "name": "python",
   "nbconvert_exporter": "python",
   "pygments_lexer": "ipython3",
   "version": "3.6.5"
  }
 },
 "nbformat": 4,
 "nbformat_minor": 1
}
