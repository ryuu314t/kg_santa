{
 "cells": [
  {
   "cell_type": "code",
   "execution_count": 1,
   "metadata": {},
   "outputs": [
    {
     "name": "stderr",
     "output_type": "stream",
     "text": [
      "/home/ubuntu/anaconda3/lib/python3.6/site-packages/sklearn/cross_validation.py:41: DeprecationWarning: This module was deprecated in version 0.18 in favor of the model_selection module into which all the refactored classes and functions are moved. Also note that the interface of the new CV iterators are different from that of this module. This module will be removed in 0.20.\n",
      "  \"This module will be removed in 0.20.\", DeprecationWarning)\n",
      "/home/ubuntu/anaconda3/lib/python3.6/site-packages/sklearn/grid_search.py:42: DeprecationWarning: This module was deprecated in version 0.18 in favor of the model_selection module into which all the refactored classes and functions are moved. This module will be removed in 0.20.\n",
      "  DeprecationWarning)\n"
     ]
    }
   ],
   "source": [
    "import gc\n",
    "import os\n",
    "import logging\n",
    "import datetime\n",
    "import warnings\n",
    "import numpy as np\n",
    "import pandas as pd\n",
    "import seaborn as sns\n",
    "import lightgbm as lgb\n",
    "import matplotlib.pyplot as plt\n",
    "from sklearn.metrics import mean_squared_error\n",
    "from sklearn.metrics import roc_auc_score, roc_curve\n",
    "from sklearn.model_selection import StratifiedKFold\n",
    "from sklearn.model_selection import ShuffleSplit\n",
    "\n",
    "from sklearn.model_selection import GridSearchCV\n",
    "from sklearn.grid_search import RandomizedSearchCV\n",
    "from sklearn.metrics import confusion_matrix\n",
    "from sklearn.metrics import accuracy_score\n",
    "\n",
    "warnings.filterwarnings('ignore')\n"
   ]
  },
  {
   "cell_type": "markdown",
   "metadata": {},
   "source": [
    "基本変数定義"
   ]
  },
  {
   "cell_type": "code",
   "execution_count": 2,
   "metadata": {},
   "outputs": [],
   "source": [
    "sampling_flg=0 #サンプリング有無をコントロール\n",
    "submit_flg=1 #保存するかをコントロール（サンプリングしない時のみ）\n",
    "\n",
    "SEED=12345\n",
    "sample_num=10000\n",
    "fold_num=5\n",
    "\n",
    "#train関連\n",
    "train_dir='../../01_input/train.csv'\n",
    "train_drop_col=['ID_code', 'target']\n",
    "train_label='target'\n",
    "\n",
    "#test関連\n",
    "test_dir='../../01_input/test.csv'\n",
    "test_drop_col=['ID_code']\n",
    "\n",
    "#結果ファイル関連　nameは自分の名前に変更する\n",
    "train_preds_dir='../../03_predict_train/name_200_LightGBM_train.csv'\n",
    "test_preds_dir='../../04_predict_test/name_200_LightGBM_submission.csv'\n",
    "save_col_name='oof_xgb'\n",
    "\n",
    "sample_submission_dir='../../01_input/sample_submission.csv'\n",
    "submission_target_col_name='target'\n",
    "submission_id_col_name='ID_code'"
   ]
  },
  {
   "cell_type": "markdown",
   "metadata": {},
   "source": [
    "前処理"
   ]
  },
  {
   "cell_type": "code",
   "execution_count": 3,
   "metadata": {},
   "outputs": [],
   "source": [
    "#ロード\n",
    "train_df=pd.read_csv(train_dir)\n",
    "test_df=pd.read_csv(test_dir)"
   ]
  },
  {
   "cell_type": "code",
   "execution_count": 4,
   "metadata": {},
   "outputs": [],
   "source": [
    "#サンプリング\n",
    "if sampling_flg ==1:\n",
    "    train_df=train_df.sample(n=sample_num,random_state=SEED)\n",
    "    test_df=test_df.sample(n=sample_num,random_state=SEED)"
   ]
  },
  {
   "cell_type": "code",
   "execution_count": 5,
   "metadata": {},
   "outputs": [],
   "source": [
    "#x,y作成\n",
    "x_train=train_df.drop(train_drop_col,axis=1)\n",
    "y_train=train_df[train_label]\n",
    "x_test=test_df.drop(test_drop_col,axis=1)"
   ]
  },
  {
   "cell_type": "markdown",
   "metadata": {},
   "source": [
    "モデル実行"
   ]
  },
  {
   "cell_type": "code",
   "execution_count": 6,
   "metadata": {},
   "outputs": [],
   "source": [
    "#model_param\n",
    "param = {\n",
    "    \"objective\" : \"binary\", \n",
    "    \"boost\":\"gbdt\",\n",
    "    \"metric\":\"auc\",\n",
    "    \"boost_from_average\":\"false\",\n",
    "    \"num_threads\":28,\n",
    "    \"learning_rate\" : 0.01,\n",
    "    \"num_leaves\" : 13,\n",
    "    \"max_depth\":-1,\n",
    "    \"tree_learner\" : \"serial\",\n",
    "    \"feature_fraction\" : 0.05,\n",
    "    \"bagging_freq\" : 5,\n",
    "    \"bagging_fraction\" : 0.4,\n",
    "    \"min_data_in_leaf\" : 80,\n",
    "    \"min_sum_hessian_in_leaf\" : 10.0,\n",
    "    \"verbosity\" : 1,\n",
    "    'seed': 44000,\n",
    "    }"
   ]
  },
  {
   "cell_type": "code",
   "execution_count": 7,
   "metadata": {},
   "outputs": [
    {
     "name": "stdout",
     "output_type": "stream",
     "text": [
      "\n",
      "\n",
      "Fold 0\n",
      "Training until validation scores don't improve for 3000 rounds.\n",
      "[1000]\ttraining's auc: 0.902501\tvalid_1's auc: 0.883641\n",
      "[2000]\ttraining's auc: 0.913648\tvalid_1's auc: 0.890992\n",
      "[3000]\ttraining's auc: 0.921715\tvalid_1's auc: 0.894921\n",
      "[4000]\ttraining's auc: 0.927903\tvalid_1's auc: 0.897152\n",
      "[5000]\ttraining's auc: 0.933008\tvalid_1's auc: 0.898175\n",
      "[6000]\ttraining's auc: 0.937593\tvalid_1's auc: 0.898822\n",
      "[7000]\ttraining's auc: 0.9417\tvalid_1's auc: 0.899129\n",
      "[8000]\ttraining's auc: 0.945654\tvalid_1's auc: 0.899187\n",
      "[9000]\ttraining's auc: 0.949351\tvalid_1's auc: 0.899173\n",
      "[10000]\ttraining's auc: 0.95295\tvalid_1's auc: 0.899147\n",
      "[11000]\ttraining's auc: 0.956288\tvalid_1's auc: 0.899114\n",
      "[12000]\ttraining's auc: 0.959506\tvalid_1's auc: 0.899032\n",
      "Early stopping, best iteration is:\n",
      "[9520]\ttraining's auc: 0.95128\tvalid_1's auc: 0.899289\n",
      "AUC = 0.8992888452321642\n",
      "[[35576   405]\n",
      " [ 2621  1399]]\n",
      "\n",
      "\n",
      "Fold 1\n",
      "Training until validation scores don't improve for 3000 rounds.\n",
      "[1000]\ttraining's auc: 0.902757\tvalid_1's auc: 0.882952\n",
      "[2000]\ttraining's auc: 0.913688\tvalid_1's auc: 0.890131\n",
      "[3000]\ttraining's auc: 0.921616\tvalid_1's auc: 0.894135\n",
      "[4000]\ttraining's auc: 0.927784\tvalid_1's auc: 0.896556\n",
      "[5000]\ttraining's auc: 0.932955\tvalid_1's auc: 0.897655\n",
      "[6000]\ttraining's auc: 0.937492\tvalid_1's auc: 0.898435\n",
      "[7000]\ttraining's auc: 0.941675\tvalid_1's auc: 0.898795\n",
      "[8000]\ttraining's auc: 0.945568\tvalid_1's auc: 0.89888\n",
      "[9000]\ttraining's auc: 0.949335\tvalid_1's auc: 0.898842\n",
      "[10000]\ttraining's auc: 0.952908\tvalid_1's auc: 0.89881\n",
      "Early stopping, best iteration is:\n",
      "[7548]\ttraining's auc: 0.943832\tvalid_1's auc: 0.898935\n",
      "AUC = 0.8989347611737041\n",
      "[[35643   338]\n",
      " [ 2713  1307]]\n",
      "\n",
      "\n",
      "Fold 2\n",
      "Training until validation scores don't improve for 3000 rounds.\n",
      "[1000]\ttraining's auc: 0.90259\tvalid_1's auc: 0.881495\n",
      "[2000]\ttraining's auc: 0.913626\tvalid_1's auc: 0.88864\n",
      "[3000]\ttraining's auc: 0.921463\tvalid_1's auc: 0.892837\n",
      "[4000]\ttraining's auc: 0.927701\tvalid_1's auc: 0.895447\n",
      "[5000]\ttraining's auc: 0.932813\tvalid_1's auc: 0.896694\n",
      "[6000]\ttraining's auc: 0.937368\tvalid_1's auc: 0.897658\n",
      "[7000]\ttraining's auc: 0.941525\tvalid_1's auc: 0.898163\n",
      "[8000]\ttraining's auc: 0.945517\tvalid_1's auc: 0.89835\n",
      "[9000]\ttraining's auc: 0.949208\tvalid_1's auc: 0.898369\n",
      "[10000]\ttraining's auc: 0.952722\tvalid_1's auc: 0.898441\n",
      "[11000]\ttraining's auc: 0.95611\tvalid_1's auc: 0.898354\n",
      "[12000]\ttraining's auc: 0.95931\tvalid_1's auc: 0.89827\n",
      "Early stopping, best iteration is:\n",
      "[9972]\ttraining's auc: 0.952644\tvalid_1's auc: 0.898449\n",
      "AUC = 0.8984492559437388\n",
      "[[35541   439]\n",
      " [ 2628  1392]]\n",
      "\n",
      "\n",
      "Fold 3\n",
      "Training until validation scores don't improve for 3000 rounds.\n",
      "[1000]\ttraining's auc: 0.902046\tvalid_1's auc: 0.883782\n",
      "[2000]\ttraining's auc: 0.913379\tvalid_1's auc: 0.891011\n",
      "[3000]\ttraining's auc: 0.92158\tvalid_1's auc: 0.894889\n",
      "[4000]\ttraining's auc: 0.927651\tvalid_1's auc: 0.896915\n",
      "[5000]\ttraining's auc: 0.932713\tvalid_1's auc: 0.897918\n",
      "[6000]\ttraining's auc: 0.937233\tvalid_1's auc: 0.898636\n",
      "[7000]\ttraining's auc: 0.941376\tvalid_1's auc: 0.898759\n",
      "[8000]\ttraining's auc: 0.94529\tvalid_1's auc: 0.898777\n",
      "[9000]\ttraining's auc: 0.949006\tvalid_1's auc: 0.898882\n",
      "[10000]\ttraining's auc: 0.952543\tvalid_1's auc: 0.898836\n",
      "[11000]\ttraining's auc: 0.955896\tvalid_1's auc: 0.898728\n",
      "[12000]\ttraining's auc: 0.959132\tvalid_1's auc: 0.898485\n",
      "Early stopping, best iteration is:\n",
      "[9158]\ttraining's auc: 0.949564\tvalid_1's auc: 0.898954\n",
      "AUC = 0.8989539542647687\n",
      "[[35571   409]\n",
      " [ 2573  1446]]\n",
      "\n",
      "\n",
      "Fold 4\n",
      "Training until validation scores don't improve for 3000 rounds.\n",
      "[1000]\ttraining's auc: 0.900678\tvalid_1's auc: 0.886916\n",
      "[2000]\ttraining's auc: 0.911812\tvalid_1's auc: 0.895603\n",
      "[3000]\ttraining's auc: 0.91983\tvalid_1's auc: 0.900465\n",
      "[4000]\ttraining's auc: 0.926053\tvalid_1's auc: 0.903129\n",
      "[5000]\ttraining's auc: 0.931256\tvalid_1's auc: 0.904641\n",
      "[6000]\ttraining's auc: 0.935828\tvalid_1's auc: 0.905579\n",
      "[7000]\ttraining's auc: 0.940082\tvalid_1's auc: 0.90588\n",
      "[8000]\ttraining's auc: 0.944072\tvalid_1's auc: 0.905946\n",
      "[9000]\ttraining's auc: 0.947857\tvalid_1's auc: 0.906073\n",
      "[10000]\ttraining's auc: 0.951442\tvalid_1's auc: 0.905951\n",
      "[11000]\ttraining's auc: 0.954878\tvalid_1's auc: 0.905934\n",
      "[12000]\ttraining's auc: 0.958186\tvalid_1's auc: 0.905828\n",
      "Early stopping, best iteration is:\n",
      "[9172]\ttraining's auc: 0.948465\tvalid_1's auc: 0.906102\n",
      "AUC = 0.9061021155625288\n",
      "[[35612   368]\n",
      " [ 2610  1409]]\n",
      "Overall AUC = 0.9002723831246039\n",
      "[[177943   1959]\n",
      " [ 13145   6953]]\n"
     ]
    }
   ],
   "source": [
    "folds = StratifiedKFold(n_splits=fold_num, shuffle=True, random_state=SEED)\n",
    "oof_preds = np.zeros((len(x_train), 1))\n",
    "test_preds = np.zeros((len(x_test), 1))\n",
    "\n",
    "for fold_, (trn_idx, val_idx) in enumerate(folds.split(x_train.values, y_train.values)):\n",
    "    print(\"\\n\")\n",
    "    print(\"Fold {}\".format(fold_))\n",
    "    trn_x,trn_y = x_train.iloc[trn_idx], y_train.iloc[trn_idx]\n",
    "    val_x,val_y = x_train.iloc[val_idx], y_train.iloc[val_idx]\n",
    "    trn_data = lgb.Dataset(trn_x,trn_y)\n",
    "    val_data = lgb.Dataset(val_x,val_y)\n",
    "    \n",
    "    num_round = 1000000\n",
    "    clf = lgb.train(param, trn_data, num_round, valid_sets = [trn_data, val_data], verbose_eval=1000, early_stopping_rounds = 3000)\n",
    "    val_pred = clf.predict(val_x, num_iteration=clf.best_iteration)\n",
    "    test_pred = clf.predict(x_test, num_iteration=clf.best_iteration)\n",
    "    \n",
    "    print(\"AUC = {}\".format(roc_auc_score(val_y, val_pred)))\n",
    "    #print(\"val = {}\".format(val_pred)\n",
    "    oof_preds[val_idx, :] = val_pred.reshape((-1, 1))\n",
    "    test_preds += test_pred.reshape((-1, 1))\n",
    "    \n",
    "    print(confusion_matrix(val_y, pd.DataFrame(np.round(val_pred))))\n",
    "    \n",
    "test_preds /= fold_num\n",
    "roc_score = roc_auc_score(y_train, oof_preds.ravel())\n",
    "print(\"Overall AUC = {}\".format(roc_score))\n",
    "print(confusion_matrix(y_train, pd.DataFrame(np.round(oof_preds))))"
   ]
  },
  {
   "cell_type": "code",
   "execution_count": 8,
   "metadata": {},
   "outputs": [],
   "source": [
    "#結果保存\n",
    "if (submit_flg ==1 and sampling_flg==0):\n",
    "    series_oof_preds = pd.Series(data=oof_preds[:,0], name=save_col_name, dtype='float')\n",
    "    series_oof_preds.to_csv(train_preds_dir,header=True, index=False)\n",
    "\n",
    "    sample = pd.read_csv(sample_submission_dir)\n",
    "    sample.target = test_preds[:,0].astype(float)\n",
    "    sample.ID_code = test_df['ID_code']\n",
    "    sample.to_csv(test_preds_dir, index=False)\n",
    "    "
   ]
  },
  {
   "cell_type": "code",
   "execution_count": null,
   "metadata": {},
   "outputs": [],
   "source": []
  }
 ],
 "metadata": {
  "kernelspec": {
   "display_name": "Python 3",
   "language": "python",
   "name": "python3"
  },
  "language_info": {
   "codemirror_mode": {
    "name": "ipython",
    "version": 3
   },
   "file_extension": ".py",
   "mimetype": "text/x-python",
   "name": "python",
   "nbconvert_exporter": "python",
   "pygments_lexer": "ipython3",
   "version": "3.6.5"
  }
 },
 "nbformat": 4,
 "nbformat_minor": 2
}
