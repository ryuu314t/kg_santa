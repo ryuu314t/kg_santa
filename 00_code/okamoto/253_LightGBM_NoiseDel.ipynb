{
 "cells": [
  {
   "cell_type": "code",
   "execution_count": 1,
   "metadata": {},
   "outputs": [],
   "source": [
    "import gc\n",
    "import os\n",
    "import logging\n",
    "import datetime\n",
    "import warnings\n",
    "import numpy as np\n",
    "import pandas as pd\n",
    "import seaborn as sns\n",
    "import lightgbm as lgb\n",
    "import matplotlib.pyplot as plt\n",
    "from sklearn.metrics import mean_squared_error\n",
    "from sklearn.metrics import roc_auc_score, roc_curve\n",
    "from sklearn.model_selection import StratifiedKFold\n",
    "from sklearn.model_selection import ShuffleSplit\n",
    "\n",
    "from sklearn.metrics import confusion_matrix\n",
    "from sklearn.metrics import accuracy_score\n",
    "\n",
    "warnings.filterwarnings('ignore')\n"
   ]
  },
  {
   "cell_type": "markdown",
   "metadata": {},
   "source": [
    "基本変数定義"
   ]
  },
  {
   "cell_type": "code",
   "execution_count": 2,
   "metadata": {},
   "outputs": [],
   "source": [
    "sampling_flg=0 #サンプリング有無をコントロール\n",
    "submit_flg=1 #保存するかをコントロール（サンプリングしない時のみ）\n",
    "\n",
    "SEED=12345\n",
    "sample_num=10000\n",
    "fold_num=5\n",
    "\n",
    "#train関連\n",
    "train_dir='../../01_input/train.csv'\n",
    "train_mean_dir='../../02_feature/122-2_train_mean.csv'\n",
    "train_drop_col=['ID_code', 'target']\n",
    "train_label='target'\n",
    "\n",
    "#test関連\n",
    "test_dir='../../01_input/test.csv'\n",
    "test_mean_dir='../../02_feature/122-2_test_mean.csv'\n",
    "test_drop_col=['ID_code']\n",
    "\n",
    "#予測結果\n",
    "pred_test_dir='../../04_predict_test/oka_252-2_LightGBM_submission.csv'\n",
    "pred_train_dir='../../03_predict_train/oka_252-2_LightGBM_train.csv'\n",
    "\n",
    "#結果ファイル関連　nameは自分の名前に変更する\n",
    "train_preds_dir='../../03_predict_train/name_253_LightGBM_train.csv'\n",
    "test_preds_dir='../../04_predict_test/name_253_LightGBM_submission.csv'\n",
    "save_col_name='oof_xgb'\n",
    "\n",
    "sample_submission_dir='../../01_input/sample_submission.csv'\n",
    "submission_target_col_name='target'\n",
    "submission_id_col_name='ID_code'"
   ]
  },
  {
   "cell_type": "markdown",
   "metadata": {},
   "source": [
    "前処理"
   ]
  },
  {
   "cell_type": "code",
   "execution_count": 3,
   "metadata": {},
   "outputs": [],
   "source": [
    "#ロード\n",
    "train_df=pd.read_csv(train_dir)\n",
    "test_df=pd.read_csv(test_dir)\n",
    "train_mean_df=pd.read_csv(train_mean_dir,header=None,index_col=0)\n",
    "test_mean_df=pd.read_csv(test_mean_dir,header=None,index_col=0)"
   ]
  },
  {
   "cell_type": "code",
   "execution_count": 4,
   "metadata": {},
   "outputs": [],
   "source": [
    "train_df['mean']=train_mean_df"
   ]
  },
  {
   "cell_type": "code",
   "execution_count": 5,
   "metadata": {},
   "outputs": [
    {
     "data": {
      "text/plain": [
       "188945"
      ]
     },
     "execution_count": 5,
     "metadata": {},
     "output_type": "execute_result"
    }
   ],
   "source": [
    "len(train_df[~((train_df['mean']>0.5) & (train_df['target']==0))])"
   ]
  },
  {
   "cell_type": "code",
   "execution_count": 6,
   "metadata": {},
   "outputs": [],
   "source": [
    "#train_df=train_df[~((train_df['mean']>0.5) & (train_df['target']==0))]"
   ]
  },
  {
   "cell_type": "code",
   "execution_count": 7,
   "metadata": {},
   "outputs": [],
   "source": [
    "#x,y作成\n",
    "x_train=train_df.drop(train_drop_col,axis=1)\n",
    "y_train=train_df[train_label]\n",
    "x_test=test_df.drop(test_drop_col,axis=1)"
   ]
  },
  {
   "cell_type": "markdown",
   "metadata": {},
   "source": [
    "モデル実行"
   ]
  },
  {
   "cell_type": "code",
   "execution_count": 8,
   "metadata": {},
   "outputs": [],
   "source": [
    "#model_param\n",
    "param = {\n",
    "    \"objective\" : \"binary\", \n",
    "    \"boost\":\"gbdt\",\n",
    "    \"metric\":\"auc\",\n",
    "    \"boost_from_average\":\"false\",\n",
    "    \"num_threads\":28,\n",
    "    \"learning_rate\" : 0.01,\n",
    "    \"num_leaves\" : 13,\n",
    "    \"max_depth\":-1,\n",
    "    \"tree_learner\" : \"serial\",\n",
    "    \"feature_fraction\" : 0.05,\n",
    "    \"bagging_freq\" : 5,\n",
    "    \"bagging_fraction\" : 0.4,\n",
    "    \"min_data_in_leaf\" : 80,\n",
    "    \"min_sum_hessian_in_leaf\" : 10.0,\n",
    "    \"verbosity\" : 1,\n",
    "    'seed': 44000,\n",
    "    }"
   ]
  },
  {
   "cell_type": "code",
   "execution_count": null,
   "metadata": {},
   "outputs": [
    {
     "name": "stdout",
     "output_type": "stream",
     "text": [
      "\n",
      "\n",
      "Fold 0\n",
      "159999\n",
      "151156\n",
      "Training until validation scores don't improve for 3000 rounds.\n",
      "[1000]\ttraining's auc: 0.934018\tvalid_1's auc: 0.893053\n",
      "[2000]\ttraining's auc: 0.941214\tvalid_1's auc: 0.897205\n",
      "[3000]\ttraining's auc: 0.947818\tvalid_1's auc: 0.89835\n",
      "[4000]\ttraining's auc: 0.953844\tvalid_1's auc: 0.898459\n",
      "[5000]\ttraining's auc: 0.959638\tvalid_1's auc: 0.898201\n",
      "[6000]\ttraining's auc: 0.964812\tvalid_1's auc: 0.897635\n",
      "Early stopping, best iteration is:\n",
      "[3979]\ttraining's auc: 0.953718\tvalid_1's auc: 0.89848\n",
      "AUC = 0.8984802094969693\n",
      "[[33749  2232]\n",
      " [ 1499  2521]]\n",
      "\n",
      "\n",
      "Fold 1\n",
      "159999\n",
      "151125\n",
      "Training until validation scores don't improve for 3000 rounds.\n",
      "[1000]\ttraining's auc: 0.934081\tvalid_1's auc: 0.892482\n",
      "[2000]\ttraining's auc: 0.941338\tvalid_1's auc: 0.89631\n",
      "[3000]\ttraining's auc: 0.948111\tvalid_1's auc: 0.897489\n",
      "[4000]\ttraining's auc: 0.954208\tvalid_1's auc: 0.897876\n",
      "[5000]\ttraining's auc: 0.959961\tvalid_1's auc: 0.897656\n",
      "[6000]\ttraining's auc: 0.965436\tvalid_1's auc: 0.897371\n",
      "[7000]\ttraining's auc: 0.970341\tvalid_1's auc: 0.896969\n",
      "Early stopping, best iteration is:\n",
      "[4033]\ttraining's auc: 0.954386\tvalid_1's auc: 0.897896\n",
      "AUC = 0.8978958422085951\n",
      "[[33783  2198]\n",
      " [ 1537  2483]]\n",
      "\n",
      "\n",
      "Fold 2\n",
      "160000\n",
      "151170\n",
      "Training until validation scores don't improve for 3000 rounds.\n",
      "[1000]\ttraining's auc: 0.934072\tvalid_1's auc: 0.890938\n",
      "[2000]\ttraining's auc: 0.941289\tvalid_1's auc: 0.895192\n",
      "[3000]\ttraining's auc: 0.947992\tvalid_1's auc: 0.896549\n",
      "[4000]\ttraining's auc: 0.953998\tvalid_1's auc: 0.896822\n",
      "[5000]\ttraining's auc: 0.959898\tvalid_1's auc: 0.896462\n",
      "[6000]\ttraining's auc: 0.965298\tvalid_1's auc: 0.896116\n",
      "Early stopping, best iteration is:\n",
      "[3759]\ttraining's auc: 0.952637\tvalid_1's auc: 0.896922\n",
      "AUC = 0.8969222260017311\n",
      "[[33725  2255]\n",
      " [ 1533  2487]]\n",
      "\n",
      "\n",
      "Fold 3\n",
      "160001\n",
      "151177\n",
      "Training until validation scores don't improve for 3000 rounds.\n",
      "[1000]\ttraining's auc: 0.933833\tvalid_1's auc: 0.893051\n",
      "[2000]\ttraining's auc: 0.941134\tvalid_1's auc: 0.896743\n",
      "[3000]\ttraining's auc: 0.94794\tvalid_1's auc: 0.897858\n",
      "[4000]\ttraining's auc: 0.954047\tvalid_1's auc: 0.897911\n",
      "[5000]\ttraining's auc: 0.959832\tvalid_1's auc: 0.897587\n",
      "[6000]\ttraining's auc: 0.965111\tvalid_1's auc: 0.896954\n",
      "Early stopping, best iteration is:\n",
      "[3602]\ttraining's auc: 0.951741\tvalid_1's auc: 0.898102\n",
      "AUC = 0.8981015620494148\n",
      "[[33732  2248]\n",
      " [ 1523  2496]]\n",
      "\n",
      "\n",
      "Fold 4\n",
      "160001\n",
      "151152\n",
      "Training until validation scores don't improve for 3000 rounds.\n",
      "[1000]\ttraining's auc: 0.932592\tvalid_1's auc: 0.898723\n",
      "[2000]\ttraining's auc: 0.939736\tvalid_1's auc: 0.902618\n",
      "[3000]\ttraining's auc: 0.946669\tvalid_1's auc: 0.903847\n",
      "[4000]\ttraining's auc: 0.952846\tvalid_1's auc: 0.904225\n",
      "[5000]\ttraining's auc: 0.958796\tvalid_1's auc: 0.903984\n",
      "[6000]\ttraining's auc: 0.964205\tvalid_1's auc: 0.903619\n"
     ]
    }
   ],
   "source": [
    "folds = StratifiedKFold(n_splits=fold_num, shuffle=True, random_state=SEED)\n",
    "oof_preds = np.zeros((len(x_train), 1))\n",
    "test_preds = np.zeros((len(x_test), 1))\n",
    "\n",
    "for fold_, (trn_idx, val_idx) in enumerate(folds.split(x_train.values, y_train.values)):\n",
    "    print(\"\\n\")\n",
    "    print(\"Fold {}\".format(fold_))\n",
    "    \n",
    "    train_df_NoiseDel=train_df.iloc[trn_idx]\n",
    "    print(len(train_df_NoiseDel))\n",
    "    train_df_NoiseDel=train_df_NoiseDel[~((train_df['mean']>0.5) & (train_df['target']==0))]\n",
    "    print(len(train_df_NoiseDel))\n",
    "    trn_x=train_df_NoiseDel.drop(train_drop_col,axis=1)\n",
    "    trn_y=train_df_NoiseDel[train_label]\n",
    "\n",
    "#    trn_x,trn_y = x_train.iloc[trn_idx], y_train.iloc[trn_idx]\n",
    "    val_x,val_y = x_train.iloc[val_idx], y_train.iloc[val_idx]\n",
    "    trn_data = lgb.Dataset(trn_x,trn_y)\n",
    "    val_data = lgb.Dataset(val_x,val_y)\n",
    "    \n",
    "    num_round = 1000000\n",
    "    clf = lgb.train(param, trn_data, num_round, valid_sets = [trn_data, val_data], verbose_eval=1000, early_stopping_rounds = 3000)\n",
    "    val_pred = clf.predict(val_x, num_iteration=clf.best_iteration)\n",
    "    test_pred = clf.predict(x_test, num_iteration=clf.best_iteration)\n",
    "    \n",
    "    print(\"AUC = {}\".format(roc_auc_score(val_y, val_pred)))\n",
    "    #print(\"val = {}\".format(val_pred)\n",
    "    oof_preds[val_idx, :] = val_pred.reshape((-1, 1))\n",
    "    test_preds += test_pred.reshape((-1, 1))\n",
    "    \n",
    "    print(confusion_matrix(val_y, pd.DataFrame(np.round(val_pred))))\n",
    "    \n",
    "test_preds /= fold_num\n",
    "roc_score = roc_auc_score(y_train, oof_preds.ravel())\n",
    "print(\"Overall AUC = {}\".format(roc_score))\n",
    "print(confusion_matrix(y_train, pd.DataFrame(np.round(oof_preds))))"
   ]
  },
  {
   "cell_type": "code",
   "execution_count": null,
   "metadata": {},
   "outputs": [],
   "source": [
    "#結果保存\n",
    "if (submit_flg ==1 and sampling_flg==0):\n",
    "    series_oof_preds = pd.Series(data=oof_preds[:,0], name=save_col_name, dtype='float')\n",
    "    series_oof_preds.to_csv(train_preds_dir,header=True, index=False)\n",
    "\n",
    "    sample = pd.read_csv(sample_submission_dir)\n",
    "    sample.target = test_preds[:,0].astype(float)\n",
    "    sample.ID_code = test_df['ID_code']\n",
    "    sample.to_csv(test_preds_dir, index=False)\n",
    "    "
   ]
  },
  {
   "cell_type": "code",
   "execution_count": null,
   "metadata": {},
   "outputs": [],
   "source": []
  }
 ],
 "metadata": {
  "kernelspec": {
   "display_name": "Python 3",
   "language": "python",
   "name": "python3"
  },
  "language_info": {
   "codemirror_mode": {
    "name": "ipython",
    "version": 3
   },
   "file_extension": ".py",
   "mimetype": "text/x-python",
   "name": "python",
   "nbconvert_exporter": "python",
   "pygments_lexer": "ipython3",
   "version": "3.6.5"
  }
 },
 "nbformat": 4,
 "nbformat_minor": 2
}
