{
 "cells": [
  {
   "cell_type": "code",
   "execution_count": 1,
   "metadata": {},
   "outputs": [
    {
     "name": "stderr",
     "output_type": "stream",
     "text": [
      "/home/ubuntu/anaconda3/lib/python3.6/site-packages/sklearn/cross_validation.py:41: DeprecationWarning: This module was deprecated in version 0.18 in favor of the model_selection module into which all the refactored classes and functions are moved. Also note that the interface of the new CV iterators are different from that of this module. This module will be removed in 0.20.\n",
      "  \"This module will be removed in 0.20.\", DeprecationWarning)\n",
      "/home/ubuntu/anaconda3/lib/python3.6/site-packages/sklearn/grid_search.py:42: DeprecationWarning: This module was deprecated in version 0.18 in favor of the model_selection module into which all the refactored classes and functions are moved. This module will be removed in 0.20.\n",
      "  DeprecationWarning)\n"
     ]
    }
   ],
   "source": [
    "import gc\n",
    "import os\n",
    "import logging\n",
    "import datetime\n",
    "import warnings\n",
    "import numpy as np\n",
    "import pandas as pd\n",
    "import seaborn as sns\n",
    "import lightgbm as lgb\n",
    "import matplotlib.pyplot as plt\n",
    "from sklearn.metrics import mean_squared_error\n",
    "from sklearn.metrics import roc_auc_score, roc_curve\n",
    "from sklearn.model_selection import StratifiedKFold\n",
    "from sklearn.model_selection import ShuffleSplit\n",
    "\n",
    "from sklearn.model_selection import GridSearchCV\n",
    "from sklearn.grid_search import RandomizedSearchCV\n",
    "\n",
    "warnings.filterwarnings('ignore')\n"
   ]
  },
  {
   "cell_type": "markdown",
   "metadata": {},
   "source": [
    "基本変数定義"
   ]
  },
  {
   "cell_type": "code",
   "execution_count": 2,
   "metadata": {},
   "outputs": [],
   "source": [
    "sampling_flg=0 #サンプリング有無をコントロール\n",
    "submit_flg=1 #保存するかをコントロール（サンプリングしない時のみ）\n",
    "\n",
    "#SEED=12345\n",
    "sample_num=5000\n",
    "fold_num=5\n",
    "\n",
    "#train関連\n",
    "train_dir='../../02_feature/101_train.csv'\n",
    "train_drop_col=['ID_code', 'target']\n",
    "train_label='target'\n",
    "\n",
    "#test関連\n",
    "test_dir='../../02_feature/101_test.csv'\n",
    "test_drop_col=['ID_code']\n",
    "\n",
    "#結果ファイル関連　nameは自分の名前に変更する\n",
    "train_preds_dir='../../03_predict_train/oka_219_LightGBM_seed_train.csv'\n",
    "test_preds_dir='../../04_predict_test/oka_219_LightGBM_seed_submission.csv'\n",
    "save_col_name='oof_xgb'\n",
    "\n",
    "sample_submission_dir='../../01_input/sample_submission.csv'\n",
    "submission_target_col_name='target'\n",
    "submission_id_col_name='ID_code'"
   ]
  },
  {
   "cell_type": "markdown",
   "metadata": {},
   "source": [
    "前処理"
   ]
  },
  {
   "cell_type": "code",
   "execution_count": 3,
   "metadata": {},
   "outputs": [],
   "source": [
    "#ロード\n",
    "train_df=pd.read_csv(train_dir)\n",
    "test_df=pd.read_csv(test_dir)"
   ]
  },
  {
   "cell_type": "code",
   "execution_count": 4,
   "metadata": {},
   "outputs": [],
   "source": [
    "#サンプリング\n",
    "if sampling_flg ==1:\n",
    "    train_df=train_df.sample(n=sample_num,random_state=1)\n",
    "    test_df=test_df.sample(n=sample_num,random_state=1)"
   ]
  },
  {
   "cell_type": "code",
   "execution_count": 5,
   "metadata": {},
   "outputs": [],
   "source": [
    "#x,y作成\n",
    "x_train=train_df.drop(train_drop_col,axis=1)\n",
    "y_train=train_df[train_label]\n",
    "x_test=test_df.drop(test_drop_col,axis=1)"
   ]
  },
  {
   "cell_type": "markdown",
   "metadata": {},
   "source": [
    "モデル実行"
   ]
  },
  {
   "cell_type": "code",
   "execution_count": null,
   "metadata": {},
   "outputs": [
    {
     "name": "stdout",
     "output_type": "stream",
     "text": [
      "0\n",
      "\n",
      "\n",
      "Fold 0\n",
      "Training until validation scores don't improve for 2000 rounds.\n",
      "[1000]\ttraining's auc: 0.794203\tvalid_1's auc: 0.786541\n"
     ]
    }
   ],
   "source": [
    "#model_param\n",
    "all_oof_preds = np.zeros((len(x_train), 1))\n",
    "all_test_preds = np.zeros((len(x_test), 1))\n",
    "for SEED in range(0,9):\n",
    "    print(SEED)\n",
    "    param = {\n",
    "            'num_leaves': 2,\n",
    "            'max_bin': 63,\n",
    "            'min_data_in_leaf': 45,\n",
    "            'learning_rate': 0.01,\n",
    "            'min_sum_hessian_in_leaf': 0.000446,\n",
    "            'bagging_fraction': 0.55, \n",
    "            'bagging_freq': 5, \n",
    "            'max_depth': 14,\n",
    "            'save_binary': True,\n",
    "            'seed': SEED,\n",
    "            'feature_fraction_seed': SEED,\n",
    "            'feature_fraction': 0.51,\n",
    "            'bagging_seed': SEED,\n",
    "            'drop_seed': SEED,\n",
    "            'data_random_seed': SEED,\n",
    "            'objective': 'binary',\n",
    "            'boosting_type': 'gbdt',\n",
    "            'verbose': 1,\n",
    "            'metric': 'auc',\n",
    "            'is_unbalance': True,\n",
    "            'boost_from_average': False,\n",
    "        }\n",
    "\n",
    "    folds = StratifiedKFold(n_splits=fold_num, shuffle=True, random_state=SEED)\n",
    "    oof_preds = np.zeros((len(x_train), 1))\n",
    "    test_preds = np.zeros((len(x_test), 1))\n",
    "\n",
    "    for fold_, (trn_idx, val_idx) in enumerate(folds.split(x_train.values, y_train.values)):\n",
    "        print(\"\\n\")\n",
    "        print(\"Fold {}\".format(fold_))\n",
    "        trn_x,trn_y = x_train.iloc[trn_idx], y_train.iloc[trn_idx]\n",
    "        val_x,val_y = x_train.iloc[val_idx], y_train.iloc[val_idx]\n",
    "        trn_data = lgb.Dataset(trn_x,trn_y)\n",
    "        val_data = lgb.Dataset(val_x,val_y)\n",
    "\n",
    "        num_round = 50000\n",
    "        clf = lgb.train(param, trn_data, num_round, valid_sets = [trn_data, val_data], verbose_eval=1000, early_stopping_rounds = 2000)\n",
    "        val_pred = clf.predict(val_x, num_iteration=clf.best_iteration)\n",
    "        test_pred = clf.predict(x_test, num_iteration=clf.best_iteration)\n",
    "\n",
    "        print(\"AUC = {}\".format(roc_auc_score(val_y, val_pred)))\n",
    "        #print(\"val = {}\".format(val_pred)\n",
    "        oof_preds[val_idx, :] = val_pred.reshape((-1, 1))\n",
    "        test_preds += test_pred.reshape((-1, 1))\n",
    "\n",
    "    test_preds /= fold_num\n",
    "    roc_score = roc_auc_score(y_train, oof_preds.ravel())\n",
    "    print(\"Overall AUC = {}\".format(roc_score))\n",
    "    \n",
    "    all_oof_preds+=oof_preds\n",
    "    all_test_preds+=test_preds\n",
    "    \n",
    "all_oof_preds/=10\n",
    "all_test_preds/=10"
   ]
  },
  {
   "cell_type": "code",
   "execution_count": null,
   "metadata": {},
   "outputs": [],
   "source": [
    "#結果保存\n",
    "if (submit_flg ==1 and sampling_flg==0):\n",
    "    series_oof_preds = pd.Series(data=oof_preds[:,0], name=save_col_name, dtype='float')\n",
    "    series_oof_preds.to_csv(train_preds_dir,header=True, index=False)\n",
    "\n",
    "    sample = pd.read_csv(sample_submission_dir)\n",
    "    sample.target = test_preds[:,0].astype(float)\n",
    "    sample.ID_code = test_df['ID_code']\n",
    "    sample.to_csv(test_preds_dir, index=False)\n",
    "    "
   ]
  },
  {
   "cell_type": "code",
   "execution_count": null,
   "metadata": {},
   "outputs": [],
   "source": []
  }
 ],
 "metadata": {
  "kernelspec": {
   "display_name": "Python 3",
   "language": "python",
   "name": "python3"
  },
  "language_info": {
   "codemirror_mode": {
    "name": "ipython",
    "version": 3
   },
   "file_extension": ".py",
   "mimetype": "text/x-python",
   "name": "python",
   "nbconvert_exporter": "python",
   "pygments_lexer": "ipython3",
   "version": "3.6.5"
  }
 },
 "nbformat": 4,
 "nbformat_minor": 2
}
