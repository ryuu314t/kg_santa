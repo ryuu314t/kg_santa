{
 "cells": [
  {
   "cell_type": "code",
   "execution_count": 16,
   "metadata": {},
   "outputs": [],
   "source": [
    "import gc\n",
    "import os\n",
    "import logging\n",
    "import datetime\n",
    "import warnings\n",
    "import numpy as np\n",
    "import pandas as pd\n",
    "import seaborn as sns\n",
    "import lightgbm as lgb\n",
    "import matplotlib.pyplot as plt\n",
    "from sklearn.metrics import mean_squared_error\n",
    "from sklearn.metrics import roc_auc_score, roc_curve\n",
    "from sklearn.model_selection import StratifiedKFold\n",
    "from sklearn.model_selection import ShuffleSplit\n",
    "\n",
    "from sklearn.metrics import confusion_matrix\n",
    "from sklearn.metrics import accuracy_score\n",
    "\n",
    "\n",
    "warnings.filterwarnings('ignore')\n"
   ]
  },
  {
   "cell_type": "markdown",
   "metadata": {},
   "source": [
    "基本変数定義"
   ]
  },
  {
   "cell_type": "code",
   "execution_count": 2,
   "metadata": {},
   "outputs": [],
   "source": [
    "sampling_flg=0 #サンプリング有無をコントロール\n",
    "submit_flg=1 #保存するかをコントロール（サンプリングしない時のみ）\n",
    "\n",
    "SEED=12345\n",
    "sample_num=10000\n",
    "fold_num=5\n",
    "\n",
    "#train関連\n",
    "train_dir='../../01_input/train.csv'\n",
    "train_drop_col=['ID_code', 'target']\n",
    "train_label='target'\n",
    "\n",
    "#test関連\n",
    "test_dir='../../01_input/test.csv'\n",
    "test_drop_col=['ID_code']\n",
    "\n",
    "#結果ファイル関連　nameは自分の名前に変更する\n",
    "train_preds_dir='../../03_predict_train/oka_249-2_LightGBM_train.csv'\n",
    "test_preds_dir='../../04_predict_test/oka_249-2_LightGBM_submission.csv'\n",
    "save_col_name='oof_xgb'\n",
    "\n",
    "sample_submission_dir='../../01_input/sample_submission.csv'\n",
    "submission_target_col_name='target'\n",
    "submission_id_col_name='ID_code'"
   ]
  },
  {
   "cell_type": "markdown",
   "metadata": {},
   "source": [
    "前処理"
   ]
  },
  {
   "cell_type": "code",
   "execution_count": 3,
   "metadata": {},
   "outputs": [],
   "source": [
    "#ロード\n",
    "train_df=pd.read_csv(train_dir)\n",
    "test_df=pd.read_csv(test_dir)"
   ]
  },
  {
   "cell_type": "code",
   "execution_count": 4,
   "metadata": {},
   "outputs": [],
   "source": [
    "#サンプリング\n",
    "if sampling_flg ==1:\n",
    "    train_df=train_df.sample(n=sample_num,random_state=SEED)\n",
    "    test_df=test_df.sample(n=sample_num,random_state=SEED)"
   ]
  },
  {
   "cell_type": "code",
   "execution_count": 5,
   "metadata": {},
   "outputs": [],
   "source": [
    "#x,y作成\n",
    "x_train=train_df.drop(train_drop_col,axis=1)\n",
    "y_train=train_df[train_label]\n",
    "x_train_base=train_df.drop(train_drop_col,axis=1)\n",
    "y_train_base=train_df[train_label]\n",
    "x_test=test_df.drop(test_drop_col,axis=1)"
   ]
  },
  {
   "cell_type": "code",
   "execution_count": 6,
   "metadata": {},
   "outputs": [
    {
     "data": {
      "text/plain": [
       "204020"
      ]
     },
     "execution_count": 6,
     "metadata": {},
     "output_type": "execute_result"
    }
   ],
   "source": [
    "from imblearn.over_sampling import SMOTE\n",
    "smote = SMOTE(ratio={0:len(train_df[train_df['target']==0]), 1:round(len(train_df[train_df['target']==1])*1.2)}, random_state=0)\n",
    "x_train, y_train = smote.fit_sample(x_train, y_train)\n",
    "len(x_train)"
   ]
  },
  {
   "cell_type": "code",
   "execution_count": 12,
   "metadata": {},
   "outputs": [],
   "source": [
    "x_train=pd.DataFrame(x_train)\n",
    "y_train=pd.DataFrame(y_train)"
   ]
  },
  {
   "cell_type": "code",
   "execution_count": null,
   "metadata": {},
   "outputs": [],
   "source": []
  },
  {
   "cell_type": "markdown",
   "metadata": {},
   "source": [
    "モデル実行"
   ]
  },
  {
   "cell_type": "code",
   "execution_count": 13,
   "metadata": {},
   "outputs": [],
   "source": [
    "#model_param\n",
    "param = {\n",
    "    \"objective\" : \"binary\", \n",
    "    \"boost\":\"gbdt\",\n",
    "    \"metric\":\"auc\",\n",
    "    \"boost_from_average\":\"false\",\n",
    "    \"num_threads\":28,\n",
    "    \"learning_rate\" : 0.01,\n",
    "    \"num_leaves\" : 13,\n",
    "    \"max_depth\":-1,\n",
    "    \"tree_learner\" : \"serial\",\n",
    "    \"feature_fraction\" : 0.05,\n",
    "    \"bagging_freq\" : 5,\n",
    "    \"bagging_fraction\" : 0.4,\n",
    "    \"min_data_in_leaf\" : 80,\n",
    "    \"min_sum_hessian_in_leaf\" : 10.0,\n",
    "    \"verbosity\" : 1,\n",
    "    'seed': 44000,\n",
    "    }"
   ]
  },
  {
   "cell_type": "code",
   "execution_count": 14,
   "metadata": {},
   "outputs": [
    {
     "name": "stdout",
     "output_type": "stream",
     "text": [
      "\n",
      "\n",
      "Fold 0\n",
      "Training until validation scores don't improve for 3000 rounds.\n",
      "[1000]\ttraining's auc: 0.884564\tvalid_1's auc: 0.864818\n",
      "[2000]\ttraining's auc: 0.899992\tvalid_1's auc: 0.876491\n",
      "[3000]\ttraining's auc: 0.910695\tvalid_1's auc: 0.88332\n",
      "[4000]\ttraining's auc: 0.918145\tvalid_1's auc: 0.887393\n",
      "[5000]\ttraining's auc: 0.923818\tvalid_1's auc: 0.88956\n",
      "[6000]\ttraining's auc: 0.928699\tvalid_1's auc: 0.890921\n",
      "[7000]\ttraining's auc: 0.933173\tvalid_1's auc: 0.891699\n",
      "[8000]\ttraining's auc: 0.937368\tvalid_1's auc: 0.892442\n",
      "[9000]\ttraining's auc: 0.941246\tvalid_1's auc: 0.892906\n",
      "[10000]\ttraining's auc: 0.944948\tvalid_1's auc: 0.893345\n",
      "[11000]\ttraining's auc: 0.948572\tvalid_1's auc: 0.893873\n",
      "[12000]\ttraining's auc: 0.952085\tvalid_1's auc: 0.894178\n",
      "[13000]\ttraining's auc: 0.955346\tvalid_1's auc: 0.894374\n",
      "[14000]\ttraining's auc: 0.958486\tvalid_1's auc: 0.8946\n",
      "[15000]\ttraining's auc: 0.961533\tvalid_1's auc: 0.894839\n",
      "[16000]\ttraining's auc: 0.964366\tvalid_1's auc: 0.894878\n",
      "[17000]\ttraining's auc: 0.967081\tvalid_1's auc: 0.895247\n",
      "[18000]\ttraining's auc: 0.969654\tvalid_1's auc: 0.895507\n",
      "[19000]\ttraining's auc: 0.97209\tvalid_1's auc: 0.895707\n",
      "[20000]\ttraining's auc: 0.974387\tvalid_1's auc: 0.895876\n",
      "[21000]\ttraining's auc: 0.976514\tvalid_1's auc: 0.896006\n",
      "[22000]\ttraining's auc: 0.978554\tvalid_1's auc: 0.896063\n",
      "[23000]\ttraining's auc: 0.980431\tvalid_1's auc: 0.896333\n",
      "[24000]\ttraining's auc: 0.982184\tvalid_1's auc: 0.896413\n",
      "[25000]\ttraining's auc: 0.983802\tvalid_1's auc: 0.896568\n",
      "[26000]\ttraining's auc: 0.985339\tvalid_1's auc: 0.896563\n",
      "[27000]\ttraining's auc: 0.98672\tvalid_1's auc: 0.896682\n",
      "[28000]\ttraining's auc: 0.988033\tvalid_1's auc: 0.896757\n",
      "[29000]\ttraining's auc: 0.989259\tvalid_1's auc: 0.896933\n",
      "[30000]\ttraining's auc: 0.99032\tvalid_1's auc: 0.896968\n",
      "[31000]\ttraining's auc: 0.991337\tvalid_1's auc: 0.896974\n",
      "[32000]\ttraining's auc: 0.992238\tvalid_1's auc: 0.897133\n",
      "[33000]\ttraining's auc: 0.99309\tvalid_1's auc: 0.897202\n",
      "[34000]\ttraining's auc: 0.993834\tvalid_1's auc: 0.8972\n",
      "[35000]\ttraining's auc: 0.994525\tvalid_1's auc: 0.897345\n",
      "[36000]\ttraining's auc: 0.995158\tvalid_1's auc: 0.89743\n",
      "[37000]\ttraining's auc: 0.995745\tvalid_1's auc: 0.89756\n",
      "[38000]\ttraining's auc: 0.99624\tvalid_1's auc: 0.897592\n",
      "[39000]\ttraining's auc: 0.996702\tvalid_1's auc: 0.897616\n",
      "[40000]\ttraining's auc: 0.997115\tvalid_1's auc: 0.897643\n",
      "[41000]\ttraining's auc: 0.997468\tvalid_1's auc: 0.897749\n",
      "[42000]\ttraining's auc: 0.997803\tvalid_1's auc: 0.897786\n",
      "[43000]\ttraining's auc: 0.998077\tvalid_1's auc: 0.897953\n",
      "[44000]\ttraining's auc: 0.998331\tvalid_1's auc: 0.898007\n",
      "[45000]\ttraining's auc: 0.998565\tvalid_1's auc: 0.898081\n",
      "[46000]\ttraining's auc: 0.99876\tvalid_1's auc: 0.898166\n",
      "[47000]\ttraining's auc: 0.998943\tvalid_1's auc: 0.898179\n",
      "[48000]\ttraining's auc: 0.999096\tvalid_1's auc: 0.898205\n",
      "[49000]\ttraining's auc: 0.999227\tvalid_1's auc: 0.898293\n",
      "[50000]\ttraining's auc: 0.999338\tvalid_1's auc: 0.898402\n",
      "[51000]\ttraining's auc: 0.999442\tvalid_1's auc: 0.898394\n",
      "[52000]\ttraining's auc: 0.999525\tvalid_1's auc: 0.898469\n",
      "[53000]\ttraining's auc: 0.999596\tvalid_1's auc: 0.898462\n",
      "[54000]\ttraining's auc: 0.999659\tvalid_1's auc: 0.898464\n",
      "[55000]\ttraining's auc: 0.999709\tvalid_1's auc: 0.898477\n",
      "[56000]\ttraining's auc: 0.999756\tvalid_1's auc: 0.898514\n",
      "[57000]\ttraining's auc: 0.999798\tvalid_1's auc: 0.898648\n",
      "[58000]\ttraining's auc: 0.999832\tvalid_1's auc: 0.898632\n",
      "[59000]\ttraining's auc: 0.999861\tvalid_1's auc: 0.89866\n",
      "[60000]\ttraining's auc: 0.999886\tvalid_1's auc: 0.898674\n",
      "[61000]\ttraining's auc: 0.999905\tvalid_1's auc: 0.898673\n",
      "[62000]\ttraining's auc: 0.999922\tvalid_1's auc: 0.898694\n",
      "[63000]\ttraining's auc: 0.999935\tvalid_1's auc: 0.898687\n",
      "[64000]\ttraining's auc: 0.999946\tvalid_1's auc: 0.898706\n",
      "[65000]\ttraining's auc: 0.999955\tvalid_1's auc: 0.898828\n",
      "[66000]\ttraining's auc: 0.999962\tvalid_1's auc: 0.898884\n",
      "[67000]\ttraining's auc: 0.999969\tvalid_1's auc: 0.898973\n",
      "[68000]\ttraining's auc: 0.999975\tvalid_1's auc: 0.898992\n",
      "[69000]\ttraining's auc: 0.999979\tvalid_1's auc: 0.899072\n",
      "[70000]\ttraining's auc: 0.999982\tvalid_1's auc: 0.899157\n",
      "[71000]\ttraining's auc: 0.999985\tvalid_1's auc: 0.899172\n",
      "[72000]\ttraining's auc: 0.999988\tvalid_1's auc: 0.899221\n",
      "[73000]\ttraining's auc: 0.999989\tvalid_1's auc: 0.899254\n",
      "[74000]\ttraining's auc: 0.999991\tvalid_1's auc: 0.899276\n",
      "[75000]\ttraining's auc: 0.999992\tvalid_1's auc: 0.899325\n",
      "[76000]\ttraining's auc: 0.999993\tvalid_1's auc: 0.899379\n",
      "[77000]\ttraining's auc: 0.999994\tvalid_1's auc: 0.899426\n",
      "[78000]\ttraining's auc: 0.999995\tvalid_1's auc: 0.899466\n",
      "[79000]\ttraining's auc: 0.999995\tvalid_1's auc: 0.899504\n",
      "[80000]\ttraining's auc: 0.999996\tvalid_1's auc: 0.899527\n",
      "[81000]\ttraining's auc: 0.999996\tvalid_1's auc: 0.899575\n",
      "[82000]\ttraining's auc: 0.999997\tvalid_1's auc: 0.899601\n",
      "[83000]\ttraining's auc: 0.999997\tvalid_1's auc: 0.899638\n",
      "[84000]\ttraining's auc: 0.999997\tvalid_1's auc: 0.899644\n",
      "[85000]\ttraining's auc: 0.999997\tvalid_1's auc: 0.899649\n",
      "[86000]\ttraining's auc: 0.999997\tvalid_1's auc: 0.899696\n",
      "[87000]\ttraining's auc: 0.999997\tvalid_1's auc: 0.899744\n",
      "[88000]\ttraining's auc: 0.999997\tvalid_1's auc: 0.899735\n",
      "[89000]\ttraining's auc: 0.999997\tvalid_1's auc: 0.899747\n",
      "[90000]\ttraining's auc: 0.999997\tvalid_1's auc: 0.899767\n",
      "[91000]\ttraining's auc: 0.999998\tvalid_1's auc: 0.899776\n",
      "[92000]\ttraining's auc: 0.999997\tvalid_1's auc: 0.899828\n",
      "[93000]\ttraining's auc: 0.999998\tvalid_1's auc: 0.899851\n",
      "[94000]\ttraining's auc: 0.999998\tvalid_1's auc: 0.899905\n",
      "[95000]\ttraining's auc: 0.999998\tvalid_1's auc: 0.899869\n",
      "[96000]\ttraining's auc: 0.999998\tvalid_1's auc: 0.899897\n",
      "[97000]\ttraining's auc: 0.999998\tvalid_1's auc: 0.899869\n",
      "[98000]\ttraining's auc: 0.999998\tvalid_1's auc: 0.899931\n",
      "[99000]\ttraining's auc: 0.999998\tvalid_1's auc: 0.899963\n",
      "[100000]\ttraining's auc: 0.999998\tvalid_1's auc: 0.900014\n",
      "[101000]\ttraining's auc: 0.999998\tvalid_1's auc: 0.900053\n",
      "[102000]\ttraining's auc: 0.999998\tvalid_1's auc: 0.900043\n",
      "[103000]\ttraining's auc: 0.999998\tvalid_1's auc: 0.900115\n",
      "[104000]\ttraining's auc: 0.999998\tvalid_1's auc: 0.900123\n",
      "[105000]\ttraining's auc: 0.999998\tvalid_1's auc: 0.900144\n",
      "[106000]\ttraining's auc: 0.999998\tvalid_1's auc: 0.90016\n",
      "[107000]\ttraining's auc: 0.999998\tvalid_1's auc: 0.900176\n",
      "[108000]\ttraining's auc: 0.999998\tvalid_1's auc: 0.900144\n",
      "[109000]\ttraining's auc: 0.999998\tvalid_1's auc: 0.90023\n",
      "[110000]\ttraining's auc: 0.999999\tvalid_1's auc: 0.900272\n",
      "[111000]\ttraining's auc: 0.999999\tvalid_1's auc: 0.900292\n",
      "[112000]\ttraining's auc: 0.999999\tvalid_1's auc: 0.900317\n",
      "[113000]\ttraining's auc: 0.999999\tvalid_1's auc: 0.900301\n",
      "[114000]\ttraining's auc: 0.999999\tvalid_1's auc: 0.900336\n",
      "[115000]\ttraining's auc: 0.999999\tvalid_1's auc: 0.900398\n",
      "[116000]\ttraining's auc: 0.999999\tvalid_1's auc: 0.900424\n",
      "Early stopping, best iteration is:\n",
      "[113025]\ttraining's auc: 0.999999\tvalid_1's auc: 0.900309\n",
      "AUC = 0.9003091702212651\n"
     ]
    },
    {
     "ename": "NameError",
     "evalue": "name 'confusion_matrix' is not defined",
     "output_type": "error",
     "traceback": [
      "\u001b[0;31m---------------------------------------------------------------------------\u001b[0m",
      "\u001b[0;31mNameError\u001b[0m                                 Traceback (most recent call last)",
      "\u001b[0;32m<ipython-input-14-178f7161ec20>\u001b[0m in \u001b[0;36m<module>\u001b[0;34m()\u001b[0m\n\u001b[1;32m     19\u001b[0m \u001b[0;34m\u001b[0m\u001b[0m\n\u001b[1;32m     20\u001b[0m     \u001b[0mprint\u001b[0m\u001b[0;34m(\u001b[0m\u001b[0;34m\"AUC = {}\"\u001b[0m\u001b[0;34m.\u001b[0m\u001b[0mformat\u001b[0m\u001b[0;34m(\u001b[0m\u001b[0mroc_auc_score\u001b[0m\u001b[0;34m(\u001b[0m\u001b[0mval_y\u001b[0m\u001b[0;34m,\u001b[0m \u001b[0mval_pred\u001b[0m\u001b[0;34m)\u001b[0m\u001b[0;34m)\u001b[0m\u001b[0;34m)\u001b[0m\u001b[0;34m\u001b[0m\u001b[0m\n\u001b[0;32m---> 21\u001b[0;31m     \u001b[0mprint\u001b[0m\u001b[0;34m(\u001b[0m\u001b[0mconfusion_matrix\u001b[0m\u001b[0;34m(\u001b[0m\u001b[0mval_y\u001b[0m\u001b[0;34m,\u001b[0m \u001b[0mpd\u001b[0m\u001b[0;34m.\u001b[0m\u001b[0mDataFrame\u001b[0m\u001b[0;34m(\u001b[0m\u001b[0mnp\u001b[0m\u001b[0;34m.\u001b[0m\u001b[0mround\u001b[0m\u001b[0;34m(\u001b[0m\u001b[0mval_pred\u001b[0m\u001b[0;34m)\u001b[0m\u001b[0;34m)\u001b[0m\u001b[0;34m)\u001b[0m\u001b[0;34m)\u001b[0m\u001b[0;34m\u001b[0m\u001b[0m\n\u001b[0m\u001b[1;32m     22\u001b[0m \u001b[0;34m\u001b[0m\u001b[0m\n\u001b[1;32m     23\u001b[0m     \u001b[0mprint\u001b[0m\u001b[0;34m(\u001b[0m\u001b[0;34m\"Base AUC = {}\"\u001b[0m\u001b[0;34m.\u001b[0m\u001b[0mformat\u001b[0m\u001b[0;34m(\u001b[0m\u001b[0mroc_auc_score\u001b[0m\u001b[0;34m(\u001b[0m\u001b[0my_train_base\u001b[0m\u001b[0;34m,\u001b[0m \u001b[0mtrain_base_pred\u001b[0m\u001b[0;34m)\u001b[0m\u001b[0;34m)\u001b[0m\u001b[0;34m)\u001b[0m\u001b[0;34m\u001b[0m\u001b[0m\n",
      "\u001b[0;31mNameError\u001b[0m: name 'confusion_matrix' is not defined"
     ]
    }
   ],
   "source": [
    "folds = StratifiedKFold(n_splits=fold_num, shuffle=True, random_state=SEED)\n",
    "oof_preds = np.zeros((len(x_train), 1))\n",
    "test_preds = np.zeros((len(x_test), 1))\n",
    "train_base_preds = np.zeros((len(x_train_base), 1))\n",
    "\n",
    "for fold_, (trn_idx, val_idx) in enumerate(folds.split(x_train.values, y_train.values)):\n",
    "    print(\"\\n\")\n",
    "    print(\"Fold {}\".format(fold_))\n",
    "    trn_x,trn_y = x_train.iloc[trn_idx], y_train.iloc[trn_idx]\n",
    "    val_x,val_y = x_train.iloc[val_idx], y_train.iloc[val_idx]\n",
    "    trn_data = lgb.Dataset(trn_x,trn_y)\n",
    "    val_data = lgb.Dataset(val_x,val_y)\n",
    "    \n",
    "    num_round = 1000000\n",
    "    clf = lgb.train(param, trn_data, num_round, valid_sets = [trn_data, val_data], verbose_eval=1000, early_stopping_rounds = 3000)\n",
    "    val_pred = clf.predict(val_x, num_iteration=clf.best_iteration)\n",
    "    test_pred = clf.predict(x_test, num_iteration=clf.best_iteration)\n",
    "    train_base_pred = clf.predict(x_train_base, num_iteration=clf.best_iteration)\n",
    "    \n",
    "    print(\"AUC = {}\".format(roc_auc_score(val_y, val_pred)))\n",
    "    print(confusion_matrix(val_y, pd.DataFrame(np.round(val_pred))))\n",
    "\n",
    "    print(\"Base AUC = {}\".format(roc_auc_score(y_train_base, train_base_pred)))\n",
    "    print(confusion_matrix(y_train_base, pd.DataFrame(np.round(train_base_pred))))\n",
    "    #print(\"val = {}\".format(val_pred)\n",
    "    oof_preds[val_idx, :] = val_pred.reshape((-1, 1))\n",
    "    test_preds += test_pred.reshape((-1, 1))\n",
    "    train_base_preds += train_base_pred.reshape((-1, 1))\n",
    "    \n",
    "    print(confusion_matrix(val_y, pd.DataFrame(np.round(val_pred))))\n",
    "    \n",
    "test_preds /= fold_num\n",
    "train_base_preds /= fold_num\n",
    "roc_score = roc_auc_score(y_train, oof_preds.ravel())\n",
    "print(\"Overall AUC = {}\".format(roc_score))\n",
    "print(confusion_matrix(y_train, pd.DataFrame(np.round(oof_preds))))\n",
    "print(\"Overall Base AUC = {}\".format(roc_auc_score(y_train_base, train_base_preds)))\n",
    "print(confusion_matrix(y_train_base, pd.DataFrame(np.round(train_base_preds))))"
   ]
  },
  {
   "cell_type": "code",
   "execution_count": 17,
   "metadata": {},
   "outputs": [
    {
     "name": "stdout",
     "output_type": "stream",
     "text": [
      "AUC = 0.9003091702212651\n",
      "[[35363   618]\n",
      " [ 2767  2057]]\n",
      "Base AUC = 0.983702251160617\n",
      "[[179284    618]\n",
      " [  2481  17617]]\n",
      "[[35363   618]\n",
      " [ 2767  2057]]\n"
     ]
    }
   ],
   "source": [
    "    print(\"AUC = {}\".format(roc_auc_score(val_y, val_pred)))\n",
    "    print(confusion_matrix(val_y, pd.DataFrame(np.round(val_pred))))\n",
    "\n",
    "    print(\"Base AUC = {}\".format(roc_auc_score(y_train_base, train_base_pred)))\n",
    "    print(confusion_matrix(y_train_base, pd.DataFrame(np.round(train_base_pred))))\n",
    "    #print(\"val = {}\".format(val_pred)\n",
    "    oof_preds[val_idx, :] = val_pred.reshape((-1, 1))\n",
    "    test_preds += test_pred.reshape((-1, 1))\n",
    "    train_base_preds += train_base_pred.reshape((-1, 1))\n",
    "    \n",
    "    print(confusion_matrix(val_y, pd.DataFrame(np.round(val_pred))))\n"
   ]
  },
  {
   "cell_type": "code",
   "execution_count": 18,
   "metadata": {},
   "outputs": [
    {
     "data": {
      "text/plain": [
       "array([[0.15237118],\n",
       "       [0.17867929],\n",
       "       [0.15922308],\n",
       "       ...,\n",
       "       [0.00023065],\n",
       "       [0.05452472],\n",
       "       [0.10223144]])"
      ]
     },
     "execution_count": 18,
     "metadata": {},
     "output_type": "execute_result"
    }
   ],
   "source": [
    "test_preds"
   ]
  },
  {
   "cell_type": "code",
   "execution_count": 19,
   "metadata": {},
   "outputs": [],
   "source": [
    "#結果保存\n",
    "if (submit_flg ==1 and sampling_flg==0):\n",
    "    sample = pd.read_csv(sample_submission_dir)\n",
    "    sample.target = test_preds[:,0].astype(float)\n",
    "    sample.ID_code = test_df['ID_code']\n",
    "    sample.to_csv(test_preds_dir, index=False)\n",
    "    "
   ]
  },
  {
   "cell_type": "code",
   "execution_count": null,
   "metadata": {},
   "outputs": [],
   "source": []
  },
  {
   "cell_type": "code",
   "execution_count": null,
   "metadata": {},
   "outputs": [],
   "source": []
  },
  {
   "cell_type": "code",
   "execution_count": null,
   "metadata": {},
   "outputs": [],
   "source": []
  }
 ],
 "metadata": {
  "kernelspec": {
   "display_name": "Python 3",
   "language": "python",
   "name": "python3"
  },
  "language_info": {
   "codemirror_mode": {
    "name": "ipython",
    "version": 3
   },
   "file_extension": ".py",
   "mimetype": "text/x-python",
   "name": "python",
   "nbconvert_exporter": "python",
   "pygments_lexer": "ipython3",
   "version": "3.6.5"
  }
 },
 "nbformat": 4,
 "nbformat_minor": 2
}
