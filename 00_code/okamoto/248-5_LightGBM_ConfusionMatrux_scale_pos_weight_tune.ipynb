{
 "cells": [
  {
   "cell_type": "code",
   "execution_count": 1,
   "metadata": {},
   "outputs": [
    {
     "name": "stderr",
     "output_type": "stream",
     "text": [
      "/home/ubuntu/anaconda3/lib/python3.6/site-packages/sklearn/cross_validation.py:41: DeprecationWarning: This module was deprecated in version 0.18 in favor of the model_selection module into which all the refactored classes and functions are moved. Also note that the interface of the new CV iterators are different from that of this module. This module will be removed in 0.20.\n",
      "  \"This module will be removed in 0.20.\", DeprecationWarning)\n",
      "/home/ubuntu/anaconda3/lib/python3.6/site-packages/sklearn/grid_search.py:42: DeprecationWarning: This module was deprecated in version 0.18 in favor of the model_selection module into which all the refactored classes and functions are moved. This module will be removed in 0.20.\n",
      "  DeprecationWarning)\n"
     ]
    }
   ],
   "source": [
    "import gc\n",
    "import os\n",
    "import logging\n",
    "import datetime\n",
    "import warnings\n",
    "import numpy as np\n",
    "import pandas as pd\n",
    "import seaborn as sns\n",
    "import lightgbm as lgb\n",
    "import matplotlib.pyplot as plt\n",
    "from sklearn.metrics import mean_squared_error\n",
    "from sklearn.metrics import roc_auc_score, roc_curve\n",
    "from sklearn.model_selection import StratifiedKFold\n",
    "from sklearn.model_selection import ShuffleSplit\n",
    "\n",
    "from sklearn.model_selection import GridSearchCV\n",
    "from sklearn.grid_search import RandomizedSearchCV\n",
    "from sklearn.metrics import confusion_matrix\n",
    "from sklearn.metrics import accuracy_score\n",
    "\n",
    "warnings.filterwarnings('ignore')\n"
   ]
  },
  {
   "cell_type": "markdown",
   "metadata": {},
   "source": [
    "基本変数定義"
   ]
  },
  {
   "cell_type": "code",
   "execution_count": 2,
   "metadata": {},
   "outputs": [],
   "source": [
    "sampling_flg=0 #サンプリング有無をコントロール\n",
    "submit_flg=1 #保存するかをコントロール（サンプリングしない時のみ）\n",
    "\n",
    "SEED=12345\n",
    "sample_num=10000\n",
    "fold_num=5\n",
    "\n",
    "#train関連\n",
    "train_dir='../../01_input/train.csv'\n",
    "train_drop_col=['ID_code', 'target']\n",
    "train_label='target'\n",
    "\n",
    "#test関連\n",
    "test_dir='../../01_input/test.csv'\n",
    "test_drop_col=['ID_code']\n",
    "\n",
    "#結果ファイル関連　nameは自分の名前に変更する\n",
    "train_preds_dir='../../03_predict_train/oka_248-5_LightGBM_train.csv'\n",
    "test_preds_dir='../../04_predict_test/oka_248-5_LightGBM_submission.csv'\n",
    "save_col_name='oof_xgb'\n",
    "\n",
    "sample_submission_dir='../../01_input/sample_submission.csv'\n",
    "submission_target_col_name='target'\n",
    "submission_id_col_name='ID_code'"
   ]
  },
  {
   "cell_type": "markdown",
   "metadata": {},
   "source": [
    "前処理"
   ]
  },
  {
   "cell_type": "code",
   "execution_count": 3,
   "metadata": {},
   "outputs": [],
   "source": [
    "#ロード\n",
    "train_df=pd.read_csv(train_dir)\n",
    "test_df=pd.read_csv(test_dir)"
   ]
  },
  {
   "cell_type": "code",
   "execution_count": 4,
   "metadata": {},
   "outputs": [],
   "source": [
    "#サンプリング\n",
    "if sampling_flg ==1:\n",
    "    train_df=train_df.sample(n=sample_num,random_state=SEED)\n",
    "    test_df=test_df.sample(n=sample_num,random_state=SEED)"
   ]
  },
  {
   "cell_type": "code",
   "execution_count": 5,
   "metadata": {},
   "outputs": [],
   "source": [
    "#x,y作成\n",
    "x_train=train_df.drop(train_drop_col,axis=1)\n",
    "y_train=train_df[train_label]\n",
    "x_test=test_df.drop(test_drop_col,axis=1)"
   ]
  },
  {
   "cell_type": "markdown",
   "metadata": {},
   "source": [
    "モデル実行"
   ]
  },
  {
   "cell_type": "code",
   "execution_count": 6,
   "metadata": {},
   "outputs": [],
   "source": [
    "#model_param\n",
    "param = {\n",
    "    \"objective\" : \"binary\", \n",
    "    \"boost\":\"gbdt\",\n",
    "    \"metric\":\"auc\",\n",
    "    \"boost_from_average\":\"false\",\n",
    "    \"num_threads\":28,\n",
    "    \"learning_rate\" : 0.01,\n",
    "    \"num_leaves\" : 13,\n",
    "    \"max_depth\":-1,\n",
    "    \"tree_learner\" : \"serial\",\n",
    "    \"feature_fraction\" : 0.05,\n",
    "    \"bagging_freq\" : 5,\n",
    "    \"bagging_fraction\" : 0.4,\n",
    "    \"min_data_in_leaf\" : 80,\n",
    "    \"min_sum_hessian_in_leaf\" : 10.0,\n",
    "    \"verbosity\" : 1,\n",
    "    'seed': 44000,\n",
    "    'scale_pos_weight':4\n",
    "    }"
   ]
  },
  {
   "cell_type": "code",
   "execution_count": 7,
   "metadata": {},
   "outputs": [
    {
     "name": "stdout",
     "output_type": "stream",
     "text": [
      "\n",
      "\n",
      "Fold 0\n",
      "Training until validation scores don't improve for 3000 rounds.\n",
      "[1000]\ttraining's auc: 0.906208\tvalid_1's auc: 0.887037\n",
      "[2000]\ttraining's auc: 0.915906\tvalid_1's auc: 0.892421\n",
      "[3000]\ttraining's auc: 0.92354\tvalid_1's auc: 0.89551\n",
      "[4000]\ttraining's auc: 0.929691\tvalid_1's auc: 0.897142\n",
      "[5000]\ttraining's auc: 0.935108\tvalid_1's auc: 0.898062\n",
      "[6000]\ttraining's auc: 0.940195\tvalid_1's auc: 0.898415\n",
      "[7000]\ttraining's auc: 0.944737\tvalid_1's auc: 0.898577\n",
      "[8000]\ttraining's auc: 0.9491\tvalid_1's auc: 0.898605\n",
      "[9000]\ttraining's auc: 0.953197\tvalid_1's auc: 0.898598\n",
      "[10000]\ttraining's auc: 0.957152\tvalid_1's auc: 0.898488\n",
      "[11000]\ttraining's auc: 0.96076\tvalid_1's auc: 0.898252\n",
      "Early stopping, best iteration is:\n",
      "[8568]\ttraining's auc: 0.9515\tvalid_1's auc: 0.898659\n",
      "AUC = 0.8986589522579703\n",
      "[[33802  2179]\n",
      " [ 1543  2477]]\n",
      "\n",
      "\n",
      "Fold 1\n",
      "Training until validation scores don't improve for 3000 rounds.\n",
      "[1000]\ttraining's auc: 0.906138\tvalid_1's auc: 0.886562\n",
      "[2000]\ttraining's auc: 0.915814\tvalid_1's auc: 0.891878\n",
      "[3000]\ttraining's auc: 0.923382\tvalid_1's auc: 0.895075\n",
      "[4000]\ttraining's auc: 0.929675\tvalid_1's auc: 0.896847\n",
      "[5000]\ttraining's auc: 0.93521\tvalid_1's auc: 0.897646\n",
      "[6000]\ttraining's auc: 0.940155\tvalid_1's auc: 0.898121\n",
      "[7000]\ttraining's auc: 0.944813\tvalid_1's auc: 0.898405\n",
      "[8000]\ttraining's auc: 0.949208\tvalid_1's auc: 0.898434\n",
      "[9000]\ttraining's auc: 0.953313\tvalid_1's auc: 0.898441\n",
      "[10000]\ttraining's auc: 0.957274\tvalid_1's auc: 0.898227\n",
      "[11000]\ttraining's auc: 0.960961\tvalid_1's auc: 0.898138\n",
      "Early stopping, best iteration is:\n",
      "[8305]\ttraining's auc: 0.95044\tvalid_1's auc: 0.898472\n",
      "AUC = 0.8984723487976864\n",
      "[[33893  2088]\n",
      " [ 1585  2435]]\n",
      "\n",
      "\n",
      "Fold 2\n",
      "Training until validation scores don't improve for 3000 rounds.\n",
      "[1000]\ttraining's auc: 0.906066\tvalid_1's auc: 0.884901\n",
      "[2000]\ttraining's auc: 0.915792\tvalid_1's auc: 0.890181\n",
      "[3000]\ttraining's auc: 0.92334\tvalid_1's auc: 0.893332\n",
      "[4000]\ttraining's auc: 0.929664\tvalid_1's auc: 0.895365\n",
      "[5000]\ttraining's auc: 0.935175\tvalid_1's auc: 0.896423\n",
      "[6000]\ttraining's auc: 0.940138\tvalid_1's auc: 0.897081\n",
      "[7000]\ttraining's auc: 0.944764\tvalid_1's auc: 0.897533\n",
      "[8000]\ttraining's auc: 0.949155\tvalid_1's auc: 0.897726\n",
      "[9000]\ttraining's auc: 0.953219\tvalid_1's auc: 0.89775\n",
      "[10000]\ttraining's auc: 0.957114\tvalid_1's auc: 0.89778\n",
      "[11000]\ttraining's auc: 0.960772\tvalid_1's auc: 0.897663\n",
      "Early stopping, best iteration is:\n",
      "[8421]\ttraining's auc: 0.950893\tvalid_1's auc: 0.897864\n",
      "AUC = 0.8978636210277131\n",
      "[[33804  2176]\n",
      " [ 1574  2446]]\n",
      "\n",
      "\n",
      "Fold 3\n",
      "Training until validation scores don't improve for 3000 rounds.\n",
      "[1000]\ttraining's auc: 0.905541\tvalid_1's auc: 0.886525\n",
      "[2000]\ttraining's auc: 0.915372\tvalid_1's auc: 0.892253\n",
      "[3000]\ttraining's auc: 0.923232\tvalid_1's auc: 0.895444\n",
      "[4000]\ttraining's auc: 0.929517\tvalid_1's auc: 0.897066\n",
      "[5000]\ttraining's auc: 0.934886\tvalid_1's auc: 0.897932\n",
      "[6000]\ttraining's auc: 0.939938\tvalid_1's auc: 0.898536\n",
      "[7000]\ttraining's auc: 0.944564\tvalid_1's auc: 0.898661\n",
      "[8000]\ttraining's auc: 0.948956\tvalid_1's auc: 0.898686\n",
      "[9000]\ttraining's auc: 0.953119\tvalid_1's auc: 0.898671\n",
      "[10000]\ttraining's auc: 0.957014\tvalid_1's auc: 0.898654\n",
      "[11000]\ttraining's auc: 0.960705\tvalid_1's auc: 0.898613\n",
      "[12000]\ttraining's auc: 0.964135\tvalid_1's auc: 0.89845\n",
      "Early stopping, best iteration is:\n",
      "[9121]\ttraining's auc: 0.953601\tvalid_1's auc: 0.898766\n",
      "AUC = 0.8987659022644109\n",
      "[[33787  2193]\n",
      " [ 1542  2477]]\n",
      "\n",
      "\n",
      "Fold 4\n",
      "Training until validation scores don't improve for 3000 rounds.\n",
      "[1000]\ttraining's auc: 0.90426\tvalid_1's auc: 0.890616\n",
      "[2000]\ttraining's auc: 0.914027\tvalid_1's auc: 0.897227\n",
      "[3000]\ttraining's auc: 0.921732\tvalid_1's auc: 0.900917\n",
      "[4000]\ttraining's auc: 0.928124\tvalid_1's auc: 0.903067\n",
      "[5000]\ttraining's auc: 0.933702\tvalid_1's auc: 0.904259\n",
      "[6000]\ttraining's auc: 0.938773\tvalid_1's auc: 0.904862\n",
      "[7000]\ttraining's auc: 0.943456\tvalid_1's auc: 0.905119\n",
      "[8000]\ttraining's auc: 0.947893\tvalid_1's auc: 0.905181\n",
      "[9000]\ttraining's auc: 0.952044\tvalid_1's auc: 0.905152\n",
      "[10000]\ttraining's auc: 0.956041\tvalid_1's auc: 0.905057\n",
      "Early stopping, best iteration is:\n",
      "[7894]\ttraining's auc: 0.947433\tvalid_1's auc: 0.905241\n",
      "AUC = 0.9052412173360529\n",
      "[[33878  2102]\n",
      " [ 1528  2491]]\n",
      "Overall AUC = 0.8997359445703192\n",
      "[[169164  10738]\n",
      " [  7772  12326]]\n"
     ]
    }
   ],
   "source": [
    "folds = StratifiedKFold(n_splits=fold_num, shuffle=True, random_state=SEED)\n",
    "oof_preds = np.zeros((len(x_train), 1))\n",
    "test_preds = np.zeros((len(x_test), 1))\n",
    "\n",
    "for fold_, (trn_idx, val_idx) in enumerate(folds.split(x_train.values, y_train.values)):\n",
    "    print(\"\\n\")\n",
    "    print(\"Fold {}\".format(fold_))\n",
    "    trn_x,trn_y = x_train.iloc[trn_idx], y_train.iloc[trn_idx]\n",
    "    val_x,val_y = x_train.iloc[val_idx], y_train.iloc[val_idx]\n",
    "    trn_data = lgb.Dataset(trn_x,trn_y)\n",
    "    val_data = lgb.Dataset(val_x,val_y)\n",
    "    \n",
    "    num_round = 1000000\n",
    "    clf = lgb.train(param, trn_data, num_round, valid_sets = [trn_data, val_data], verbose_eval=1000, early_stopping_rounds = 3000)\n",
    "    val_pred = clf.predict(val_x, num_iteration=clf.best_iteration)\n",
    "    test_pred = clf.predict(x_test, num_iteration=clf.best_iteration)\n",
    "    \n",
    "    print(\"AUC = {}\".format(roc_auc_score(val_y, val_pred)))\n",
    "    #print(\"val = {}\".format(val_pred)\n",
    "    oof_preds[val_idx, :] = val_pred.reshape((-1, 1))\n",
    "    test_preds += test_pred.reshape((-1, 1))\n",
    "    \n",
    "    print(confusion_matrix(val_y, pd.DataFrame(np.round(val_pred))))\n",
    "    \n",
    "test_preds /= fold_num\n",
    "roc_score = roc_auc_score(y_train, oof_preds.ravel())\n",
    "print(\"Overall AUC = {}\".format(roc_score))\n",
    "print(confusion_matrix(y_train, pd.DataFrame(np.round(oof_preds))))"
   ]
  },
  {
   "cell_type": "code",
   "execution_count": 8,
   "metadata": {},
   "outputs": [],
   "source": [
    "#結果保存\n",
    "if (submit_flg ==1 and sampling_flg==0):\n",
    "    series_oof_preds = pd.Series(data=oof_preds[:,0], name=save_col_name, dtype='float')\n",
    "    series_oof_preds.to_csv(train_preds_dir,header=True, index=False)\n",
    "\n",
    "    sample = pd.read_csv(sample_submission_dir)\n",
    "    sample.target = test_preds[:,0].astype(float)\n",
    "    sample.ID_code = test_df['ID_code']\n",
    "    sample.to_csv(test_preds_dir, index=False)\n",
    "    "
   ]
  },
  {
   "cell_type": "code",
   "execution_count": null,
   "metadata": {},
   "outputs": [],
   "source": []
  }
 ],
 "metadata": {
  "kernelspec": {
   "display_name": "Python 3",
   "language": "python",
   "name": "python3"
  },
  "language_info": {
   "codemirror_mode": {
    "name": "ipython",
    "version": 3
   },
   "file_extension": ".py",
   "mimetype": "text/x-python",
   "name": "python",
   "nbconvert_exporter": "python",
   "pygments_lexer": "ipython3",
   "version": "3.6.5"
  }
 },
 "nbformat": 4,
 "nbformat_minor": 2
}
